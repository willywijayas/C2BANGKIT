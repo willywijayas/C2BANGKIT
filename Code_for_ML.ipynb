{
  "cells": [
    {
      "cell_type": "markdown",
      "metadata": {
        "id": "view-in-github",
        "colab_type": "text"
      },
      "source": [
        "<a href=\"https://colab.research.google.com/github/willywijayas/C2BANGKIT/blob/main/Code_for_ML.ipynb\" target=\"_parent\"><img src=\"https://colab.research.google.com/assets/colab-badge.svg\" alt=\"Open In Colab\"/></a>"
      ]
    },
    {
      "cell_type": "markdown",
      "metadata": {
        "id": "_RXGP-3Y2KV5"
      },
      "source": [
        "# Cosine Similarity for Recommender Systems "
      ]
    },
    {
      "cell_type": "markdown",
      "metadata": {
        "id": "RGtSUuwsDfZE"
      },
      "source": [
        "## Import Data"
      ]
    },
    {
      "cell_type": "code",
      "execution_count": null,
      "metadata": {
        "id": "VnQHHpIn2nDU"
      },
      "outputs": [],
      "source": [
        "import os \n",
        "import tempfile \n",
        "\n",
        "import numpy as np\n",
        "import pandas as pd"
      ]
    },
    {
      "cell_type": "code",
      "execution_count": null,
      "metadata": {
        "id": "39o-hL0vC-nu"
      },
      "outputs": [],
      "source": [
        "# To Display Output without max columns \n",
        "\n",
        "pd.set_option('display.max_columns', None)\n",
        "pd.set_option('display.max_rows', None)\n"
      ]
    },
    {
      "cell_type": "code",
      "source": [
        "from google.colab import drive\n",
        "drive.mount('/content/drive')"
      ],
      "metadata": {
        "colab": {
          "base_uri": "https://localhost:8080/"
        },
        "id": "M3oAsYsS09ey",
        "outputId": "4d284600-9e37-4ae6-eac1-c69111d50fd1"
      },
      "execution_count": null,
      "outputs": [
        {
          "output_type": "stream",
          "name": "stdout",
          "text": [
            "Mounted at /content/drive\n"
          ]
        }
      ]
    },
    {
      "cell_type": "code",
      "execution_count": null,
      "metadata": {
        "id": "nVS0ptfP3BVj",
        "colab": {
          "base_uri": "https://localhost:8080/"
        },
        "outputId": "709212f7-7147-4c6a-fcee-8f50dd6116b4"
      },
      "outputs": [
        {
          "output_type": "execute_result",
          "data": {
            "text/plain": [
              "      user_id                      jenis_usaha skala_usaha modal_usaha  \\\n",
              "147  70010154  Usaha Pijat dan Perawatan Tubuh       Mikro     5-10 JT   \n",
              "\n",
              "                      bidang_usaha omset_usaha  \\\n",
              "147  Jasa kesehatan dan kecantikan     0-10 JT   \n",
              "\n",
              "                      usia_targetpelanggan gender_targetpelanggan  \\\n",
              "147  12-17 tahun, 18-39 tahun, 40-59 tahun              Perempuan   \n",
              "\n",
              "                             pekerjaan_targetpelanggan  \\\n",
              "147  Pelajar/mahasiswa,\\nPegawai negeri sipil,\\nWir...   \n",
              "\n",
              "         status_targetpelanggan  \\\n",
              "147  Kelas atas, Kelas menengah   \n",
              "\n",
              "                                         jenis_lokasi_  unnamed:_11  \\\n",
              "147  Pusat Kota dan Keramaian, Permukiman penduduk,...          NaN   \n",
              "\n",
              "     unnamed:_12  unnamed:_13  unnamed:_14  unnamed:_15  unnamed:_16  \\\n",
              "147          NaN          NaN          NaN          NaN          NaN   \n",
              "\n",
              "     unnamed:_17  unnamed:_18  unnamed:_19  unnamed:_20  unnamed:_21  \\\n",
              "147          NaN          NaN          NaN          NaN          NaN   \n",
              "\n",
              "     unnamed:_22  unnamed:_23  unnamed:_24 unnamed:_25  \n",
              "147          NaN          NaN          NaN         NaN  "
            ],
            "text/html": [
              "\n",
              "  <div id=\"df-c66b2633-7499-4139-afa8-bf3cee74f553\">\n",
              "    <div class=\"colab-df-container\">\n",
              "      <div>\n",
              "<style scoped>\n",
              "    .dataframe tbody tr th:only-of-type {\n",
              "        vertical-align: middle;\n",
              "    }\n",
              "\n",
              "    .dataframe tbody tr th {\n",
              "        vertical-align: top;\n",
              "    }\n",
              "\n",
              "    .dataframe thead th {\n",
              "        text-align: right;\n",
              "    }\n",
              "</style>\n",
              "<table border=\"1\" class=\"dataframe\">\n",
              "  <thead>\n",
              "    <tr style=\"text-align: right;\">\n",
              "      <th></th>\n",
              "      <th>user_id</th>\n",
              "      <th>jenis_usaha</th>\n",
              "      <th>skala_usaha</th>\n",
              "      <th>modal_usaha</th>\n",
              "      <th>bidang_usaha</th>\n",
              "      <th>omset_usaha</th>\n",
              "      <th>usia_targetpelanggan</th>\n",
              "      <th>gender_targetpelanggan</th>\n",
              "      <th>pekerjaan_targetpelanggan</th>\n",
              "      <th>status_targetpelanggan</th>\n",
              "      <th>jenis_lokasi_</th>\n",
              "      <th>unnamed:_11</th>\n",
              "      <th>unnamed:_12</th>\n",
              "      <th>unnamed:_13</th>\n",
              "      <th>unnamed:_14</th>\n",
              "      <th>unnamed:_15</th>\n",
              "      <th>unnamed:_16</th>\n",
              "      <th>unnamed:_17</th>\n",
              "      <th>unnamed:_18</th>\n",
              "      <th>unnamed:_19</th>\n",
              "      <th>unnamed:_20</th>\n",
              "      <th>unnamed:_21</th>\n",
              "      <th>unnamed:_22</th>\n",
              "      <th>unnamed:_23</th>\n",
              "      <th>unnamed:_24</th>\n",
              "      <th>unnamed:_25</th>\n",
              "    </tr>\n",
              "  </thead>\n",
              "  <tbody>\n",
              "    <tr>\n",
              "      <th>147</th>\n",
              "      <td>70010154</td>\n",
              "      <td>Usaha Pijat dan Perawatan Tubuh</td>\n",
              "      <td>Mikro</td>\n",
              "      <td>5-10 JT</td>\n",
              "      <td>Jasa kesehatan dan kecantikan</td>\n",
              "      <td>0-10 JT</td>\n",
              "      <td>12-17 tahun, 18-39 tahun, 40-59 tahun</td>\n",
              "      <td>Perempuan</td>\n",
              "      <td>Pelajar/mahasiswa,\\nPegawai negeri sipil,\\nWir...</td>\n",
              "      <td>Kelas atas, Kelas menengah</td>\n",
              "      <td>Pusat Kota dan Keramaian, Permukiman penduduk,...</td>\n",
              "      <td>NaN</td>\n",
              "      <td>NaN</td>\n",
              "      <td>NaN</td>\n",
              "      <td>NaN</td>\n",
              "      <td>NaN</td>\n",
              "      <td>NaN</td>\n",
              "      <td>NaN</td>\n",
              "      <td>NaN</td>\n",
              "      <td>NaN</td>\n",
              "      <td>NaN</td>\n",
              "      <td>NaN</td>\n",
              "      <td>NaN</td>\n",
              "      <td>NaN</td>\n",
              "      <td>NaN</td>\n",
              "      <td>NaN</td>\n",
              "    </tr>\n",
              "  </tbody>\n",
              "</table>\n",
              "</div>\n",
              "      <button class=\"colab-df-convert\" onclick=\"convertToInteractive('df-c66b2633-7499-4139-afa8-bf3cee74f553')\"\n",
              "              title=\"Convert this dataframe to an interactive table.\"\n",
              "              style=\"display:none;\">\n",
              "        \n",
              "  <svg xmlns=\"http://www.w3.org/2000/svg\" height=\"24px\"viewBox=\"0 0 24 24\"\n",
              "       width=\"24px\">\n",
              "    <path d=\"M0 0h24v24H0V0z\" fill=\"none\"/>\n",
              "    <path d=\"M18.56 5.44l.94 2.06.94-2.06 2.06-.94-2.06-.94-.94-2.06-.94 2.06-2.06.94zm-11 1L8.5 8.5l.94-2.06 2.06-.94-2.06-.94L8.5 2.5l-.94 2.06-2.06.94zm10 10l.94 2.06.94-2.06 2.06-.94-2.06-.94-.94-2.06-.94 2.06-2.06.94z\"/><path d=\"M17.41 7.96l-1.37-1.37c-.4-.4-.92-.59-1.43-.59-.52 0-1.04.2-1.43.59L10.3 9.45l-7.72 7.72c-.78.78-.78 2.05 0 2.83L4 21.41c.39.39.9.59 1.41.59.51 0 1.02-.2 1.41-.59l7.78-7.78 2.81-2.81c.8-.78.8-2.07 0-2.86zM5.41 20L4 18.59l7.72-7.72 1.47 1.35L5.41 20z\"/>\n",
              "  </svg>\n",
              "      </button>\n",
              "      \n",
              "  <style>\n",
              "    .colab-df-container {\n",
              "      display:flex;\n",
              "      flex-wrap:wrap;\n",
              "      gap: 12px;\n",
              "    }\n",
              "\n",
              "    .colab-df-convert {\n",
              "      background-color: #E8F0FE;\n",
              "      border: none;\n",
              "      border-radius: 50%;\n",
              "      cursor: pointer;\n",
              "      display: none;\n",
              "      fill: #1967D2;\n",
              "      height: 32px;\n",
              "      padding: 0 0 0 0;\n",
              "      width: 32px;\n",
              "    }\n",
              "\n",
              "    .colab-df-convert:hover {\n",
              "      background-color: #E2EBFA;\n",
              "      box-shadow: 0px 1px 2px rgba(60, 64, 67, 0.3), 0px 1px 3px 1px rgba(60, 64, 67, 0.15);\n",
              "      fill: #174EA6;\n",
              "    }\n",
              "\n",
              "    [theme=dark] .colab-df-convert {\n",
              "      background-color: #3B4455;\n",
              "      fill: #D2E3FC;\n",
              "    }\n",
              "\n",
              "    [theme=dark] .colab-df-convert:hover {\n",
              "      background-color: #434B5C;\n",
              "      box-shadow: 0px 1px 3px 1px rgba(0, 0, 0, 0.15);\n",
              "      filter: drop-shadow(0px 1px 2px rgba(0, 0, 0, 0.3));\n",
              "      fill: #FFFFFF;\n",
              "    }\n",
              "  </style>\n",
              "\n",
              "      <script>\n",
              "        const buttonEl =\n",
              "          document.querySelector('#df-c66b2633-7499-4139-afa8-bf3cee74f553 button.colab-df-convert');\n",
              "        buttonEl.style.display =\n",
              "          google.colab.kernel.accessAllowed ? 'block' : 'none';\n",
              "\n",
              "        async function convertToInteractive(key) {\n",
              "          const element = document.querySelector('#df-c66b2633-7499-4139-afa8-bf3cee74f553');\n",
              "          const dataTable =\n",
              "            await google.colab.kernel.invokeFunction('convertToInteractive',\n",
              "                                                     [key], {});\n",
              "          if (!dataTable) return;\n",
              "\n",
              "          const docLinkHtml = 'Like what you see? Visit the ' +\n",
              "            '<a target=\"_blank\" href=https://colab.research.google.com/notebooks/data_table.ipynb>data table notebook</a>'\n",
              "            + ' to learn more about interactive tables.';\n",
              "          element.innerHTML = '';\n",
              "          dataTable['output_type'] = 'display_data';\n",
              "          await google.colab.output.renderOutput(dataTable, element);\n",
              "          const docLink = document.createElement('div');\n",
              "          docLink.innerHTML = docLinkHtml;\n",
              "          element.appendChild(docLink);\n",
              "        }\n",
              "      </script>\n",
              "    </div>\n",
              "  </div>\n",
              "  "
            ]
          },
          "metadata": {},
          "execution_count": 4
        }
      ],
      "source": [
        "df = pd.read_csv(\"/content/drive/MyDrive/dummy_data - usaha.csv\", delimiter=',')\n",
        "\n",
        "# developer-friendly columns name\n",
        "df.columns = [x.lower().replace(' ', '_').replace('-', '_') for x in df.columns.to_list()]\n",
        "\n",
        "df.sample(1)"
      ]
    },
    {
      "cell_type": "markdown",
      "metadata": {
        "id": "5ljZOyi6CaLW"
      },
      "source": [
        "## EDA "
      ]
    },
    {
      "cell_type": "code",
      "execution_count": null,
      "metadata": {
        "id": "aiUKf1a8wR2W"
      },
      "outputs": [],
      "source": [
        "df=df[['user_id', 'jenis_usaha', 'skala_usaha', 'modal_usaha', 'bidang_usaha', 'omset_usaha', 'usia_targetpelanggan', 'gender_targetpelanggan', 'pekerjaan_targetpelanggan', 'status_targetpelanggan', 'jenis_lokasi_']]"
      ]
    },
    {
      "cell_type": "code",
      "execution_count": null,
      "metadata": {
        "colab": {
          "base_uri": "https://localhost:8080/"
        },
        "id": "5qQPDHsWCceq",
        "outputId": "650f3e1a-e938-4f90-a570-8172ba1d8f87"
      },
      "outputs": [
        {
          "output_type": "stream",
          "name": "stdout",
          "text": [
            "<class 'pandas.core.frame.DataFrame'>\n",
            "RangeIndex: 183 entries, 0 to 182\n",
            "Data columns (total 11 columns):\n",
            " #   Column                     Non-Null Count  Dtype \n",
            "---  ------                     --------------  ----- \n",
            " 0   user_id                    183 non-null    int64 \n",
            " 1   jenis_usaha                183 non-null    object\n",
            " 2   skala_usaha                183 non-null    object\n",
            " 3   modal_usaha                183 non-null    object\n",
            " 4   bidang_usaha               183 non-null    object\n",
            " 5   omset_usaha                183 non-null    object\n",
            " 6   usia_targetpelanggan       183 non-null    object\n",
            " 7   gender_targetpelanggan     183 non-null    object\n",
            " 8   pekerjaan_targetpelanggan  183 non-null    object\n",
            " 9   status_targetpelanggan     183 non-null    object\n",
            " 10  jenis_lokasi_              183 non-null    object\n",
            "dtypes: int64(1), object(10)\n",
            "memory usage: 15.9+ KB\n"
          ]
        }
      ],
      "source": [
        "df.info()"
      ]
    },
    {
      "cell_type": "code",
      "execution_count": null,
      "metadata": {
        "colab": {
          "base_uri": "https://localhost:8080/"
        },
        "id": "jI2daZGavoc6",
        "outputId": "7a6e12d2-abbe-421f-f076-e36426314e3c"
      },
      "outputs": [
        {
          "output_type": "stream",
          "name": "stdout",
          "text": [
            "1\n",
            "user_id                      0\n",
            "jenis_usaha                  0\n",
            "skala_usaha                  0\n",
            "modal_usaha                  0\n",
            "bidang_usaha                 0\n",
            "omset_usaha                  0\n",
            "usia_targetpelanggan         0\n",
            "gender_targetpelanggan       0\n",
            "pekerjaan_targetpelanggan    0\n",
            "status_targetpelanggan       0\n",
            "jenis_lokasi_                0\n",
            "dtype: int64\n"
          ]
        }
      ],
      "source": [
        "print(df.duplicated().sum())\n",
        "print(df.isna().sum())"
      ]
    },
    {
      "cell_type": "code",
      "execution_count": null,
      "metadata": {
        "id": "vOLucff4xB2x",
        "colab": {
          "base_uri": "https://localhost:8080/"
        },
        "outputId": "52f2a29a-269b-4b99-e9af-05e7d0d943cf"
      },
      "outputs": [
        {
          "output_type": "execute_result",
          "data": {
            "text/plain": [
              "0"
            ]
          },
          "metadata": {},
          "execution_count": 8
        }
      ],
      "source": [
        "df.drop_duplicates(inplace=True)\n",
        "df.duplicated().sum()"
      ]
    },
    {
      "cell_type": "markdown",
      "metadata": {
        "id": "r0kA_wAECPAe"
      },
      "source": [
        "## Data Pre-Processing Convert to Numeric "
      ]
    },
    {
      "cell_type": "markdown",
      "metadata": {
        "id": "mt1uAkO6EX5_"
      },
      "source": [
        "Note : \n",
        "* Data Encoding dan One Hot Encoding () \n",
        "* Feature Scaling"
      ]
    },
    {
      "cell_type": "markdown",
      "metadata": {
        "id": "7Z3AtuIQ3Apr"
      },
      "source": [
        "STR to LIST"
      ]
    },
    {
      "cell_type": "code",
      "execution_count": null,
      "metadata": {
        "id": "dEhZ7tt6xWzN"
      },
      "outputs": [],
      "source": [
        "#Split Item Data for Multiple Choice : 'usia_targetpelanggan', 'gender_targetpelanggan', 'pekerjaan_targetpelanggan', 'status_targetpelanggan', 'jenis_lokasi_'\n",
        "\n",
        "df['usia_targetpelanggan'] = df['usia_targetpelanggan'].map(lambda x : x.split(\",\"))\n",
        "df['gender_targetpelanggan'] = df['gender_targetpelanggan'].map(lambda x : x.split(\",\"))\n",
        "df['pekerjaan_targetpelanggan'] = df['pekerjaan_targetpelanggan'].map(lambda x : x.split(\",\"))\n",
        "df['status_targetpelanggan'] = df['status_targetpelanggan'].map(lambda x : x.split(\",\"))\n",
        "df['jenis_lokasi_'] = df['jenis_lokasi_'].map(lambda x : x.split(\",\"))"
      ]
    },
    {
      "cell_type": "markdown",
      "metadata": {
        "id": "wDmHjcbUnB8-"
      },
      "source": [
        "Feature Encoding"
      ]
    },
    {
      "cell_type": "code",
      "execution_count": null,
      "metadata": {
        "id": "QtReRa9DCoCW"
      },
      "outputs": [],
      "source": [
        "#Feature encoding untuk feature 'skala_usaha', 'modal_usaha', 'omset_usaha'\n",
        "mapping_skala = {\n",
        "    'Mikro' : 1,\n",
        "    'Kecil' : 2,\n",
        "    'Menengah' : 3\n",
        "}\n",
        "\n",
        "mapping_modal = {\n",
        "    '<=3 JT':1,\n",
        "    '3-5 JT' : 2, \n",
        "    '5-10 JT': 3, \n",
        "    '11-30 JT': 4, \n",
        "    '30-50 JT': 5, \n",
        "    '50-500 JT':6, \n",
        "    '<=1 M': 7\n",
        "}\n",
        "\n",
        "mapping_omset = {\n",
        "    '0-10 JT': 1, \n",
        "    '11-20 JT': 2, \n",
        "    '21-30 JT': 3, \n",
        "    '31-40 JT': 4, \n",
        "    '41-50 JT': 5, \n",
        "    '>50 JT': 6\n",
        "}\n",
        "\n",
        "df['skala_usaha'] = df['skala_usaha'].map(mapping_skala)\n",
        "df['modal_usaha'] = df['modal_usaha'].map(mapping_modal)\n",
        "df['omset_usaha'] = df['omset_usaha'].map(mapping_omset)"
      ]
    },
    {
      "cell_type": "code",
      "execution_count": null,
      "metadata": {
        "colab": {
          "base_uri": "https://localhost:8080/",
          "height": 344
        },
        "id": "bDH0jJfS7AmF",
        "outputId": "f68281df-951c-4092-8302-6b91cd85a1b2"
      },
      "outputs": [
        {
          "data": {
            "text/html": [
              "\n",
              "  <div id=\"df-58957650-1997-46ae-be1b-10ca9080f4ab\">\n",
              "    <div class=\"colab-df-container\">\n",
              "      <div>\n",
              "<style scoped>\n",
              "    .dataframe tbody tr th:only-of-type {\n",
              "        vertical-align: middle;\n",
              "    }\n",
              "\n",
              "    .dataframe tbody tr th {\n",
              "        vertical-align: top;\n",
              "    }\n",
              "\n",
              "    .dataframe thead th {\n",
              "        text-align: right;\n",
              "    }\n",
              "</style>\n",
              "<table border=\"1\" class=\"dataframe\">\n",
              "  <thead>\n",
              "    <tr style=\"text-align: right;\">\n",
              "      <th></th>\n",
              "      <th>id_usaha</th>\n",
              "      <th>jenis_usaha</th>\n",
              "      <th>skala_usaha</th>\n",
              "      <th>modal_usaha</th>\n",
              "      <th>bidang_usaha</th>\n",
              "      <th>omset_usaha</th>\n",
              "      <th>usia_targetpelanggan</th>\n",
              "      <th>gender_targetpelanggan</th>\n",
              "      <th>pekerjaan_targetpelanggan</th>\n",
              "      <th>status_targetpelanggan</th>\n",
              "      <th>jenis_lokasi_</th>\n",
              "    </tr>\n",
              "  </thead>\n",
              "  <tbody>\n",
              "    <tr>\n",
              "      <th>116</th>\n",
              "      <td>50030142</td>\n",
              "      <td>Usaha Kerajinan Tangan</td>\n",
              "      <td>3.0</td>\n",
              "      <td>4.0</td>\n",
              "      <td>Industri kerajinan tangan dan souvenir</td>\n",
              "      <td>NaN</td>\n",
              "      <td>[18-39 tahun,  40-59 tahun,  &gt;60 tahun]</td>\n",
              "      <td>[Laki-laki,  Perempuan]</td>\n",
              "      <td>[Pelajar/mahasiswa, \\nPegawai negeri sipil, \\n...</td>\n",
              "      <td>[Kelas atas,  Kelas menengah]</td>\n",
              "      <td>[ Desa dan Alam,  Area Wisata,  Permukiman pen...</td>\n",
              "    </tr>\n",
              "    <tr>\n",
              "      <th>16</th>\n",
              "      <td>30020106</td>\n",
              "      <td>Kafetaria</td>\n",
              "      <td>NaN</td>\n",
              "      <td>5.0</td>\n",
              "      <td>Industri makanan dan minuman</td>\n",
              "      <td>3.0</td>\n",
              "      <td>[18-39 tahun]</td>\n",
              "      <td>[Laki-laki,  Perempuan]</td>\n",
              "      <td>[Pelajar/mahasiswa, \\nPegawai negeri sipil, \\n...</td>\n",
              "      <td>[Kelas Menengah]</td>\n",
              "      <td>[Pusat Kota dan Keramaian,  Permukiman pendudu...</td>\n",
              "    </tr>\n",
              "    <tr>\n",
              "      <th>172</th>\n",
              "      <td>60030164</td>\n",
              "      <td>Usaha Sewa Tempat Olahraga</td>\n",
              "      <td>3.0</td>\n",
              "      <td>NaN</td>\n",
              "      <td>Pendidikan dan pelatihan</td>\n",
              "      <td>3.0</td>\n",
              "      <td>[12-17 tahun,  18-39 tahun,  40-59 tahun]</td>\n",
              "      <td>[Laki-laki,  Perempuan]</td>\n",
              "      <td>[Pelajar/mahasiswa, \\nPegawai negeri sipil, \\n...</td>\n",
              "      <td>[Kelas atas,  Kelas menengah]</td>\n",
              "      <td>[Pusat Kota dan Keramaian,  Permukiman pendudu...</td>\n",
              "    </tr>\n",
              "  </tbody>\n",
              "</table>\n",
              "</div>\n",
              "      <button class=\"colab-df-convert\" onclick=\"convertToInteractive('df-58957650-1997-46ae-be1b-10ca9080f4ab')\"\n",
              "              title=\"Convert this dataframe to an interactive table.\"\n",
              "              style=\"display:none;\">\n",
              "        \n",
              "  <svg xmlns=\"http://www.w3.org/2000/svg\" height=\"24px\"viewBox=\"0 0 24 24\"\n",
              "       width=\"24px\">\n",
              "    <path d=\"M0 0h24v24H0V0z\" fill=\"none\"/>\n",
              "    <path d=\"M18.56 5.44l.94 2.06.94-2.06 2.06-.94-2.06-.94-.94-2.06-.94 2.06-2.06.94zm-11 1L8.5 8.5l.94-2.06 2.06-.94-2.06-.94L8.5 2.5l-.94 2.06-2.06.94zm10 10l.94 2.06.94-2.06 2.06-.94-2.06-.94-.94-2.06-.94 2.06-2.06.94z\"/><path d=\"M17.41 7.96l-1.37-1.37c-.4-.4-.92-.59-1.43-.59-.52 0-1.04.2-1.43.59L10.3 9.45l-7.72 7.72c-.78.78-.78 2.05 0 2.83L4 21.41c.39.39.9.59 1.41.59.51 0 1.02-.2 1.41-.59l7.78-7.78 2.81-2.81c.8-.78.8-2.07 0-2.86zM5.41 20L4 18.59l7.72-7.72 1.47 1.35L5.41 20z\"/>\n",
              "  </svg>\n",
              "      </button>\n",
              "      \n",
              "  <style>\n",
              "    .colab-df-container {\n",
              "      display:flex;\n",
              "      flex-wrap:wrap;\n",
              "      gap: 12px;\n",
              "    }\n",
              "\n",
              "    .colab-df-convert {\n",
              "      background-color: #E8F0FE;\n",
              "      border: none;\n",
              "      border-radius: 50%;\n",
              "      cursor: pointer;\n",
              "      display: none;\n",
              "      fill: #1967D2;\n",
              "      height: 32px;\n",
              "      padding: 0 0 0 0;\n",
              "      width: 32px;\n",
              "    }\n",
              "\n",
              "    .colab-df-convert:hover {\n",
              "      background-color: #E2EBFA;\n",
              "      box-shadow: 0px 1px 2px rgba(60, 64, 67, 0.3), 0px 1px 3px 1px rgba(60, 64, 67, 0.15);\n",
              "      fill: #174EA6;\n",
              "    }\n",
              "\n",
              "    [theme=dark] .colab-df-convert {\n",
              "      background-color: #3B4455;\n",
              "      fill: #D2E3FC;\n",
              "    }\n",
              "\n",
              "    [theme=dark] .colab-df-convert:hover {\n",
              "      background-color: #434B5C;\n",
              "      box-shadow: 0px 1px 3px 1px rgba(0, 0, 0, 0.15);\n",
              "      filter: drop-shadow(0px 1px 2px rgba(0, 0, 0, 0.3));\n",
              "      fill: #FFFFFF;\n",
              "    }\n",
              "  </style>\n",
              "\n",
              "      <script>\n",
              "        const buttonEl =\n",
              "          document.querySelector('#df-58957650-1997-46ae-be1b-10ca9080f4ab button.colab-df-convert');\n",
              "        buttonEl.style.display =\n",
              "          google.colab.kernel.accessAllowed ? 'block' : 'none';\n",
              "\n",
              "        async function convertToInteractive(key) {\n",
              "          const element = document.querySelector('#df-58957650-1997-46ae-be1b-10ca9080f4ab');\n",
              "          const dataTable =\n",
              "            await google.colab.kernel.invokeFunction('convertToInteractive',\n",
              "                                                     [key], {});\n",
              "          if (!dataTable) return;\n",
              "\n",
              "          const docLinkHtml = 'Like what you see? Visit the ' +\n",
              "            '<a target=\"_blank\" href=https://colab.research.google.com/notebooks/data_table.ipynb>data table notebook</a>'\n",
              "            + ' to learn more about interactive tables.';\n",
              "          element.innerHTML = '';\n",
              "          dataTable['output_type'] = 'display_data';\n",
              "          await google.colab.output.renderOutput(dataTable, element);\n",
              "          const docLink = document.createElement('div');\n",
              "          docLink.innerHTML = docLinkHtml;\n",
              "          element.appendChild(docLink);\n",
              "        }\n",
              "      </script>\n",
              "    </div>\n",
              "  </div>\n",
              "  "
            ],
            "text/plain": [
              "     id_usaha                 jenis_usaha  skala_usaha  modal_usaha  \\\n",
              "116  50030142      Usaha Kerajinan Tangan          3.0          4.0   \n",
              "16   30020106                   Kafetaria          NaN          5.0   \n",
              "172  60030164  Usaha Sewa Tempat Olahraga          3.0          NaN   \n",
              "\n",
              "                               bidang_usaha  omset_usaha  \\\n",
              "116  Industri kerajinan tangan dan souvenir          NaN   \n",
              "16             Industri makanan dan minuman          3.0   \n",
              "172                Pendidikan dan pelatihan          3.0   \n",
              "\n",
              "                          usia_targetpelanggan   gender_targetpelanggan  \\\n",
              "116    [18-39 tahun,  40-59 tahun,  >60 tahun]  [Laki-laki,  Perempuan]   \n",
              "16                               [18-39 tahun]  [Laki-laki,  Perempuan]   \n",
              "172  [12-17 tahun,  18-39 tahun,  40-59 tahun]  [Laki-laki,  Perempuan]   \n",
              "\n",
              "                             pekerjaan_targetpelanggan  \\\n",
              "116  [Pelajar/mahasiswa, \\nPegawai negeri sipil, \\n...   \n",
              "16   [Pelajar/mahasiswa, \\nPegawai negeri sipil, \\n...   \n",
              "172  [Pelajar/mahasiswa, \\nPegawai negeri sipil, \\n...   \n",
              "\n",
              "            status_targetpelanggan  \\\n",
              "116  [Kelas atas,  Kelas menengah]   \n",
              "16                [Kelas Menengah]   \n",
              "172  [Kelas atas,  Kelas menengah]   \n",
              "\n",
              "                                         jenis_lokasi_  \n",
              "116  [ Desa dan Alam,  Area Wisata,  Permukiman pen...  \n",
              "16   [Pusat Kota dan Keramaian,  Permukiman pendudu...  \n",
              "172  [Pusat Kota dan Keramaian,  Permukiman pendudu...  "
            ]
          },
          "execution_count": 43,
          "metadata": {},
          "output_type": "execute_result"
        }
      ],
      "source": [
        "df.sample(3)"
      ]
    },
    {
      "cell_type": "markdown",
      "metadata": {
        "id": "PsfkcWvvnFpq"
      },
      "source": [
        "Feature One Hot Encoding "
      ]
    },
    {
      "cell_type": "code",
      "execution_count": null,
      "metadata": {
        "id": "WKD4TB1yET3X"
      },
      "outputs": [],
      "source": [
        "#import pandas as pd\n",
        "#df = pd.DataFrame({'id': [0, 1, 2], 'class': ['2 3', '1 3', '3 5']})\n",
        "#df['class'] = df['class'].apply(lambda x: x.split(' '))\n",
        "df_long = df.explode('usia_targetpelanggan')\n",
        "df_one_hot_encoded = pd.concat([df, pd.get_dummies(df_long['usia_targetpelanggan'],prefix='is', prefix_sep='_')], axis=1)\n",
        "df_one_hot_encoded_compact = df_one_hot_encoded.groupby('id_usaha').max().reset_index()"
      ]
    },
    {
      "cell_type": "code",
      "execution_count": null,
      "metadata": {
        "id": "oTkkT3PtFP7-"
      },
      "outputs": [],
      "source": [
        "df_one_hot_encoded_compact"
      ]
    },
    {
      "cell_type": "code",
      "execution_count": null,
      "metadata": {
        "id": "xxqwiM10nt73"
      },
      "outputs": [],
      "source": [
        "# OHE untuk feature 'bidang_usaha', 'usia_targetpelanggan', 'gender_targetpelanggan', 'pekerjaan_targetpelanggan', 'status_targetpelanggan', 'jenis_lokasi_'\n",
        "prefix_bidus = pd.get_dummies(df['bidang_usaha'], prefix='is')\n",
        "\n",
        "df = df.join(prefix_bidus)\n",
        "df"
      ]
    },
    {
      "cell_type": "code",
      "execution_count": null,
      "metadata": {
        "colab": {
          "base_uri": "https://localhost:8080/",
          "height": 537
        },
        "id": "G78d3GM_DYIk",
        "outputId": "d42e8d6e-6e61-4161-a9b8-28c6e219ca0c"
      },
      "outputs": [
        {
          "data": {
            "text/html": [
              "\n",
              "  <div id=\"df-4c21956f-061a-4fc5-be23-e5a96f8d1b8f\">\n",
              "    <div class=\"colab-df-container\">\n",
              "      <div>\n",
              "<style scoped>\n",
              "    .dataframe tbody tr th:only-of-type {\n",
              "        vertical-align: middle;\n",
              "    }\n",
              "\n",
              "    .dataframe tbody tr th {\n",
              "        vertical-align: top;\n",
              "    }\n",
              "\n",
              "    .dataframe thead th {\n",
              "        text-align: right;\n",
              "    }\n",
              "</style>\n",
              "<table border=\"1\" class=\"dataframe\">\n",
              "  <thead>\n",
              "    <tr style=\"text-align: right;\">\n",
              "      <th></th>\n",
              "      <th>Industri fashion dan tekstil</th>\n",
              "      <th>Industri fashion dan tekstil</th>\n",
              "      <th>Industri kerajinan tangan dan souvenir</th>\n",
              "      <th>Industri makanan dan minuman</th>\n",
              "      <th>Jasa keamanan</th>\n",
              "      <th>Jasa kebersihan</th>\n",
              "      <th>Jasa kesehatan dan kecantikan</th>\n",
              "      <th>Jasa konsultasi dan manajemen</th>\n",
              "      <th>Jasa teknologi informasi dan komunikasi</th>\n",
              "      <th>Jasa teknologi informasi dan komunikasi</th>\n",
              "      <th>Lainnya</th>\n",
              "      <th>Otomotif</th>\n",
              "      <th>Pendidikan dan pelatihan</th>\n",
              "      <th>Perikanan dan kelautan</th>\n",
              "      <th>Pertanian dan perkebunan</th>\n",
              "      <th>Pertanian dan perkebunan</th>\n",
              "    </tr>\n",
              "  </thead>\n",
              "  <tbody>\n",
              "    <tr>\n",
              "      <th>0</th>\n",
              "      <td>0</td>\n",
              "      <td>0</td>\n",
              "      <td>0</td>\n",
              "      <td>1</td>\n",
              "      <td>0</td>\n",
              "      <td>0</td>\n",
              "      <td>0</td>\n",
              "      <td>0</td>\n",
              "      <td>0</td>\n",
              "      <td>0</td>\n",
              "      <td>0</td>\n",
              "      <td>0</td>\n",
              "      <td>0</td>\n",
              "      <td>0</td>\n",
              "      <td>0</td>\n",
              "      <td>0</td>\n",
              "    </tr>\n",
              "    <tr>\n",
              "      <th>1</th>\n",
              "      <td>0</td>\n",
              "      <td>0</td>\n",
              "      <td>0</td>\n",
              "      <td>1</td>\n",
              "      <td>0</td>\n",
              "      <td>0</td>\n",
              "      <td>0</td>\n",
              "      <td>0</td>\n",
              "      <td>0</td>\n",
              "      <td>0</td>\n",
              "      <td>0</td>\n",
              "      <td>0</td>\n",
              "      <td>0</td>\n",
              "      <td>0</td>\n",
              "      <td>0</td>\n",
              "      <td>0</td>\n",
              "    </tr>\n",
              "    <tr>\n",
              "      <th>2</th>\n",
              "      <td>0</td>\n",
              "      <td>0</td>\n",
              "      <td>0</td>\n",
              "      <td>1</td>\n",
              "      <td>0</td>\n",
              "      <td>0</td>\n",
              "      <td>0</td>\n",
              "      <td>0</td>\n",
              "      <td>0</td>\n",
              "      <td>0</td>\n",
              "      <td>0</td>\n",
              "      <td>0</td>\n",
              "      <td>0</td>\n",
              "      <td>0</td>\n",
              "      <td>0</td>\n",
              "      <td>0</td>\n",
              "    </tr>\n",
              "    <tr>\n",
              "      <th>3</th>\n",
              "      <td>0</td>\n",
              "      <td>0</td>\n",
              "      <td>0</td>\n",
              "      <td>0</td>\n",
              "      <td>0</td>\n",
              "      <td>0</td>\n",
              "      <td>1</td>\n",
              "      <td>0</td>\n",
              "      <td>0</td>\n",
              "      <td>0</td>\n",
              "      <td>0</td>\n",
              "      <td>0</td>\n",
              "      <td>0</td>\n",
              "      <td>0</td>\n",
              "      <td>0</td>\n",
              "      <td>0</td>\n",
              "    </tr>\n",
              "    <tr>\n",
              "      <th>4</th>\n",
              "      <td>0</td>\n",
              "      <td>0</td>\n",
              "      <td>0</td>\n",
              "      <td>0</td>\n",
              "      <td>0</td>\n",
              "      <td>0</td>\n",
              "      <td>1</td>\n",
              "      <td>0</td>\n",
              "      <td>0</td>\n",
              "      <td>0</td>\n",
              "      <td>0</td>\n",
              "      <td>0</td>\n",
              "      <td>0</td>\n",
              "      <td>0</td>\n",
              "      <td>0</td>\n",
              "      <td>0</td>\n",
              "    </tr>\n",
              "    <tr>\n",
              "      <th>...</th>\n",
              "      <td>...</td>\n",
              "      <td>...</td>\n",
              "      <td>...</td>\n",
              "      <td>...</td>\n",
              "      <td>...</td>\n",
              "      <td>...</td>\n",
              "      <td>...</td>\n",
              "      <td>...</td>\n",
              "      <td>...</td>\n",
              "      <td>...</td>\n",
              "      <td>...</td>\n",
              "      <td>...</td>\n",
              "      <td>...</td>\n",
              "      <td>...</td>\n",
              "      <td>...</td>\n",
              "      <td>...</td>\n",
              "    </tr>\n",
              "    <tr>\n",
              "      <th>178</th>\n",
              "      <td>0</td>\n",
              "      <td>0</td>\n",
              "      <td>0</td>\n",
              "      <td>0</td>\n",
              "      <td>0</td>\n",
              "      <td>0</td>\n",
              "      <td>0</td>\n",
              "      <td>0</td>\n",
              "      <td>0</td>\n",
              "      <td>1</td>\n",
              "      <td>0</td>\n",
              "      <td>0</td>\n",
              "      <td>0</td>\n",
              "      <td>0</td>\n",
              "      <td>0</td>\n",
              "      <td>0</td>\n",
              "    </tr>\n",
              "    <tr>\n",
              "      <th>179</th>\n",
              "      <td>0</td>\n",
              "      <td>1</td>\n",
              "      <td>0</td>\n",
              "      <td>0</td>\n",
              "      <td>0</td>\n",
              "      <td>0</td>\n",
              "      <td>0</td>\n",
              "      <td>0</td>\n",
              "      <td>0</td>\n",
              "      <td>0</td>\n",
              "      <td>0</td>\n",
              "      <td>0</td>\n",
              "      <td>0</td>\n",
              "      <td>0</td>\n",
              "      <td>0</td>\n",
              "      <td>0</td>\n",
              "    </tr>\n",
              "    <tr>\n",
              "      <th>180</th>\n",
              "      <td>0</td>\n",
              "      <td>0</td>\n",
              "      <td>0</td>\n",
              "      <td>0</td>\n",
              "      <td>0</td>\n",
              "      <td>0</td>\n",
              "      <td>0</td>\n",
              "      <td>0</td>\n",
              "      <td>0</td>\n",
              "      <td>0</td>\n",
              "      <td>0</td>\n",
              "      <td>0</td>\n",
              "      <td>1</td>\n",
              "      <td>0</td>\n",
              "      <td>0</td>\n",
              "      <td>0</td>\n",
              "    </tr>\n",
              "    <tr>\n",
              "      <th>181</th>\n",
              "      <td>0</td>\n",
              "      <td>0</td>\n",
              "      <td>0</td>\n",
              "      <td>0</td>\n",
              "      <td>0</td>\n",
              "      <td>0</td>\n",
              "      <td>0</td>\n",
              "      <td>0</td>\n",
              "      <td>0</td>\n",
              "      <td>0</td>\n",
              "      <td>1</td>\n",
              "      <td>0</td>\n",
              "      <td>0</td>\n",
              "      <td>0</td>\n",
              "      <td>0</td>\n",
              "      <td>0</td>\n",
              "    </tr>\n",
              "    <tr>\n",
              "      <th>182</th>\n",
              "      <td>0</td>\n",
              "      <td>0</td>\n",
              "      <td>0</td>\n",
              "      <td>0</td>\n",
              "      <td>0</td>\n",
              "      <td>0</td>\n",
              "      <td>0</td>\n",
              "      <td>1</td>\n",
              "      <td>0</td>\n",
              "      <td>0</td>\n",
              "      <td>0</td>\n",
              "      <td>0</td>\n",
              "      <td>0</td>\n",
              "      <td>0</td>\n",
              "      <td>0</td>\n",
              "      <td>0</td>\n",
              "    </tr>\n",
              "  </tbody>\n",
              "</table>\n",
              "<p>182 rows × 16 columns</p>\n",
              "</div>\n",
              "      <button class=\"colab-df-convert\" onclick=\"convertToInteractive('df-4c21956f-061a-4fc5-be23-e5a96f8d1b8f')\"\n",
              "              title=\"Convert this dataframe to an interactive table.\"\n",
              "              style=\"display:none;\">\n",
              "        \n",
              "  <svg xmlns=\"http://www.w3.org/2000/svg\" height=\"24px\"viewBox=\"0 0 24 24\"\n",
              "       width=\"24px\">\n",
              "    <path d=\"M0 0h24v24H0V0z\" fill=\"none\"/>\n",
              "    <path d=\"M18.56 5.44l.94 2.06.94-2.06 2.06-.94-2.06-.94-.94-2.06-.94 2.06-2.06.94zm-11 1L8.5 8.5l.94-2.06 2.06-.94-2.06-.94L8.5 2.5l-.94 2.06-2.06.94zm10 10l.94 2.06.94-2.06 2.06-.94-2.06-.94-.94-2.06-.94 2.06-2.06.94z\"/><path d=\"M17.41 7.96l-1.37-1.37c-.4-.4-.92-.59-1.43-.59-.52 0-1.04.2-1.43.59L10.3 9.45l-7.72 7.72c-.78.78-.78 2.05 0 2.83L4 21.41c.39.39.9.59 1.41.59.51 0 1.02-.2 1.41-.59l7.78-7.78 2.81-2.81c.8-.78.8-2.07 0-2.86zM5.41 20L4 18.59l7.72-7.72 1.47 1.35L5.41 20z\"/>\n",
              "  </svg>\n",
              "      </button>\n",
              "      \n",
              "  <style>\n",
              "    .colab-df-container {\n",
              "      display:flex;\n",
              "      flex-wrap:wrap;\n",
              "      gap: 12px;\n",
              "    }\n",
              "\n",
              "    .colab-df-convert {\n",
              "      background-color: #E8F0FE;\n",
              "      border: none;\n",
              "      border-radius: 50%;\n",
              "      cursor: pointer;\n",
              "      display: none;\n",
              "      fill: #1967D2;\n",
              "      height: 32px;\n",
              "      padding: 0 0 0 0;\n",
              "      width: 32px;\n",
              "    }\n",
              "\n",
              "    .colab-df-convert:hover {\n",
              "      background-color: #E2EBFA;\n",
              "      box-shadow: 0px 1px 2px rgba(60, 64, 67, 0.3), 0px 1px 3px 1px rgba(60, 64, 67, 0.15);\n",
              "      fill: #174EA6;\n",
              "    }\n",
              "\n",
              "    [theme=dark] .colab-df-convert {\n",
              "      background-color: #3B4455;\n",
              "      fill: #D2E3FC;\n",
              "    }\n",
              "\n",
              "    [theme=dark] .colab-df-convert:hover {\n",
              "      background-color: #434B5C;\n",
              "      box-shadow: 0px 1px 3px 1px rgba(0, 0, 0, 0.15);\n",
              "      filter: drop-shadow(0px 1px 2px rgba(0, 0, 0, 0.3));\n",
              "      fill: #FFFFFF;\n",
              "    }\n",
              "  </style>\n",
              "\n",
              "      <script>\n",
              "        const buttonEl =\n",
              "          document.querySelector('#df-4c21956f-061a-4fc5-be23-e5a96f8d1b8f button.colab-df-convert');\n",
              "        buttonEl.style.display =\n",
              "          google.colab.kernel.accessAllowed ? 'block' : 'none';\n",
              "\n",
              "        async function convertToInteractive(key) {\n",
              "          const element = document.querySelector('#df-4c21956f-061a-4fc5-be23-e5a96f8d1b8f');\n",
              "          const dataTable =\n",
              "            await google.colab.kernel.invokeFunction('convertToInteractive',\n",
              "                                                     [key], {});\n",
              "          if (!dataTable) return;\n",
              "\n",
              "          const docLinkHtml = 'Like what you see? Visit the ' +\n",
              "            '<a target=\"_blank\" href=https://colab.research.google.com/notebooks/data_table.ipynb>data table notebook</a>'\n",
              "            + ' to learn more about interactive tables.';\n",
              "          element.innerHTML = '';\n",
              "          dataTable['output_type'] = 'display_data';\n",
              "          await google.colab.output.renderOutput(dataTable, element);\n",
              "          const docLink = document.createElement('div');\n",
              "          docLink.innerHTML = docLinkHtml;\n",
              "          element.appendChild(docLink);\n",
              "        }\n",
              "      </script>\n",
              "    </div>\n",
              "  </div>\n",
              "  "
            ],
            "text/plain": [
              "     Industri fashion dan tekstil  Industri fashion dan tekstil   \\\n",
              "0                               0                              0   \n",
              "1                               0                              0   \n",
              "2                               0                              0   \n",
              "3                               0                              0   \n",
              "4                               0                              0   \n",
              "..                            ...                            ...   \n",
              "178                             0                              0   \n",
              "179                             0                              1   \n",
              "180                             0                              0   \n",
              "181                             0                              0   \n",
              "182                             0                              0   \n",
              "\n",
              "     Industri kerajinan tangan dan souvenir  Industri makanan dan minuman  \\\n",
              "0                                         0                             1   \n",
              "1                                         0                             1   \n",
              "2                                         0                             1   \n",
              "3                                         0                             0   \n",
              "4                                         0                             0   \n",
              "..                                      ...                           ...   \n",
              "178                                       0                             0   \n",
              "179                                       0                             0   \n",
              "180                                       0                             0   \n",
              "181                                       0                             0   \n",
              "182                                       0                             0   \n",
              "\n",
              "     Jasa keamanan  Jasa kebersihan  Jasa kesehatan dan kecantikan  \\\n",
              "0                0                0                              0   \n",
              "1                0                0                              0   \n",
              "2                0                0                              0   \n",
              "3                0                0                              1   \n",
              "4                0                0                              1   \n",
              "..             ...              ...                            ...   \n",
              "178              0                0                              0   \n",
              "179              0                0                              0   \n",
              "180              0                0                              0   \n",
              "181              0                0                              0   \n",
              "182              0                0                              0   \n",
              "\n",
              "     Jasa konsultasi dan manajemen  Jasa teknologi informasi dan komunikasi  \\\n",
              "0                                0                                        0   \n",
              "1                                0                                        0   \n",
              "2                                0                                        0   \n",
              "3                                0                                        0   \n",
              "4                                0                                        0   \n",
              "..                             ...                                      ...   \n",
              "178                              0                                        0   \n",
              "179                              0                                        0   \n",
              "180                              0                                        0   \n",
              "181                              0                                        0   \n",
              "182                              1                                        0   \n",
              "\n",
              "     Jasa teknologi informasi dan komunikasi   Lainnya  Otomotif  \\\n",
              "0                                           0        0         0   \n",
              "1                                           0        0         0   \n",
              "2                                           0        0         0   \n",
              "3                                           0        0         0   \n",
              "4                                           0        0         0   \n",
              "..                                        ...      ...       ...   \n",
              "178                                         1        0         0   \n",
              "179                                         0        0         0   \n",
              "180                                         0        0         0   \n",
              "181                                         0        1         0   \n",
              "182                                         0        0         0   \n",
              "\n",
              "     Pendidikan dan pelatihan  Perikanan dan kelautan  \\\n",
              "0                           0                       0   \n",
              "1                           0                       0   \n",
              "2                           0                       0   \n",
              "3                           0                       0   \n",
              "4                           0                       0   \n",
              "..                        ...                     ...   \n",
              "178                         0                       0   \n",
              "179                         0                       0   \n",
              "180                         1                       0   \n",
              "181                         0                       0   \n",
              "182                         0                       0   \n",
              "\n",
              "     Pertanian dan perkebunan  Pertanian dan perkebunan   \n",
              "0                           0                          0  \n",
              "1                           0                          0  \n",
              "2                           0                          0  \n",
              "3                           0                          0  \n",
              "4                           0                          0  \n",
              "..                        ...                        ...  \n",
              "178                         0                          0  \n",
              "179                         0                          0  \n",
              "180                         0                          0  \n",
              "181                         0                          0  \n",
              "182                         0                          0  \n",
              "\n",
              "[182 rows x 16 columns]"
            ]
          },
          "execution_count": 59,
          "metadata": {},
          "output_type": "execute_result"
        }
      ],
      "source": [
        "dum"
      ]
    },
    {
      "cell_type": "markdown",
      "metadata": {
        "id": "TDVSqj58CW0m"
      },
      "source": [
        "### Feature Scaling"
      ]
    },
    {
      "cell_type": "code",
      "execution_count": null,
      "metadata": {
        "id": "IZzSE2hS5fqC"
      },
      "outputs": [],
      "source": [
        "# scale training data\n",
        "umkm_train_unscaled = umkm_train\n",
        "user_train_unscaled = user_train\n",
        "y_train_unscaled    = y_train\n",
        "\n",
        "scalerItem = StandardScaler()\n",
        "scalerItem.fit(item_train)\n",
        "item_train = scalerItem.transform(item_train)\n",
        "\n",
        "scalerUser = StandardScaler()\n",
        "scalerUser.fit(user_train)\n",
        "user_train = scalerUser.transform(user_train)\n",
        "\n",
        "scalerTarget = MinMaxScaler((-1, 1))\n",
        "scalerTarget.fit(y_train.reshape(-1, 1))\n",
        "y_train = scalerTarget.transform(y_train.reshape(-1, 1))\n",
        "#ynorm_test = scalerTarget.transform(y_test.reshape(-1, 1))\n",
        "\n",
        "print(np.allclose(item_train_unscaled, scalerItem.inverse_transform(item_train)))\n",
        "print(np.allclose(user_train_unscaled, scalerUser.inverse_transform(user_train)))"
      ]
    },
    {
      "cell_type": "code",
      "execution_count": null,
      "metadata": {
        "id": "bRGNbKI11F38"
      },
      "outputs": [],
      "source": []
    },
    {
      "cell_type": "markdown",
      "metadata": {
        "id": "1aymD3F-cYrH"
      },
      "source": [
        "## Full Scikit Learn "
      ]
    },
    {
      "cell_type": "code",
      "execution_count": null,
      "metadata": {
        "id": "FwhL2JxpcbpC"
      },
      "outputs": [],
      "source": [
        "df = df[['id_usaha', 'jenis_usaha', 'skala_usaha', 'modal_usaha', 'bidang_usaha', 'omset_usaha', 'usia_targetpelanggan', 'gender_targetpelanggan', 'pekerjaan_targetpelanggan', 'status_targetpelanggan', 'jenis_lokasi_']]"
      ]
    },
    {
      "cell_type": "code",
      "execution_count": null,
      "metadata": {
        "id": "hGge14QmchDF"
      },
      "outputs": [],
      "source": [
        "df['features'] = df['skala_usaha'] +\",\"+ df['modal_usaha'] +\",\"+ df['bidang_usaha'] +\",\"+ df[ 'omset_usaha'] +\",\"+ df['usia_targetpelanggan'] +\",\"+ df['gender_targetpelanggan'] +\",\"+ df['pekerjaan_targetpelanggan'] +\",\"+ df['status_targetpelanggan'] +\",\"+ df['jenis_lokasi_']"
      ]
    },
    {
      "cell_type": "code",
      "execution_count": null,
      "metadata": {
        "id": "AdBD8YEYc9vk"
      },
      "outputs": [],
      "source": [
        "new_df = df[['id_usaha', 'features']]"
      ]
    },
    {
      "cell_type": "code",
      "execution_count": null,
      "metadata": {
        "id": "gz0boJ8CdNO-"
      },
      "outputs": [],
      "source": [
        "from sklearn.feature_extraction.text import CountVectorizer\n",
        "cv = CountVectorizer(max_features=5000,stop_words='english')\n",
        "vectors = cv.fit_transform(new_df['features']).toarray()"
      ]
    },
    {
      "cell_type": "code",
      "source": [
        "print(vectors[0])"
      ],
      "metadata": {
        "colab": {
          "base_uri": "https://localhost:8080/"
        },
        "id": "rwQ2_sDICzdv",
        "outputId": "40773b07-b0e9-403a-c9ff-f447e7ea4a1b"
      },
      "execution_count": null,
      "outputs": [
        {
          "output_type": "stream",
          "name": "stdout",
          "text": [
            "[2 0 0 0 1 0 0 0 0 0 1 1 0 0 0 1 1 1 0 1 0 0 3 1 0 1 1 0 1 0 2 0 0 0 0 0 5\n",
            " 0 0 1 0 0 0 1 0 0 0 0 1 1 0 2 0 1 1 1 1 0 1 0 0 0 0 1 0 1 0 0 1 0 0 0 0 1\n",
            " 0 0 0 1 0 1 1 1 0 0 3 0 0 0 0 0 0 0 0 0 0]\n"
          ]
        }
      ]
    },
    {
      "cell_type": "code",
      "execution_count": null,
      "metadata": {
        "id": "tCdFM75DdXnT"
      },
      "outputs": [],
      "source": [
        "import nltk"
      ]
    },
    {
      "cell_type": "code",
      "execution_count": null,
      "metadata": {
        "id": "50ItG05Mdb-B"
      },
      "outputs": [],
      "source": [
        "from nltk.stem.porter import PorterStemmer\n",
        "ps = PorterStemmer()"
      ]
    },
    {
      "cell_type": "code",
      "execution_count": null,
      "metadata": {
        "id": "EeYaomNPdhJs"
      },
      "outputs": [],
      "source": [
        "def stem(text):\n",
        "    y=[]\n",
        "    \n",
        "    for i in text.split():\n",
        "        y.append(ps.stem(i))\n",
        "    \n",
        "    return \" \".join(y)"
      ]
    },
    {
      "cell_type": "code",
      "execution_count": null,
      "metadata": {
        "colab": {
          "base_uri": "https://localhost:8080/"
        },
        "id": "BYLlOk0Udlem",
        "outputId": "b48129c1-111f-48fc-ca24-802ba762b731"
      },
      "outputs": [
        {
          "output_type": "stream",
          "name": "stderr",
          "text": [
            "<ipython-input-75-067bb86c7527>:1: SettingWithCopyWarning: \n",
            "A value is trying to be set on a copy of a slice from a DataFrame.\n",
            "Try using .loc[row_indexer,col_indexer] = value instead\n",
            "\n",
            "See the caveats in the documentation: https://pandas.pydata.org/pandas-docs/stable/user_guide/indexing.html#returning-a-view-versus-a-copy\n",
            "  new_df['features'] = new_df['features'].apply(stem) #applying stemming on the tags column\n"
          ]
        }
      ],
      "source": [
        "new_df['features'] = new_df['features'].apply(stem) #applying stemming on the tags column"
      ]
    },
    {
      "cell_type": "code",
      "execution_count": null,
      "metadata": {
        "id": "rwXfoPJ2dsqE"
      },
      "outputs": [],
      "source": [
        "from sklearn.metrics.pairwise import cosine_similarity"
      ]
    },
    {
      "cell_type": "code",
      "execution_count": null,
      "metadata": {
        "id": "1yyafAtPdv-X"
      },
      "outputs": [],
      "source": [
        "similarity = cosine_similarity(vectors)"
      ]
    },
    {
      "cell_type": "code",
      "execution_count": null,
      "metadata": {
        "id": "noWivMB8dzga"
      },
      "outputs": [],
      "source": [
        "def recommend_scikitlearn(id):\n",
        "    usaha_index = new_df[new_df['id_usaha'] == id].index[0]\n",
        "    distances = similarity[usaha_index]\n",
        "    usaha_list = sorted(list(enumerate(distances)),reverse=True, key=lambda x:x[1])[1:7]\n",
        "    \n",
        "    for i in usaha_list:\n",
        "        print(new_df.iloc[i[0]].id_usaha, \" - \", df.iloc[i[0]].jenis_usaha)\n",
        "        print(df.iloc[i[0]].modal_usaha, df.iloc[i[0]].bidang_usaha, df.iloc[i[0]].omset_usaha, df.iloc[i[0]].usia_targetpelanggan)"
      ]
    },
    {
      "cell_type": "code",
      "execution_count": null,
      "metadata": {
        "colab": {
          "base_uri": "https://localhost:8080/"
        },
        "id": "-PP9eFh3d2Cn",
        "outputId": "f5a4793a-4e9d-4f9c-8673-9492b3b4e6c1"
      },
      "outputs": [
        {
          "output_type": "stream",
          "name": "stdout",
          "text": [
            "95010152  -  Usaha Perbaikan Sepatu\n",
            "<=3 JT Industri fashion dan tekstil  0-10 JT 2-11 tahun, 12-17 tahun, 18-39 tahun, 40-59 tahun, >60 tahun\n",
            "95030152  -  Usaha Perbaikan Sepatu\n",
            "5-10 JT Industri fashion dan tekstil  0-10 JT 2-11 tahun, 12-17 tahun, 18-39 tahun, 40-59 tahun, >60 tahun\n",
            "50020110  -  Produksi Produk Olahan Limbah\n",
            "5-10 JT Industri kerajinan tangan dan souvenir 0-10 JT 12-17 tahun, 18-39 tahun, 40-59 tahun, >60 tahun\n",
            "40010153  -  Usaha Perlengkapan dan Kebutuhan Olahraga\n",
            "11-30 JT Industri fashion dan tekstil 0-10 JT 12-17 tahun, 18-39 tahun, 40-59 tahun\n",
            "50010109  -  Produksi Produk Olahan Limbah\n",
            "<=3 JT Industri kerajinan tangan dan souvenir 0-10 JT 12-17 tahun, 18-39 tahun, 40-59 tahun, >60 tahun\n",
            "30010103  -  Bisnis Makanan Frozen Food\n",
            "5-10 JT Industri makanan dan minuman 0-10 JT 2-11 tahun, 12-17 tahun, 18-39 tahun, 40-59 tahun\n"
          ]
        }
      ],
      "source": [
        "recommend(95020152) "
      ]
    },
    {
      "cell_type": "code",
      "execution_count": null,
      "metadata": {
        "colab": {
          "base_uri": "https://localhost:8080/",
          "height": 214
        },
        "id": "hxsxpw6BfMEh",
        "outputId": "8261aba4-4dbb-4171-d375-dc86e21a72d2"
      },
      "outputs": [
        {
          "output_type": "execute_result",
          "data": {
            "text/plain": [
              "     id_usaha             jenis_usaha skala_usaha modal_usaha  \\\n",
              "142  95010152  Usaha Perbaikan Sepatu       Mikro      <=3 JT   \n",
              "\n",
              "                      bidang_usaha omset_usaha  \\\n",
              "142  Industri fashion dan tekstil      0-10 JT   \n",
              "\n",
              "                                  usia_targetpelanggan gender_targetpelanggan  \\\n",
              "142  2-11 tahun, 12-17 tahun, 18-39 tahun, 40-59 ta...   Laki-laki, Perempuan   \n",
              "\n",
              "                             pekerjaan_targetpelanggan  \\\n",
              "142  Pelajar/mahasiswa,\\nPegawai negeri sipil,\\nWir...   \n",
              "\n",
              "                                status_targetpelanggan  \\\n",
              "142  Kelas atas, Kelas menengah, Menuju kelas menengah   \n",
              "\n",
              "                                         jenis_lokasi_  \\\n",
              "142  Pusat Kota dan Keramaian, Desa dan Alam, Lingk...   \n",
              "\n",
              "                                              features  \n",
              "142  Mikro,<=3 JT,Industri fashion dan tekstil ,0-1...  "
            ],
            "text/html": [
              "\n",
              "  <div id=\"df-fe7fa98f-76d5-4320-b400-558d20421b8b\">\n",
              "    <div class=\"colab-df-container\">\n",
              "      <div>\n",
              "<style scoped>\n",
              "    .dataframe tbody tr th:only-of-type {\n",
              "        vertical-align: middle;\n",
              "    }\n",
              "\n",
              "    .dataframe tbody tr th {\n",
              "        vertical-align: top;\n",
              "    }\n",
              "\n",
              "    .dataframe thead th {\n",
              "        text-align: right;\n",
              "    }\n",
              "</style>\n",
              "<table border=\"1\" class=\"dataframe\">\n",
              "  <thead>\n",
              "    <tr style=\"text-align: right;\">\n",
              "      <th></th>\n",
              "      <th>id_usaha</th>\n",
              "      <th>jenis_usaha</th>\n",
              "      <th>skala_usaha</th>\n",
              "      <th>modal_usaha</th>\n",
              "      <th>bidang_usaha</th>\n",
              "      <th>omset_usaha</th>\n",
              "      <th>usia_targetpelanggan</th>\n",
              "      <th>gender_targetpelanggan</th>\n",
              "      <th>pekerjaan_targetpelanggan</th>\n",
              "      <th>status_targetpelanggan</th>\n",
              "      <th>jenis_lokasi_</th>\n",
              "      <th>features</th>\n",
              "    </tr>\n",
              "  </thead>\n",
              "  <tbody>\n",
              "    <tr>\n",
              "      <th>142</th>\n",
              "      <td>95010152</td>\n",
              "      <td>Usaha Perbaikan Sepatu</td>\n",
              "      <td>Mikro</td>\n",
              "      <td>&lt;=3 JT</td>\n",
              "      <td>Industri fashion dan tekstil</td>\n",
              "      <td>0-10 JT</td>\n",
              "      <td>2-11 tahun, 12-17 tahun, 18-39 tahun, 40-59 ta...</td>\n",
              "      <td>Laki-laki, Perempuan</td>\n",
              "      <td>Pelajar/mahasiswa,\\nPegawai negeri sipil,\\nWir...</td>\n",
              "      <td>Kelas atas, Kelas menengah, Menuju kelas menengah</td>\n",
              "      <td>Pusat Kota dan Keramaian, Desa dan Alam, Lingk...</td>\n",
              "      <td>Mikro,&lt;=3 JT,Industri fashion dan tekstil ,0-1...</td>\n",
              "    </tr>\n",
              "  </tbody>\n",
              "</table>\n",
              "</div>\n",
              "      <button class=\"colab-df-convert\" onclick=\"convertToInteractive('df-fe7fa98f-76d5-4320-b400-558d20421b8b')\"\n",
              "              title=\"Convert this dataframe to an interactive table.\"\n",
              "              style=\"display:none;\">\n",
              "        \n",
              "  <svg xmlns=\"http://www.w3.org/2000/svg\" height=\"24px\"viewBox=\"0 0 24 24\"\n",
              "       width=\"24px\">\n",
              "    <path d=\"M0 0h24v24H0V0z\" fill=\"none\"/>\n",
              "    <path d=\"M18.56 5.44l.94 2.06.94-2.06 2.06-.94-2.06-.94-.94-2.06-.94 2.06-2.06.94zm-11 1L8.5 8.5l.94-2.06 2.06-.94-2.06-.94L8.5 2.5l-.94 2.06-2.06.94zm10 10l.94 2.06.94-2.06 2.06-.94-2.06-.94-.94-2.06-.94 2.06-2.06.94z\"/><path d=\"M17.41 7.96l-1.37-1.37c-.4-.4-.92-.59-1.43-.59-.52 0-1.04.2-1.43.59L10.3 9.45l-7.72 7.72c-.78.78-.78 2.05 0 2.83L4 21.41c.39.39.9.59 1.41.59.51 0 1.02-.2 1.41-.59l7.78-7.78 2.81-2.81c.8-.78.8-2.07 0-2.86zM5.41 20L4 18.59l7.72-7.72 1.47 1.35L5.41 20z\"/>\n",
              "  </svg>\n",
              "      </button>\n",
              "      \n",
              "  <style>\n",
              "    .colab-df-container {\n",
              "      display:flex;\n",
              "      flex-wrap:wrap;\n",
              "      gap: 12px;\n",
              "    }\n",
              "\n",
              "    .colab-df-convert {\n",
              "      background-color: #E8F0FE;\n",
              "      border: none;\n",
              "      border-radius: 50%;\n",
              "      cursor: pointer;\n",
              "      display: none;\n",
              "      fill: #1967D2;\n",
              "      height: 32px;\n",
              "      padding: 0 0 0 0;\n",
              "      width: 32px;\n",
              "    }\n",
              "\n",
              "    .colab-df-convert:hover {\n",
              "      background-color: #E2EBFA;\n",
              "      box-shadow: 0px 1px 2px rgba(60, 64, 67, 0.3), 0px 1px 3px 1px rgba(60, 64, 67, 0.15);\n",
              "      fill: #174EA6;\n",
              "    }\n",
              "\n",
              "    [theme=dark] .colab-df-convert {\n",
              "      background-color: #3B4455;\n",
              "      fill: #D2E3FC;\n",
              "    }\n",
              "\n",
              "    [theme=dark] .colab-df-convert:hover {\n",
              "      background-color: #434B5C;\n",
              "      box-shadow: 0px 1px 3px 1px rgba(0, 0, 0, 0.15);\n",
              "      filter: drop-shadow(0px 1px 2px rgba(0, 0, 0, 0.3));\n",
              "      fill: #FFFFFF;\n",
              "    }\n",
              "  </style>\n",
              "\n",
              "      <script>\n",
              "        const buttonEl =\n",
              "          document.querySelector('#df-fe7fa98f-76d5-4320-b400-558d20421b8b button.colab-df-convert');\n",
              "        buttonEl.style.display =\n",
              "          google.colab.kernel.accessAllowed ? 'block' : 'none';\n",
              "\n",
              "        async function convertToInteractive(key) {\n",
              "          const element = document.querySelector('#df-fe7fa98f-76d5-4320-b400-558d20421b8b');\n",
              "          const dataTable =\n",
              "            await google.colab.kernel.invokeFunction('convertToInteractive',\n",
              "                                                     [key], {});\n",
              "          if (!dataTable) return;\n",
              "\n",
              "          const docLinkHtml = 'Like what you see? Visit the ' +\n",
              "            '<a target=\"_blank\" href=https://colab.research.google.com/notebooks/data_table.ipynb>data table notebook</a>'\n",
              "            + ' to learn more about interactive tables.';\n",
              "          element.innerHTML = '';\n",
              "          dataTable['output_type'] = 'display_data';\n",
              "          await google.colab.output.renderOutput(dataTable, element);\n",
              "          const docLink = document.createElement('div');\n",
              "          docLink.innerHTML = docLinkHtml;\n",
              "          element.appendChild(docLink);\n",
              "        }\n",
              "      </script>\n",
              "    </div>\n",
              "  </div>\n",
              "  "
            ]
          },
          "metadata": {},
          "execution_count": 80
        }
      ],
      "source": [
        "df[df['id_usaha']==95010152]"
      ]
    },
    {
      "cell_type": "code",
      "execution_count": null,
      "metadata": {
        "colab": {
          "base_uri": "https://localhost:8080/",
          "height": 232
        },
        "id": "nMgsxhhiff4D",
        "outputId": "000d14fe-2211-4b93-c001-41014e6bc9f7"
      },
      "outputs": [
        {
          "output_type": "execute_result",
          "data": {
            "text/plain": [
              "    id_usaha                    jenis_usaha skala_usaha modal_usaha  \\\n",
              "25  50020110  Produksi Produk Olahan Limbah      Kecil      5-10 JT   \n",
              "\n",
              "                              bidang_usaha omset_usaha  \\\n",
              "25  Industri kerajinan tangan dan souvenir     0-10 JT   \n",
              "\n",
              "                                usia_targetpelanggan gender_targetpelanggan  \\\n",
              "25  12-17 tahun, 18-39 tahun, 40-59 tahun, >60 tahun   Laki-laki, Perempuan   \n",
              "\n",
              "                            pekerjaan_targetpelanggan  \\\n",
              "25  Pelajar/mahasiswa,\\nPegawai negeri sipil,\\nWir...   \n",
              "\n",
              "                               status_targetpelanggan  \\\n",
              "25  Kelas atas, Kelas menengah, Menuju kelas menen...   \n",
              "\n",
              "                                        jenis_lokasi_  \\\n",
              "25  Pusat Kota dan Keramaian, Desa dan Alam, Permu...   \n",
              "\n",
              "                                             features  \n",
              "25  Kecil ,5-10 JT,Industri kerajinan tangan dan s...  "
            ],
            "text/html": [
              "\n",
              "  <div id=\"df-d99cf3d1-c84a-40e7-a321-6b3c2cf34816\">\n",
              "    <div class=\"colab-df-container\">\n",
              "      <div>\n",
              "<style scoped>\n",
              "    .dataframe tbody tr th:only-of-type {\n",
              "        vertical-align: middle;\n",
              "    }\n",
              "\n",
              "    .dataframe tbody tr th {\n",
              "        vertical-align: top;\n",
              "    }\n",
              "\n",
              "    .dataframe thead th {\n",
              "        text-align: right;\n",
              "    }\n",
              "</style>\n",
              "<table border=\"1\" class=\"dataframe\">\n",
              "  <thead>\n",
              "    <tr style=\"text-align: right;\">\n",
              "      <th></th>\n",
              "      <th>id_usaha</th>\n",
              "      <th>jenis_usaha</th>\n",
              "      <th>skala_usaha</th>\n",
              "      <th>modal_usaha</th>\n",
              "      <th>bidang_usaha</th>\n",
              "      <th>omset_usaha</th>\n",
              "      <th>usia_targetpelanggan</th>\n",
              "      <th>gender_targetpelanggan</th>\n",
              "      <th>pekerjaan_targetpelanggan</th>\n",
              "      <th>status_targetpelanggan</th>\n",
              "      <th>jenis_lokasi_</th>\n",
              "      <th>features</th>\n",
              "    </tr>\n",
              "  </thead>\n",
              "  <tbody>\n",
              "    <tr>\n",
              "      <th>25</th>\n",
              "      <td>50020110</td>\n",
              "      <td>Produksi Produk Olahan Limbah</td>\n",
              "      <td>Kecil</td>\n",
              "      <td>5-10 JT</td>\n",
              "      <td>Industri kerajinan tangan dan souvenir</td>\n",
              "      <td>0-10 JT</td>\n",
              "      <td>12-17 tahun, 18-39 tahun, 40-59 tahun, &gt;60 tahun</td>\n",
              "      <td>Laki-laki, Perempuan</td>\n",
              "      <td>Pelajar/mahasiswa,\\nPegawai negeri sipil,\\nWir...</td>\n",
              "      <td>Kelas atas, Kelas menengah, Menuju kelas menen...</td>\n",
              "      <td>Pusat Kota dan Keramaian, Desa dan Alam, Permu...</td>\n",
              "      <td>Kecil ,5-10 JT,Industri kerajinan tangan dan s...</td>\n",
              "    </tr>\n",
              "  </tbody>\n",
              "</table>\n",
              "</div>\n",
              "      <button class=\"colab-df-convert\" onclick=\"convertToInteractive('df-d99cf3d1-c84a-40e7-a321-6b3c2cf34816')\"\n",
              "              title=\"Convert this dataframe to an interactive table.\"\n",
              "              style=\"display:none;\">\n",
              "        \n",
              "  <svg xmlns=\"http://www.w3.org/2000/svg\" height=\"24px\"viewBox=\"0 0 24 24\"\n",
              "       width=\"24px\">\n",
              "    <path d=\"M0 0h24v24H0V0z\" fill=\"none\"/>\n",
              "    <path d=\"M18.56 5.44l.94 2.06.94-2.06 2.06-.94-2.06-.94-.94-2.06-.94 2.06-2.06.94zm-11 1L8.5 8.5l.94-2.06 2.06-.94-2.06-.94L8.5 2.5l-.94 2.06-2.06.94zm10 10l.94 2.06.94-2.06 2.06-.94-2.06-.94-.94-2.06-.94 2.06-2.06.94z\"/><path d=\"M17.41 7.96l-1.37-1.37c-.4-.4-.92-.59-1.43-.59-.52 0-1.04.2-1.43.59L10.3 9.45l-7.72 7.72c-.78.78-.78 2.05 0 2.83L4 21.41c.39.39.9.59 1.41.59.51 0 1.02-.2 1.41-.59l7.78-7.78 2.81-2.81c.8-.78.8-2.07 0-2.86zM5.41 20L4 18.59l7.72-7.72 1.47 1.35L5.41 20z\"/>\n",
              "  </svg>\n",
              "      </button>\n",
              "      \n",
              "  <style>\n",
              "    .colab-df-container {\n",
              "      display:flex;\n",
              "      flex-wrap:wrap;\n",
              "      gap: 12px;\n",
              "    }\n",
              "\n",
              "    .colab-df-convert {\n",
              "      background-color: #E8F0FE;\n",
              "      border: none;\n",
              "      border-radius: 50%;\n",
              "      cursor: pointer;\n",
              "      display: none;\n",
              "      fill: #1967D2;\n",
              "      height: 32px;\n",
              "      padding: 0 0 0 0;\n",
              "      width: 32px;\n",
              "    }\n",
              "\n",
              "    .colab-df-convert:hover {\n",
              "      background-color: #E2EBFA;\n",
              "      box-shadow: 0px 1px 2px rgba(60, 64, 67, 0.3), 0px 1px 3px 1px rgba(60, 64, 67, 0.15);\n",
              "      fill: #174EA6;\n",
              "    }\n",
              "\n",
              "    [theme=dark] .colab-df-convert {\n",
              "      background-color: #3B4455;\n",
              "      fill: #D2E3FC;\n",
              "    }\n",
              "\n",
              "    [theme=dark] .colab-df-convert:hover {\n",
              "      background-color: #434B5C;\n",
              "      box-shadow: 0px 1px 3px 1px rgba(0, 0, 0, 0.15);\n",
              "      filter: drop-shadow(0px 1px 2px rgba(0, 0, 0, 0.3));\n",
              "      fill: #FFFFFF;\n",
              "    }\n",
              "  </style>\n",
              "\n",
              "      <script>\n",
              "        const buttonEl =\n",
              "          document.querySelector('#df-d99cf3d1-c84a-40e7-a321-6b3c2cf34816 button.colab-df-convert');\n",
              "        buttonEl.style.display =\n",
              "          google.colab.kernel.accessAllowed ? 'block' : 'none';\n",
              "\n",
              "        async function convertToInteractive(key) {\n",
              "          const element = document.querySelector('#df-d99cf3d1-c84a-40e7-a321-6b3c2cf34816');\n",
              "          const dataTable =\n",
              "            await google.colab.kernel.invokeFunction('convertToInteractive',\n",
              "                                                     [key], {});\n",
              "          if (!dataTable) return;\n",
              "\n",
              "          const docLinkHtml = 'Like what you see? Visit the ' +\n",
              "            '<a target=\"_blank\" href=https://colab.research.google.com/notebooks/data_table.ipynb>data table notebook</a>'\n",
              "            + ' to learn more about interactive tables.';\n",
              "          element.innerHTML = '';\n",
              "          dataTable['output_type'] = 'display_data';\n",
              "          await google.colab.output.renderOutput(dataTable, element);\n",
              "          const docLink = document.createElement('div');\n",
              "          docLink.innerHTML = docLinkHtml;\n",
              "          element.appendChild(docLink);\n",
              "        }\n",
              "      </script>\n",
              "    </div>\n",
              "  </div>\n",
              "  "
            ]
          },
          "metadata": {},
          "execution_count": 81
        }
      ],
      "source": [
        "df[df['id_usaha']==50020110]"
      ]
    },
    {
      "cell_type": "markdown",
      "source": [
        "## TextVectorization with Tensorflow vectorization - stemmer"
      ],
      "metadata": {
        "id": "jS-eiEoF5aks"
      }
    },
    {
      "cell_type": "code",
      "source": [
        "df = df[['user_id', 'jenis_usaha', 'skala_usaha', 'modal_usaha', 'bidang_usaha', 'omset_usaha', 'usia_targetpelanggan', 'gender_targetpelanggan', 'pekerjaan_targetpelanggan', 'status_targetpelanggan', 'jenis_lokasi_']]\n",
        "df['features'] = df['skala_usaha'] +\" \" + df['modal_usaha'] +\" \"+ df['bidang_usaha'] +\" \"+ df[ 'omset_usaha'] +\" \"+ df['usia_targetpelanggan'] +\" \"+ df['gender_targetpelanggan'] +\" \"+ df['pekerjaan_targetpelanggan'] +\" \"+ df['status_targetpelanggan'] +\" \"+ df['jenis_lokasi_']\n",
        "\n",
        "new_df = df[['user_id', 'features']]\n",
        "\n",
        "new_df.features = new_df.features.apply(lambda x: x.replace(\",\",\"\").replace(\"-\",\"\").replace(\">\",\"\").replace(\"/\",\" \").replace(\"<\",\"\").replace(\"=\",\"\"))"
      ],
      "metadata": {
        "colab": {
          "base_uri": "https://localhost:8080/"
        },
        "id": "CGX8E7BE5cmk",
        "outputId": "f501fd5e-edb8-45d4-95be-17d668dd6385"
      },
      "execution_count": null,
      "outputs": [
        {
          "output_type": "stream",
          "name": "stderr",
          "text": [
            "<ipython-input-14-b771183caae5>:6: SettingWithCopyWarning: \n",
            "A value is trying to be set on a copy of a slice from a DataFrame.\n",
            "Try using .loc[row_indexer,col_indexer] = value instead\n",
            "\n",
            "See the caveats in the documentation: https://pandas.pydata.org/pandas-docs/stable/user_guide/indexing.html#returning-a-view-versus-a-copy\n",
            "  new_df.features = new_df.features.apply(lambda x: x.replace(\",\",\"\").replace(\"-\",\"\").replace(\">\",\"\").replace(\"/\",\" \").replace(\"<\",\"\").replace(\"=\",\"\"))\n"
          ]
        }
      ]
    },
    {
      "cell_type": "code",
      "source": [
        "df['features']"
      ],
      "metadata": {
        "colab": {
          "base_uri": "https://localhost:8080/"
        },
        "id": "SEE8Vd6L2nqr",
        "outputId": "99e519fa-d230-4cf4-8d2a-f8ee39bc5d38"
      },
      "execution_count": null,
      "outputs": [
        {
          "output_type": "execute_result",
          "data": {
            "text/plain": [
              "0      Mikro 5-10 JT Industri makanan dan minuman 0-1...\n",
              "1      Kecil  11-30 JT Industri makanan dan minuman 1...\n",
              "2      Menengah 30-50 JT Industri makanan dan minuman...\n",
              "3      Mikro 11-30 JT Jasa kesehatan dan kecantikan 1...\n",
              "4      Kecil  30-50 JT Jasa kesehatan dan kecantikan ...\n",
              "5      Menengah 50-500 JT Jasa kesehatan dan kecantik...\n",
              "6      Mikro 5-10 JT Industri makanan dan minuman 0-1...\n",
              "7      Kecil  11-30 JT Industri makanan dan minuman 1...\n",
              "8      Menengah 30-50 JT Industri makanan dan minuman...\n",
              "9      Mikro 5-10 JT Pertanian dan perkebunan 0-10 JT...\n",
              "10     Kecil  11-30 JT Pertanian dan perkebunan 11-20...\n",
              "11     Menengah 30-50 JT Pertanian dan perkebunan 21-...\n",
              "12     Mikro 11-30 JT Industri fashion dan tekstil  2...\n",
              "13     Kecil  30-50 JT Industri fashion dan tekstil  ...\n",
              "14     Menengah 50-500 JT Industri fashion dan teksti...\n",
              "15     Mikro 11-30 JT Industri makanan dan minuman 11...\n",
              "16     Kecil  30-50 JT Industri makanan dan minuman 2...\n",
              "17     Menengah 50-500 JT Industri makanan dan minuma...\n",
              "18     Mikro 5-10 JT Jasa kebersihan 0-10 JT 18-39 ta...\n",
              "19     Kecil  11-30 JT Jasa kebersihan 11-20 JT  18-3...\n",
              "20     Menengah 30-50 JT Jasa kebersihan 31-40 JT 18-...\n",
              "21     Mikro 5-10 JT Jasa kesehatan dan kecantikan 0-...\n",
              "22     Kecil  30-50 JT Jasa kesehatan dan kecantikan ...\n",
              "23     Menengah 50-500 JT Jasa kesehatan dan kecantik...\n",
              "24     Mikro <=3 JT Industri kerajinan tangan dan sou...\n",
              "25     Kecil  5-10 JT Industri kerajinan tangan dan s...\n",
              "26     Menengah 30-50 JT Industri kerajinan tangan da...\n",
              "27     Mikro <=3 JT Industri makanan dan minuman 0-10...\n",
              "28     Kecil  11-30 JT Industri makanan dan minuman 1...\n",
              "29     Menengah 30-50 JT Industri makanan dan minuman...\n",
              "30     Mikro 30-50 JT Industri makanan dan minuman 11...\n",
              "31     Kecil  50-500 JT Industri makanan dan minuman ...\n",
              "32     Kecil  30-50 JT Industri makanan dan minuman 2...\n",
              "33     Menengah 50-500 JT Industri makanan dan minuma...\n",
              "34     Mikro 30-50 JT Industri makanan dan minuman 11...\n",
              "35     Mikro 11-30 JT Jasa kesehatan dan kecantikan 0...\n",
              "36     Kecil  30-50 JT Jasa kesehatan dan kecantikan ...\n",
              "37     Menengah 50-500 JT Jasa kesehatan dan kecantik...\n",
              "38     Mikro <=3 JT  Industri makanan dan minuman 0-1...\n",
              "39     Kecil  11-30 JT Industri makanan dan minuman 1...\n",
              "40     Menengah 30-50 JT Industri makanan dan minuman...\n",
              "41     Kecil  50-500 JT Lainnya >50 JT   18-39 tahun,...\n",
              "42     Menengah <=1 M Lainnya >50 JT   18-39 tahun, 4...\n",
              "43     Mikro 11-30 JT Industri fashion dan tekstil  0...\n",
              "44     Kecil  30-50 JT Industri fashion dan tekstil  ...\n",
              "45     Menengah 50-500 JT Industri fashion dan teksti...\n",
              "46     Mikro 11-30 JT Pertanian dan perkebunan 0-10 J...\n",
              "47     Kecil  50-500 JT Pertanian dan perkebunan >50 ...\n",
              "49     Mikro 11-30 JT Pertanian dan perkebunan  0-10 ...\n",
              "50     Kecil  30-50 JT Pertanian dan perkebunan  11-2...\n",
              "51     Menengah 30-50 JT Pertanian dan perkebunan  21...\n",
              "52     Kecil  30-50 JT Industri fashion dan tekstil  ...\n",
              "53     Menengah 50-500 JT Industri fashion dan teksti...\n",
              "54     Mikro 5-10 JT Industri makanan dan minuman 0-1...\n",
              "55     Kecil  30-50 JT Industri makanan dan minuman 2...\n",
              "56     Menengah 50-500 JT Industri makanan dan minuma...\n",
              "57     Mikro 11-30 JT Jasa kesehatan dan kecantikan 0...\n",
              "58     Kecil 30-50 JT Jasa kesehatan dan kecantikan 1...\n",
              "59     Menengah 50-500 JT Jasa kesehatan dan kecantik...\n",
              "60     Mikro 3-5 JT Pendidikan dan pelatihan 0-10 JT ...\n",
              "61     Kecil  30-50 JT Pendidikan dan pelatihan 11-20...\n",
              "62     Menengah 50-500 JT Pendidikan dan pelatihan 41...\n",
              "63     Mikro <=3 JT Jasa kesehatan dan kecantikan 0-1...\n",
              "64     Kecil  30-50 JT Jasa kesehatan dan kecantikan ...\n",
              "65     Menengah 50-500 JT Jasa kesehatan dan kecantik...\n",
              "66     Kecil 30-50 JT Industri kerajinan tangan dan s...\n",
              "67     Menengah 50-500 JT Industri kerajinan tangan d...\n",
              "68     Mikro 11-30 JT Industri makanan dan minuman 11...\n",
              "69     Kecil  30-50 JT Industri makanan dan minuman 2...\n",
              "70     Menengah 50-500 JT Industri makanan dan minuma...\n",
              "71     Mikro 11-30 JT Industri kerajinan tangan dan s...\n",
              "72     Kecil  30-50 JT Industri kerajinan tangan dan ...\n",
              "73     Menengah 50-500 JT Industri kerajinan tangan d...\n",
              "74     Mikro 11-30 JT Industri fashion dan tekstil  1...\n",
              "75     Kecil  30-50 JT Industri fashion dan tekstil  ...\n",
              "76     Menengah 50-500 JT Industri fashion dan teksti...\n",
              "77     Mikro 30-50 JT  Jasa teknologi informasi dan k...\n",
              "78     Kecil  50-500 JT Jasa teknologi informasi dan ...\n",
              "79     Mikro 11-30 JT Industri fashion dan tekstil  1...\n",
              "80     Kecil  30-50 JT Industri fashion dan tekstil  ...\n",
              "81     Menengah 50-500 JT Industri fashion dan teksti...\n",
              "82     Mikro 3-5 JT Industri kerajinan tangan dan sou...\n",
              "83     Kecil  30-50 JT Industri kerajinan tangan dan ...\n",
              "84     Menengah 50-500 JT Industri kerajinan tangan d...\n",
              "85     Mikro 11-30 JT Pendidikan dan pelatihan 0-10 J...\n",
              "86     Kecil  30-50 JT Pendidikan dan pelatihan 21-30...\n",
              "87     Menengah 50-500 JT Pendidikan dan pelatihan >5...\n",
              "88     Mikro 3-5 JT Industri kerajinan tangan dan sou...\n",
              "89     Kecil  11-30 JT Industri kerajinan tangan dan ...\n",
              "90     Menengah 30-50 JT Industri kerajinan tangan da...\n",
              "91     Mikro 5-10 JT Pertanian dan perkebunan  0-10 J...\n",
              "92     Kecil  11-30 JT Pertanian dan perkebunan  11-2...\n",
              "93     Menengah 30-50 JT Pertanian dan perkebunan  41...\n",
              "94     Mikro <=3 JT  Pendidikan dan pelatihan 0-10 JT...\n",
              "95     Mikro 3-5 JT Pendidikan dan pelatihan 11-20 JT...\n",
              "96     Mikro 5-10 JT Pendidikan dan pelatihan 21-30 J...\n",
              "97     Mikro <=3 JT Industri kerajinan tangan dan sou...\n",
              "98     Kecil  5-10 JT Industri kerajinan tangan dan s...\n",
              "99     Menengah 11-30 JT Industri kerajinan tangan da...\n",
              "100    Mikro <=3 JT Industri makanan dan minuman 0-10...\n",
              "101    Kecil  5-10 JT Industri makanan dan minuman 0-...\n",
              "102    Menengah 11-30 JT Industri makanan dan minuman...\n",
              "103    Mikro 5-10 JT Lainnya 0-10 JT 12-17 tahun, 18-...\n",
              "104    Kecil  11-30 JT Lainnya 11-20 JT  12-17 tahun,...\n",
              "105    Menengah 30-50 JT Lainnya 31-40 JT 12-17 tahun...\n",
              "106    Mikro 5-10 JT Jasa teknologi informasi dan kom...\n",
              "107    Kecil  11-30 JT Jasa teknologi informasi dan k...\n",
              "108    Menengah 30-50 JT Jasa teknologi informasi dan...\n",
              "109    Kecil  30-50 JT Jasa teknologi informasi dan k...\n",
              "110    Menengah 50-500 JT Jasa teknologi informasi da...\n",
              "111    Mikro <=3 JT Pertanian dan perkebunan 0-10 JT ...\n",
              "112    Kecil  11-30 JT Pertanian dan perkebunan 11-20...\n",
              "113    Menengah 30-50 JT Pertanian dan perkebunan 21-...\n",
              "114    Mikro <=3 JT  Industri kerajinan tangan dan so...\n",
              "115    Kecil  5-10 JT Industri kerajinan tangan dan s...\n",
              "116    Menengah 11-30 JT Industri kerajinan tangan da...\n",
              "117    Mikro 5-10 JT Industri fashion dan tekstil  0-...\n",
              "118    Kecil  11-30 JT Industri fashion dan tekstil  ...\n",
              "119    Menengah 30-50 JT Industri fashion dan tekstil...\n",
              "120    Kecil  30-50 JT Jasa kesehatan dan kecantikan ...\n",
              "121    Menengah 50-500 JT Jasa kesehatan dan kecantik...\n",
              "122    Kecil 50-500 JT Industri kerajinan tangan dan ...\n",
              "123    Menengah <=1 M Industri kerajinan tangan dan s...\n",
              "124    Mikro 5-10 JT Jasa kesehatan dan kecantikan 0-...\n",
              "125    Kecil  11-30 JT Jasa kesehatan dan kecantikan ...\n",
              "126    Menengah 30-50 JT Jasa kesehatan dan kecantika...\n",
              "127    Mikro 11-30 JT Jasa kebersihan 11-20 JT   18-3...\n",
              "128    Kecil  30-50 JT Jasa kebersihan 21-30 JT  18-3...\n",
              "129    Menengah 50-500 JT Jasa kebersihan 41-50 JT   ...\n",
              "130    Mikro 3-5 JT Industri kerajinan tangan dan sou...\n",
              "131    Kecil  11-30 JT Industri kerajinan tangan dan ...\n",
              "132    Menengah 30-50 JT Industri kerajinan tangan da...\n",
              "133    Mikro 3-5 JT Pertanian dan perkebunan 0-10 JT ...\n",
              "134    Kecil  11-30 JT Pertanian dan perkebunan 11-20...\n",
              "135    Menengah 30-50 JT Pertanian dan perkebunan 21-...\n",
              "136    Mikro 11-30 JT Otomotif 0-10 JT 18-39 tahun, 4...\n",
              "137    Kecil  30-50 JT Otomotif 21-30 JT 18-39 tahun,...\n",
              "138    Menengah 50-500 JT Otomotif >50 JT  18-39 tahu...\n",
              "139    Mikro 5-10 JT Jasa teknologi informasi dan kom...\n",
              "140    Kecil  11-30 JT Jasa teknologi informasi dan k...\n",
              "141    Menengah 30-50 JT Jasa teknologi informasi dan...\n",
              "142    Mikro <=3 JT Industri fashion dan tekstil  0-1...\n",
              "143    Kecil  3-5 JT Industri fashion dan tekstil  0-...\n",
              "144    Menengah 5-10 JT Industri fashion dan tekstil ...\n",
              "145    Mikro 11-30 JT Industri fashion dan tekstil 0-...\n",
              "146    Kecil  30-50 JT Industri fashion dan tekstil 2...\n",
              "147    Mikro 5-10 JT Jasa kesehatan dan kecantikan 0-...\n",
              "148    Kecil  11-30 JT Jasa kesehatan dan kecantikan ...\n",
              "149    Menengah 30-50 JT Jasa kesehatan dan kecantika...\n",
              "150    Mikro 3-5 JT Industri makanan dan minuman 0-10...\n",
              "151    Kecil  5-10 JT Industri makanan dan minuman 0-...\n",
              "152    Menengah 11-30 JT Industri makanan dan minuman...\n",
              "153    Mikro 5-10 JT Lainnya 0-10 JT 18-39 tahun, 40-...\n",
              "154    Kecil  11-30 JT Lainnya 11-20 JT  18-39 tahun,...\n",
              "155    Kecil 50-500 JT Jasa keamanan 11-20 JT 18-39 t...\n",
              "156    Menengah <=1 M Jasa keamanan 41-50 JT  18-39 t...\n",
              "157    Kecil 50-500 JT Otomotif 11-20 JT  18-39 tahun...\n",
              "158    Menengah <=1 M Otomotif >50 JT 18-39 tahun, 40...\n",
              "159    Kecil  11-30 JT Jasa teknologi informasi dan k...\n",
              "160    Menengah 30-50 JT Jasa teknologi informasi dan...\n",
              "161    Mikro 11-30 JT Perikanan dan kelautan 0-10 JT ...\n",
              "162    Kecil  11-30 JT Perikanan dan kelautan 11-20 J...\n",
              "163    Menengah 30-50 JT Perikanan dan kelautan 21-30...\n",
              "164    Mikro 3-5 JT Industri makanan dan minuman 0-10...\n",
              "165    Kecil  5-10 JT Industri makanan dan minuman 0-...\n",
              "166    Menengah 11-30 JT Industri makanan dan minuman...\n",
              "167    Mikro 3-5 JT Lainnya 0-10 JT 18-39 tahun, 40-5...\n",
              "168    Mikro 5-10 JT Jasa konsultasi dan manajemen 0-...\n",
              "169    Kecil  30-50 JT Jasa konsultasi dan manajemen ...\n",
              "170    Mikro 11-30 JT Pendidikan dan pelatihan 0-10 J...\n",
              "171    Kecil  30-50 JT Pendidikan dan pelatihan 11-20...\n",
              "172    Menengah <=1 M Pendidikan dan pelatihan 21-30 ...\n",
              "173    Mikro 30-50 JT Lainnya 11-20 JT  12-17 tahun, ...\n",
              "174    Kecil  50-500 JT Lainnya 21-30 JT 12-17 tahun,...\n",
              "175    Mikro 11-30 JT Pendidikan dan pelatihan 0-10 J...\n",
              "176    Mikro 11-30 JT Pendidikan dan pelatihan 11-20 ...\n",
              "177    Kecil  50-500 JT Lainnya 21-30 JT 12-17 tahun,...\n",
              "178    Mikro <=3 JT Jasa teknologi informasi dan komu...\n",
              "179    Mikro <=3 JT Industri fashion dan tekstil  0-1...\n",
              "180    Mikro 11-30 JT Pendidikan dan pelatihan 0-10 J...\n",
              "181    Mikro 11-30 JT Lainnya 0-10 JT 12-17 tahun, 18...\n",
              "182    Mikro 11-30 JT Jasa konsultasi dan manajemen 0...\n",
              "Name: features, dtype: object"
            ]
          },
          "metadata": {},
          "execution_count": 15
        }
      ]
    },
    {
      "cell_type": "code",
      "source": [
        "import nltk \n",
        "from nltk.stem.porter import PorterStemmer \n",
        "\n",
        "ps=PorterStemmer()\n",
        "\n",
        "def stem(txt): \n",
        "  y=[]\n",
        "\n",
        "  for i in txt.split(): \n",
        "    y.append(ps.stem(i))\n",
        "\n",
        "  return \" \".join(y)\n",
        "\n",
        "new_df.features = new_df.features.apply(stem)"
      ],
      "metadata": {
        "colab": {
          "base_uri": "https://localhost:8080/"
        },
        "id": "Nu-ukJYW0U80",
        "outputId": "6dd21c9c-5b01-462c-fb9a-a53c9dc7bac3"
      },
      "execution_count": null,
      "outputs": [
        {
          "output_type": "stream",
          "name": "stderr",
          "text": [
            "<ipython-input-16-3dd0ab83138c>:14: SettingWithCopyWarning: \n",
            "A value is trying to be set on a copy of a slice from a DataFrame.\n",
            "Try using .loc[row_indexer,col_indexer] = value instead\n",
            "\n",
            "See the caveats in the documentation: https://pandas.pydata.org/pandas-docs/stable/user_guide/indexing.html#returning-a-view-versus-a-copy\n",
            "  new_df.features = new_df.features.apply(stem)\n"
          ]
        }
      ]
    },
    {
      "cell_type": "code",
      "source": [
        "new_df['features']"
      ],
      "metadata": {
        "colab": {
          "base_uri": "https://localhost:8080/"
        },
        "id": "AEU92Ecx2zCb",
        "outputId": "7c699d52-ae1f-4ae2-dffa-1e65d411832f"
      },
      "execution_count": null,
      "outputs": [
        {
          "output_type": "execute_result",
          "data": {
            "text/plain": [
              "0      mikro 510 jt industri makanan dan minuman 010 ...\n",
              "1      kecil 1130 jt industri makanan dan minuman 112...\n",
              "2      menengah 3050 jt industri makanan dan minuman ...\n",
              "3      mikro 1130 jt jasa kesehatan dan kecantikan 11...\n",
              "4      kecil 3050 jt jasa kesehatan dan kecantikan 31...\n",
              "5      menengah 50500 jt jasa kesehatan dan kecantika...\n",
              "6      mikro 510 jt industri makanan dan minuman 010 ...\n",
              "7      kecil 1130 jt industri makanan dan minuman 112...\n",
              "8      menengah 3050 jt industri makanan dan minuman ...\n",
              "9      mikro 510 jt pertanian dan perkebunan 010 jt 1...\n",
              "10     kecil 1130 jt pertanian dan perkebunan 1120 jt...\n",
              "11     menengah 3050 jt pertanian dan perkebunan 2130...\n",
              "12     mikro 1130 jt industri fashion dan tekstil 213...\n",
              "13     kecil 3050 jt industri fashion dan tekstil 213...\n",
              "14     menengah 50500 jt industri fashion dan tekstil...\n",
              "15     mikro 1130 jt industri makanan dan minuman 112...\n",
              "16     kecil 3050 jt industri makanan dan minuman 213...\n",
              "17     menengah 50500 jt industri makanan dan minuman...\n",
              "18     mikro 510 jt jasa kebersihan 010 jt 1839 tahun...\n",
              "19     kecil 1130 jt jasa kebersihan 1120 jt 1839 tah...\n",
              "20     menengah 3050 jt jasa kebersihan 3140 jt 1839 ...\n",
              "21     mikro 510 jt jasa kesehatan dan kecantikan 010...\n",
              "22     kecil 3050 jt jasa kesehatan dan kecantikan 31...\n",
              "23     menengah 50500 jt jasa kesehatan dan kecantika...\n",
              "24     mikro 3 jt industri kerajinan tangan dan souve...\n",
              "25     kecil 510 jt industri kerajinan tangan dan sou...\n",
              "26     menengah 3050 jt industri kerajinan tangan dan...\n",
              "27     mikro 3 jt industri makanan dan minuman 010 jt...\n",
              "28     kecil 1130 jt industri makanan dan minuman 112...\n",
              "29     menengah 3050 jt industri makanan dan minuman ...\n",
              "30     mikro 3050 jt industri makanan dan minuman 112...\n",
              "31     kecil 50500 jt industri makanan dan minuman 21...\n",
              "32     kecil 3050 jt industri makanan dan minuman 213...\n",
              "33     menengah 50500 jt industri makanan dan minuman...\n",
              "34     mikro 3050 jt industri makanan dan minuman 112...\n",
              "35     mikro 1130 jt jasa kesehatan dan kecantikan 01...\n",
              "36     kecil 3050 jt jasa kesehatan dan kecantikan 21...\n",
              "37     menengah 50500 jt jasa kesehatan dan kecantika...\n",
              "38     mikro 3 jt industri makanan dan minuman 010 jt...\n",
              "39     kecil 1130 jt industri makanan dan minuman 112...\n",
              "40     menengah 3050 jt industri makanan dan minuman ...\n",
              "41     kecil 50500 jt lainnya 50 jt 1839 tahun 4059 t...\n",
              "42     menengah 1 m lainnya 50 jt 1839 tahun 4059 tah...\n",
              "43     mikro 1130 jt industri fashion dan tekstil 010...\n",
              "44     kecil 3050 jt industri fashion dan tekstil 213...\n",
              "45     menengah 50500 jt industri fashion dan tekstil...\n",
              "46     mikro 1130 jt pertanian dan perkebunan 010 jt ...\n",
              "47     kecil 50500 jt pertanian dan perkebunan 50 jt ...\n",
              "49     mikro 1130 jt pertanian dan perkebunan 010 jt ...\n",
              "50     kecil 3050 jt pertanian dan perkebunan 1120 jt...\n",
              "51     menengah 3050 jt pertanian dan perkebunan 2130...\n",
              "52     kecil 3050 jt industri fashion dan tekstil 314...\n",
              "53     menengah 50500 jt industri fashion dan tekstil...\n",
              "54     mikro 510 jt industri makanan dan minuman 010 ...\n",
              "55     kecil 3050 jt industri makanan dan minuman 213...\n",
              "56     menengah 50500 jt industri makanan dan minuman...\n",
              "57     mikro 1130 jt jasa kesehatan dan kecantikan 01...\n",
              "58     kecil 3050 jt jasa kesehatan dan kecantikan 11...\n",
              "59     menengah 50500 jt jasa kesehatan dan kecantika...\n",
              "60     mikro 35 jt pendidikan dan pelatihan 010 jt 21...\n",
              "61     kecil 3050 jt pendidikan dan pelatihan 1120 jt...\n",
              "62     menengah 50500 jt pendidikan dan pelatihan 415...\n",
              "63     mikro 3 jt jasa kesehatan dan kecantikan 010 j...\n",
              "64     kecil 3050 jt jasa kesehatan dan kecantikan 11...\n",
              "65     menengah 50500 jt jasa kesehatan dan kecantika...\n",
              "66     kecil 3050 jt industri kerajinan tangan dan so...\n",
              "67     menengah 50500 jt industri kerajinan tangan da...\n",
              "68     mikro 1130 jt industri makanan dan minuman 112...\n",
              "69     kecil 3050 jt industri makanan dan minuman 213...\n",
              "70     menengah 50500 jt industri makanan dan minuman...\n",
              "71     mikro 1130 jt industri kerajinan tangan dan so...\n",
              "72     kecil 3050 jt industri kerajinan tangan dan so...\n",
              "73     menengah 50500 jt industri kerajinan tangan da...\n",
              "74     mikro 1130 jt industri fashion dan tekstil 112...\n",
              "75     kecil 3050 jt industri fashion dan tekstil 213...\n",
              "76     menengah 50500 jt industri fashion dan tekstil...\n",
              "77     mikro 3050 jt jasa teknolog informasi dan komu...\n",
              "78     kecil 50500 jt jasa teknolog informasi dan kom...\n",
              "79     mikro 1130 jt industri fashion dan tekstil 112...\n",
              "80     kecil 3050 jt industri fashion dan tekstil 213...\n",
              "81     menengah 50500 jt industri fashion dan tekstil...\n",
              "82     mikro 35 jt industri kerajinan tangan dan souv...\n",
              "83     kecil 3050 jt industri kerajinan tangan dan so...\n",
              "84     menengah 50500 jt industri kerajinan tangan da...\n",
              "85     mikro 1130 jt pendidikan dan pelatihan 010 jt ...\n",
              "86     kecil 3050 jt pendidikan dan pelatihan 2130 jt...\n",
              "87     menengah 50500 jt pendidikan dan pelatihan 50 ...\n",
              "88     mikro 35 jt industri kerajinan tangan dan souv...\n",
              "89     kecil 1130 jt industri kerajinan tangan dan so...\n",
              "90     menengah 3050 jt industri kerajinan tangan dan...\n",
              "91     mikro 510 jt pertanian dan perkebunan 010 jt 1...\n",
              "92     kecil 1130 jt pertanian dan perkebunan 1120 jt...\n",
              "93     menengah 3050 jt pertanian dan perkebunan 4150...\n",
              "94     mikro 3 jt pendidikan dan pelatihan 010 jt 211...\n",
              "95     mikro 35 jt pendidikan dan pelatihan 1120 jt 2...\n",
              "96     mikro 510 jt pendidikan dan pelatihan 2130 jt ...\n",
              "97     mikro 3 jt industri kerajinan tangan dan souve...\n",
              "98     kecil 510 jt industri kerajinan tangan dan sou...\n",
              "99     menengah 1130 jt industri kerajinan tangan dan...\n",
              "100    mikro 3 jt industri makanan dan minuman 010 jt...\n",
              "101    kecil 510 jt industri makanan dan minuman 010 ...\n",
              "102    menengah 1130 jt industri makanan dan minuman ...\n",
              "103    mikro 510 jt lainnya 010 jt 1217 tahun 1839 ta...\n",
              "104    kecil 1130 jt lainnya 1120 jt 1217 tahun 1839 ...\n",
              "105    menengah 3050 jt lainnya 3140 jt 1217 tahun 18...\n",
              "106    mikro 510 jt jasa teknolog informasi dan komun...\n",
              "107    kecil 1130 jt jasa teknolog informasi dan komu...\n",
              "108    menengah 3050 jt jasa teknolog informasi dan k...\n",
              "109    kecil 3050 jt jasa teknolog informasi dan komu...\n",
              "110    menengah 50500 jt jasa teknolog informasi dan ...\n",
              "111    mikro 3 jt pertanian dan perkebunan 010 jt 183...\n",
              "112    kecil 1130 jt pertanian dan perkebunan 1120 jt...\n",
              "113    menengah 3050 jt pertanian dan perkebunan 2130...\n",
              "114    mikro 3 jt industri kerajinan tangan dan souve...\n",
              "115    kecil 510 jt industri kerajinan tangan dan sou...\n",
              "116    menengah 1130 jt industri kerajinan tangan dan...\n",
              "117    mikro 510 jt industri fashion dan tekstil 010 ...\n",
              "118    kecil 1130 jt industri fashion dan tekstil 112...\n",
              "119    menengah 3050 jt industri fashion dan tekstil ...\n",
              "120    kecil 3050 jt jasa kesehatan dan kecantikan 11...\n",
              "121    menengah 50500 jt jasa kesehatan dan kecantika...\n",
              "122    kecil 50500 jt industri kerajinan tangan dan s...\n",
              "123    menengah 1 m industri kerajinan tangan dan sou...\n",
              "124    mikro 510 jt jasa kesehatan dan kecantikan 010...\n",
              "125    kecil 1130 jt jasa kesehatan dan kecantikan 11...\n",
              "126    menengah 3050 jt jasa kesehatan dan kecantikan...\n",
              "127    mikro 1130 jt jasa kebersihan 1120 jt 1839 tah...\n",
              "128    kecil 3050 jt jasa kebersihan 2130 jt 1839 tah...\n",
              "129    menengah 50500 jt jasa kebersihan 4150 jt 1839...\n",
              "130    mikro 35 jt industri kerajinan tangan dan souv...\n",
              "131    kecil 1130 jt industri kerajinan tangan dan so...\n",
              "132    menengah 3050 jt industri kerajinan tangan dan...\n",
              "133    mikro 35 jt pertanian dan perkebunan 010 jt 18...\n",
              "134    kecil 1130 jt pertanian dan perkebunan 1120 jt...\n",
              "135    menengah 3050 jt pertanian dan perkebunan 2130...\n",
              "136    mikro 1130 jt otomotif 010 jt 1839 tahun 4059 ...\n",
              "137    kecil 3050 jt otomotif 2130 jt 1839 tahun 4059...\n",
              "138    menengah 50500 jt otomotif 50 jt 1839 tahun 40...\n",
              "139    mikro 510 jt jasa teknolog informasi dan komun...\n",
              "140    kecil 1130 jt jasa teknolog informasi dan komu...\n",
              "141    menengah 3050 jt jasa teknolog informasi dan k...\n",
              "142    mikro 3 jt industri fashion dan tekstil 010 jt...\n",
              "143    kecil 35 jt industri fashion dan tekstil 010 j...\n",
              "144    menengah 510 jt industri fashion dan tekstil 0...\n",
              "145    mikro 1130 jt industri fashion dan tekstil 010...\n",
              "146    kecil 3050 jt industri fashion dan tekstil 213...\n",
              "147    mikro 510 jt jasa kesehatan dan kecantikan 010...\n",
              "148    kecil 1130 jt jasa kesehatan dan kecantikan 11...\n",
              "149    menengah 3050 jt jasa kesehatan dan kecantikan...\n",
              "150    mikro 35 jt industri makanan dan minuman 010 j...\n",
              "151    kecil 510 jt industri makanan dan minuman 010 ...\n",
              "152    menengah 1130 jt industri makanan dan minuman ...\n",
              "153    mikro 510 jt lainnya 010 jt 1839 tahun 4059 ta...\n",
              "154    kecil 1130 jt lainnya 1120 jt 1839 tahun 4059 ...\n",
              "155    kecil 50500 jt jasa keamanan 1120 jt 1839 tahu...\n",
              "156    menengah 1 m jasa keamanan 4150 jt 1839 tahun ...\n",
              "157    kecil 50500 jt otomotif 1120 jt 1839 tahun 405...\n",
              "158    menengah 1 m otomotif 50 jt 1839 tahun 4059 ta...\n",
              "159    kecil 1130 jt jasa teknolog informasi dan komu...\n",
              "160    menengah 3050 jt jasa teknolog informasi dan k...\n",
              "161    mikro 1130 jt perikanan dan kelautan 010 jt 18...\n",
              "162    kecil 1130 jt perikanan dan kelautan 1120 jt 1...\n",
              "163    menengah 3050 jt perikanan dan kelautan 2130 j...\n",
              "164    mikro 35 jt industri makanan dan minuman 010 j...\n",
              "165    kecil 510 jt industri makanan dan minuman 010 ...\n",
              "166    menengah 1130 jt industri makanan dan minuman ...\n",
              "167    mikro 35 jt lainnya 010 jt 1839 tahun 4059 tah...\n",
              "168    mikro 510 jt jasa konsultasi dan manajemen 010...\n",
              "169    kecil 3050 jt jasa konsultasi dan manajemen 11...\n",
              "170    mikro 1130 jt pendidikan dan pelatihan 010 jt ...\n",
              "171    kecil 3050 jt pendidikan dan pelatihan 1120 jt...\n",
              "172    menengah 1 m pendidikan dan pelatihan 2130 jt ...\n",
              "173    mikro 3050 jt lainnya 1120 jt 1217 tahun 1839 ...\n",
              "174    kecil 50500 jt lainnya 2130 jt 1217 tahun 1839...\n",
              "175    mikro 1130 jt pendidikan dan pelatihan 010 jt ...\n",
              "176    mikro 1130 jt pendidikan dan pelatihan 1120 jt...\n",
              "177    kecil 50500 jt lainnya 2130 jt 1217 tahun 1839...\n",
              "178    mikro 3 jt jasa teknolog informasi dan komunik...\n",
              "179    mikro 3 jt industri fashion dan tekstil 010 jt...\n",
              "180    mikro 1130 jt pendidikan dan pelatihan 010 jt ...\n",
              "181    mikro 1130 jt lainnya 010 jt 1217 tahun 1839 t...\n",
              "182    mikro 1130 jt jasa konsultasi dan manajemen 01...\n",
              "Name: features, dtype: object"
            ]
          },
          "metadata": {},
          "execution_count": 17
        }
      ]
    },
    {
      "cell_type": "code",
      "source": [
        "!pip install -upgrade tensorflow-gpu"
      ],
      "metadata": {
        "colab": {
          "base_uri": "https://localhost:8080/"
        },
        "id": "EDJiOSdv7sTM",
        "outputId": "df984a04-657f-4c02-a291-00ac0b1fd018"
      },
      "execution_count": null,
      "outputs": [
        {
          "output_type": "stream",
          "name": "stdout",
          "text": [
            "\n",
            "Usage:   \n",
            "  pip3 install [options] <requirement specifier> [package-index-options] ...\n",
            "  pip3 install [options] -r <requirements file> [package-index-options] ...\n",
            "  pip3 install [options] [-e] <vcs project url> ...\n",
            "  pip3 install [options] [-e] <local project path> ...\n",
            "  pip3 install [options] <archive url/path> ...\n",
            "\n",
            "no such option: -u\n"
          ]
        }
      ]
    },
    {
      "cell_type": "code",
      "source": [
        "import tensorflow as tf \n",
        "from tensorflow import keras\n",
        "\n",
        "from tensorflow.keras.layers.experimental.preprocessing import TextVectorization "
      ],
      "metadata": {
        "id": "_utXOyTr8IGY"
      },
      "execution_count": null,
      "outputs": []
    },
    {
      "cell_type": "code",
      "source": [
        "text_features= tf.data.Dataset.from_tensor_slices(new_df['features'])\n",
        "max_features = 5000 \n",
        "max_len = 70\n"
      ],
      "metadata": {
        "id": "AYZzIreT5sj5"
      },
      "execution_count": null,
      "outputs": []
    },
    {
      "cell_type": "code",
      "source": [
        "vectorize_layer = tf.keras.layers.TextVectorization(\n",
        "    max_tokens=max_features, \n",
        "    output_mode='int', \n",
        "    output_sequence_length = max_len\n",
        ")\n",
        "\n",
        "vectorize_layer.adapt(text_features.batch(10))\n",
        "\n",
        "model = tf.keras.models.Sequential()\n",
        "\n",
        "model.add(tf.keras.Input(shape=(1,), dtype=tf.string))\n",
        "model.add(vectorize_layer)\n",
        "\n",
        "#new_df.features = model.predict(new_df['features'])\n",
        "x =  model.predict(new_df['features'])"
      ],
      "metadata": {
        "colab": {
          "base_uri": "https://localhost:8080/"
        },
        "id": "5-u1mVba6N0Q",
        "outputId": "54bfa10b-2b5c-40ae-deed-2cff8dbfafce"
      },
      "execution_count": null,
      "outputs": [
        {
          "output_type": "stream",
          "name": "stdout",
          "text": [
            "6/6 [==============================] - 0s 2ms/step\n"
          ]
        }
      ]
    },
    {
      "cell_type": "code",
      "source": [
        "print(new_df['features'][1])"
      ],
      "metadata": {
        "colab": {
          "base_uri": "https://localhost:8080/"
        },
        "id": "IsBuH6Q2J16n",
        "outputId": "f901a69a-e403-4cc2-a853-278133af3adc"
      },
      "execution_count": null,
      "outputs": [
        {
          "output_type": "stream",
          "name": "stdout",
          "text": [
            "kecil 1130 jt industri makanan dan minuman 1120 jt 1839 tahun 4059 tahun 60 tahun perempuan pelajar mahasiswa petani nelayan pekerja inform irt kela ata kela menengah menuju kela menengah kela rentan kela miskin pusat kota dan keramaian permukiman penduduk desa dan alam\n"
          ]
        }
      ]
    },
    {
      "cell_type": "code",
      "source": [
        "print(x[1])"
      ],
      "metadata": {
        "colab": {
          "base_uri": "https://localhost:8080/"
        },
        "id": "YU2uErOYnmQq",
        "outputId": "0f4403dc-1138-42dd-966e-a84dd82be173"
      },
      "execution_count": null,
      "outputs": [
        {
          "output_type": "stream",
          "name": "stdout",
          "text": [
            "[38 42  5 28 53  4 52 46  5  9  2 13  2 27  2 10 14 15 57 69 20 21 25  3\n",
            "  8  3  6 37  3  6  3 47  3 48  7 11  4 12 24 23 49  4 45  0  0  0  0  0\n",
            "  0  0  0  0  0  0  0  0  0  0  0  0  0  0  0  0  0  0  0  0  0  0]\n"
          ]
        }
      ]
    },
    {
      "cell_type": "code",
      "source": [
        "from sklearn.metrics.pairwise import cosine_similarity\n",
        "similarity = cosine_similarity(x)"
      ],
      "metadata": {
        "id": "C8wzd3ypAcKJ"
      },
      "execution_count": null,
      "outputs": []
    },
    {
      "cell_type": "code",
      "source": [
        "def recommend(id):\n",
        "    usaha_index = new_df[new_df['user_id'] == id].index[0]\n",
        "    distances = similarity[usaha_index]\n",
        "    usaha_list = sorted(list(enumerate(distances)),reverse=True, key=lambda x:x[1])[:5]\n",
        "    \n",
        "    for i in usaha_list:\n",
        "        print(new_df.iloc[i[0]].user_id, \" - \", df.iloc[i[0]].jenis_usaha)\n",
        "        print(i)\n",
        "        print(df.iloc[i[0]].modal_usaha, df.iloc[i[0]].bidang_usaha, df.iloc[i[0]].omset_usaha, df.iloc[i[0]].usia_targetpelanggan, df.iloc[i[0]].gender_targetpelanggan) #df.iloc[i[0]].pekerjaan_targetpelanggan,df.iloc[i[0]].jenis_lokasi_ )"
      ],
      "metadata": {
        "id": "hYGV_jRDIbAj"
      },
      "execution_count": null,
      "outputs": []
    },
    {
      "cell_type": "code",
      "source": [],
      "metadata": {
        "id": "2rfTTdwJ4Hq6"
      },
      "execution_count": null,
      "outputs": []
    },
    {
      "cell_type": "code",
      "source": [
        "recommend(70030144) "
      ],
      "metadata": {
        "colab": {
          "base_uri": "https://localhost:8080/"
        },
        "id": "mik4I3sXI4-F",
        "outputId": "7dbbed20-2183-4b2e-bfb4-c0bd551530c8"
      },
      "execution_count": null,
      "outputs": [
        {
          "output_type": "stream",
          "name": "stdout",
          "text": [
            "50030145  -  Usaha Panglong Kayu\n",
            "(121, 1.0000000000000004)\n",
            "50-500 JT Industri kerajinan tangan dan souvenir 21-30 JT 18-39 tahun, 40-59 tahun, >60 tahun Laki-laki\n",
            "50030145  -  Usaha Panglong Kayu\n",
            "(122, 0.919786258423082)\n",
            "<=1 M Industri kerajinan tangan dan souvenir >50 JT  18-39 tahun, 40-59 tahun, >60 tahun Laki-laki\n",
            "50020133  -  Usaha Art Lukisan\n",
            "(88, 0.8156983121839398)\n",
            "11-30 JT Industri kerajinan tangan dan souvenir 11-20 JT  18-39 tahun, 40-59 tahun, >60 tahun Laki-laki, Perempuan\n",
            "50030133  -  Usaha Art Lukisan\n",
            "(89, 0.8028745598743883)\n",
            "30-50 JT Industri kerajinan tangan dan souvenir 21-30 JT 18-39 tahun, 40-59 tahun, >60 tahun Laki-laki, Perempuan\n",
            "50010133  -  Usaha Art Lukisan\n",
            "(87, 0.798278035584891)\n",
            "3-5 JT Industri kerajinan tangan dan souvenir 0-10 JT 18-39 tahun, 40-59 tahun, >60 tahun Laki-laki, Perempuan\n"
          ]
        }
      ]
    },
    {
      "cell_type": "markdown",
      "source": [
        "## Function Modelling"
      ],
      "metadata": {
        "id": "CKVS3N6HA5em"
      }
    },
    {
      "cell_type": "code",
      "source": [
        "import pandas as pd \n",
        "import numpy as np \n",
        "\n",
        "import tensorflow as tf \n",
        "from tensorflow import keras\n",
        "from tensorflow.keras.layers.experimental.preprocessing import TextVectorization \n",
        "\n",
        "import nltk \n",
        "from nltk.stem.porter import PorterStemmer \n",
        "\n",
        "from sklearn.metrics.pairwise import cosine_similarity"
      ],
      "metadata": {
        "id": "la6y_ixPCzva"
      },
      "execution_count": null,
      "outputs": []
    },
    {
      "cell_type": "code",
      "source": [
        "def ETL(csv_file):\n",
        "    \"\"\"\n",
        "    input:\n",
        "        csv file\n",
        "    deskripsi:\n",
        "        mengekstrak, transformasi data, \n",
        "        dan load data kedalam dataframe/variabel baru\n",
        "    output:\n",
        "        df,new_df,users\n",
        "    \"\"\"\n",
        "    #Variabel Lokal\n",
        "    users={}\n",
        "\n",
        "    #Extract\n",
        "    df = pd.read_csv(csv_file)\n",
        "    users = extract_user_datas(df)\n",
        "\n",
        "    # print(df)\n",
        "    # df.drop_duplicates(inplace=True)\n",
        "    # df.info()\n",
        "    # df.isnull().sum()\n",
        "    # df.duplicated().sum()\n",
        "\n",
        "    # developer-friendly columns name\n",
        "    df.columns = [x.lower().replace(' ', '_').replace('-', '_') for x in df.columns.to_list()]\n",
        "\n",
        "    #Transform\n",
        "    df.user_id= df.user_id.astype(str)\n",
        "\n",
        "    #Load\n",
        "    #load main datas to new dataframe will be used\n",
        "    df = df[['user_id', 'jenis_usaha', 'skala_usaha', 'modal_usaha', 'bidang_usaha', 'omset_usaha', 'usia_targetpelanggan', 'gender_targetpelanggan', 'pekerjaan_targetpelanggan', 'status_targetpelanggan', 'jenis_lokasi_']]\n",
        "    df['features'] = df['skala_usaha'] +\" \" + df['modal_usaha'] +\" \"+ df['bidang_usaha'] +\" \"+ df[ 'omset_usaha'] +\" \"+ df['usia_targetpelanggan'] +\" \"+ df['gender_targetpelanggan'] +\" \"+ df['pekerjaan_targetpelanggan'] +\" \"+ df['status_targetpelanggan'] +\" \"+ df['jenis_lokasi_']\n",
        "    new_df = df[[\"user_id\",\"features\"]]\n",
        "    new_df.features = new_df.features.apply(lambda x: x.replace(\",\",\"\").replace(\"-\",\"\").replace(\">\",\"\").replace(\"/\",\" \"))\n",
        "    new_df.features = new_df.features.apply(lambda x: x.lower())\n",
        "\n",
        "    # new_df\n",
        "\n",
        "    return df,new_df,users\n",
        "\n",
        "def extract_user_datas(df):\n",
        "    \"\"\"\n",
        "    output: \n",
        "        list users\n",
        "    \"\"\"\n",
        "    row = df.values.tolist()\n",
        "    # print(row[0])\n",
        "    for r in row:\n",
        "        # print(r)\n",
        "        user_meta_data = {\n",
        "            'user_id': r[0], \n",
        "            'jenis_usaha':r[1], \n",
        "            'skala_usaha':r[2], \n",
        "            'modal_usaha':r[3],\n",
        "            'bidang_usaha':r[4],\n",
        "            'omset_usaha':r[5], \n",
        "            'usia_targetpelanggan':r[6], \n",
        "            'gender_targetpelanggan':r[7], \n",
        "            'pekerjaan_targetpelanggan':r[8], \n",
        "            'status_targetpelanggan':r[9], \n",
        "            'jenis_lokasi_':r[10]\n",
        "        }\n",
        "\n",
        "        users[r[0]] = user_meta_data\n",
        "    return users"
      ],
      "metadata": {
        "id": "jmWum7JOmV8q"
      },
      "execution_count": null,
      "outputs": []
    },
    {
      "cell_type": "code",
      "source": [
        "users = {}\n",
        "user_meta_data = {\n",
        "    'user_id': '', \n",
        "    'jenis_usaha':'', \n",
        "    'skala_usaha':'', \n",
        "    'modal_usaha':'',\n",
        "    'bidang_usaha':'',\n",
        "    'omset_usaha':'', \n",
        "    'usia_targetpelanggan':'', \n",
        "    'gender_targetpelanggan':'', \n",
        "    'pekerjaan_targetpelanggan':'', \n",
        "    'status_targetpelanggan':'',\n",
        "    'jenis_lokasi_':''\n",
        "}\n",
        "df,new_df,users = ETL(\"/content/drive/MyDrive/dummy_data - usaha.csv\")"
      ],
      "metadata": {
        "colab": {
          "base_uri": "https://localhost:8080/"
        },
        "id": "yG19M-FyqeUG",
        "outputId": "fafadc97-c1a0-4309-c7a4-2a36bda2d197"
      },
      "execution_count": null,
      "outputs": [
        {
          "output_type": "stream",
          "name": "stderr",
          "text": [
            "<ipython-input-10-bd62d0ae5b86>:35: SettingWithCopyWarning: \n",
            "A value is trying to be set on a copy of a slice from a DataFrame.\n",
            "Try using .loc[row_indexer,col_indexer] = value instead\n",
            "\n",
            "See the caveats in the documentation: https://pandas.pydata.org/pandas-docs/stable/user_guide/indexing.html#returning-a-view-versus-a-copy\n",
            "  new_df.features = new_df.features.apply(lambda x: x.replace(\",\",\"\").replace(\"-\",\"\").replace(\">\",\"\").replace(\"/\",\" \"))\n",
            "<ipython-input-10-bd62d0ae5b86>:36: SettingWithCopyWarning: \n",
            "A value is trying to be set on a copy of a slice from a DataFrame.\n",
            "Try using .loc[row_indexer,col_indexer] = value instead\n",
            "\n",
            "See the caveats in the documentation: https://pandas.pydata.org/pandas-docs/stable/user_guide/indexing.html#returning-a-view-versus-a-copy\n",
            "  new_df.features = new_df.features.apply(lambda x: x.lower())\n"
          ]
        }
      ]
    },
    {
      "cell_type": "code",
      "source": [
        "print(users)"
      ],
      "metadata": {
        "colab": {
          "base_uri": "https://localhost:8080/"
        },
        "id": "hAUAgneQuZ1e",
        "outputId": "16a89fc2-a7b5-4dd8-c2c9-b28b185c8c81"
      },
      "execution_count": null,
      "outputs": [
        {
          "output_type": "stream",
          "name": "stdout",
          "text": [
            "{30010101: {'user_id': 30010101, 'jenis_usaha': 'Agent Air Mineral dan Gas LPJ', 'skala_usaha': 'Mikro', 'modal_usaha': '5-10 JT', 'bidang_usaha': 'Industri makanan dan minuman', 'omset_usaha': '0-10 JT', 'usia_targetpelanggan': '18-39 tahun, 40-59 tahun, >60 tahun', 'gender_targetpelanggan': 'Perempuan', 'pekerjaan_targetpelanggan': 'Pelajar/mahasiswa, Petani, Nelayan, Pekerja informal, IRT', 'status_targetpelanggan': 'Kelas atas, Kelas menengah, Menuju kelas menengah, Kelas rentan, Kelas miskin', 'jenis_lokasi_': 'Pusat Kota dan Keramaian, Permukiman penduduk, Desa dan Alam'}, 30020101: {'user_id': 30020101, 'jenis_usaha': 'Agent Air Mineral dan Gas LPJ', 'skala_usaha': 'Kecil ', 'modal_usaha': '11-30 JT', 'bidang_usaha': 'Industri makanan dan minuman', 'omset_usaha': '11-20 JT ', 'usia_targetpelanggan': '18-39 tahun, 40-59 tahun, >60 tahun', 'gender_targetpelanggan': 'Perempuan', 'pekerjaan_targetpelanggan': 'Pelajar/mahasiswa, Petani, Nelayan, Pekerja informal, IRT', 'status_targetpelanggan': 'Kelas atas, Kelas menengah, Menuju kelas menengah, Kelas rentan, Kelas miskin', 'jenis_lokasi_': 'Pusat Kota dan Keramaian, Permukiman penduduk, Desa dan Alam'}, 30030101: {'user_id': 30030101, 'jenis_usaha': 'Agent Air Mineral dan Gas LPJ', 'skala_usaha': 'Menengah', 'modal_usaha': '30-50 JT', 'bidang_usaha': 'Industri makanan dan minuman', 'omset_usaha': '21-30 JT', 'usia_targetpelanggan': '18-39 tahun, 40-59 tahun, >60 tahun', 'gender_targetpelanggan': 'Perempuan', 'pekerjaan_targetpelanggan': 'Pelajar/mahasiswa, Petani, Nelayan, Pekerja informal, IRT', 'status_targetpelanggan': 'Kelas atas, Kelas menengah, Menuju kelas menengah, Kelas rentan, Kelas miskin', 'jenis_lokasi_': 'Pusat Kota dan Keramaian, Permukiman penduduk, Desa dan Alam'}, 70010102: {'user_id': 70010102, 'jenis_usaha': 'Barbershop', 'skala_usaha': 'Mikro', 'modal_usaha': '11-30 JT', 'bidang_usaha': 'Jasa kesehatan dan kecantikan', 'omset_usaha': '11-20 JT ', 'usia_targetpelanggan': '2-11 tahun, 12-17 tahun, 18-39 tahun, 40-59 tahun, >60 tahun', 'gender_targetpelanggan': 'Laki-laki', 'pekerjaan_targetpelanggan': 'Pelajar/mahasiswa, Pegawai negeri sipil, Wiraswasta, Pekerja informal, IRT', 'status_targetpelanggan': 'Kelas atas, Kelas menengah', 'jenis_lokasi_': 'Pusat Kota dan Keramaian, Permukiman penduduk, Pusat perbelanjaan'}, 70020102: {'user_id': 70020102, 'jenis_usaha': 'Barbershop', 'skala_usaha': 'Kecil ', 'modal_usaha': '30-50 JT', 'bidang_usaha': 'Jasa kesehatan dan kecantikan', 'omset_usaha': '31-40 JT', 'usia_targetpelanggan': '2-11 tahun, 12-17 tahun, 18-39 tahun, 40-59 tahun, >60 tahun', 'gender_targetpelanggan': 'Laki-laki', 'pekerjaan_targetpelanggan': 'Pelajar/mahasiswa, Pegawai negeri sipil, Wiraswasta, Pekerja informal, IRT', 'status_targetpelanggan': 'Kelas atas, Kelas menengah', 'jenis_lokasi_': 'Pusat Kota dan Keramaian, Permukiman penduduk, Pusat perbelanjaan'}, 70030102: {'user_id': 70030102, 'jenis_usaha': 'Barbershop', 'skala_usaha': 'Menengah', 'modal_usaha': '50-500 JT', 'bidang_usaha': 'Jasa kesehatan dan kecantikan', 'omset_usaha': '41-50 JT ', 'usia_targetpelanggan': '2-11 tahun, 12-17 tahun, 18-39 tahun, 40-59 tahun, >60 tahun', 'gender_targetpelanggan': 'Laki-laki', 'pekerjaan_targetpelanggan': 'Pelajar/mahasiswa, Pegawai negeri sipil, Wiraswasta, Pekerja informal, IRT', 'status_targetpelanggan': 'Kelas atas, Kelas menengah', 'jenis_lokasi_': 'Pusat Kota dan Keramaian, Permukiman penduduk, Pusat perbelanjaan'}, 30010103: {'user_id': 30010103, 'jenis_usaha': 'Bisnis Makanan Frozen Food', 'skala_usaha': 'Mikro', 'modal_usaha': '5-10 JT', 'bidang_usaha': 'Industri makanan dan minuman', 'omset_usaha': '0-10 JT', 'usia_targetpelanggan': '2-11 tahun, 12-17 tahun, 18-39 tahun, 40-59 tahun', 'gender_targetpelanggan': 'Laki-laki, Perempuan', 'pekerjaan_targetpelanggan': 'Pelajar/mahasiswa, Pegawai negeri sipil, Wiraswasta, IRT', 'status_targetpelanggan': 'Kelas atas, Kelas menengah, Menuju kelas menengah', 'jenis_lokasi_': 'Pusat Kota dan Keramaian, Permukiman penduduk, Pusat perbelanjaan'}, 30020103: {'user_id': 30020103, 'jenis_usaha': 'Bisnis Makanan Frozen Food', 'skala_usaha': 'Kecil ', 'modal_usaha': '11-30 JT', 'bidang_usaha': 'Industri makanan dan minuman', 'omset_usaha': '11-20 JT ', 'usia_targetpelanggan': '2-11 tahun, 12-17 tahun, 18-39 tahun, 40-59 tahun', 'gender_targetpelanggan': 'Laki-laki, Perempuan', 'pekerjaan_targetpelanggan': 'Pelajar/mahasiswa, Pegawai negeri sipil, Wiraswasta, IRT', 'status_targetpelanggan': 'Kelas atas, Kelas menengah, Menuju kelas menengah', 'jenis_lokasi_': 'Pusat Kota dan Keramaian, Permukiman penduduk, Pusat perbelanjaan'}, 30030103: {'user_id': 30030103, 'jenis_usaha': 'Bisnis Makanan Frozen Food', 'skala_usaha': 'Menengah', 'modal_usaha': '30-50 JT', 'bidang_usaha': 'Industri makanan dan minuman', 'omset_usaha': '31-40 JT', 'usia_targetpelanggan': '2-11 tahun, 12-17 tahun, 18-39 tahun, 40-59 tahun', 'gender_targetpelanggan': 'Laki-laki, Perempuan', 'pekerjaan_targetpelanggan': 'Pelajar/mahasiswa, Pegawai negeri sipil, Wiraswasta, IRT', 'status_targetpelanggan': 'Kelas atas, Kelas menengah, Menuju kelas menengah', 'jenis_lokasi_': 'Pusat Kota dan Keramaian, Permukiman penduduk, Pusat perbelanjaan'}, 10010104: {'user_id': 10010104, 'jenis_usaha': 'Budidaya Sayur Hidroponik Rumahan', 'skala_usaha': 'Mikro', 'modal_usaha': '5-10 JT', 'bidang_usaha': 'Pertanian dan perkebunan', 'omset_usaha': '0-10 JT', 'usia_targetpelanggan': '18-39 tahun, 40-59 tahun, >60 tahun', 'gender_targetpelanggan': 'Laki-laki, Perempuan', 'pekerjaan_targetpelanggan': 'Petani, Pensiunan, Tidak bekerja tapi menerima penghasilan pasif, Pekerja informal, IRT', 'status_targetpelanggan': 'Kelas atas, Kelas menengah, Menuju kelas menengah, Kelas rentan, Kelas miskin', 'jenis_lokasi_': 'Pegunungan, Desa dan Alam, Permukiman penduduk'}, 10020104: {'user_id': 10020104, 'jenis_usaha': 'Budidaya Sayur Hidroponik Rumahan', 'skala_usaha': 'Kecil ', 'modal_usaha': '11-30 JT', 'bidang_usaha': 'Pertanian dan perkebunan', 'omset_usaha': '11-20 JT ', 'usia_targetpelanggan': '18-39 tahun, 40-59 tahun, >60 tahun', 'gender_targetpelanggan': 'Laki-laki, Perempuan', 'pekerjaan_targetpelanggan': 'Petani, Pekerja informal, IRT', 'status_targetpelanggan': 'Kelas atas, Kelas menengah, Menuju kelas menengah, Kelas rentan, Kelas miskin', 'jenis_lokasi_': 'Pegunungan, Desa dan Alam, Permukiman penduduk'}, 10030104: {'user_id': 10030104, 'jenis_usaha': 'Budidaya Sayur Hidroponik Rumahan', 'skala_usaha': 'Menengah', 'modal_usaha': '30-50 JT', 'bidang_usaha': 'Pertanian dan perkebunan', 'omset_usaha': '21-30 JT', 'usia_targetpelanggan': '18-39 tahun, 40-59 tahun, >60 tahun', 'gender_targetpelanggan': 'Laki-laki, Perempuan', 'pekerjaan_targetpelanggan': 'Petani, Pekerja informal, IRT', 'status_targetpelanggan': 'Kelas atas, Kelas menengah, Menuju kelas menengah, Kelas rentan, Kelas miskin', 'jenis_lokasi_': 'Pegunungan, Desa dan Alam, Permukiman penduduk'}, 95010105: {'user_id': 95010105, 'jenis_usaha': 'Butik', 'skala_usaha': 'Mikro', 'modal_usaha': '11-30 JT', 'bidang_usaha': 'Industri fashion dan tekstil ', 'omset_usaha': '21-30 JT', 'usia_targetpelanggan': ' 18-39 tahun, 40-59 tahun', 'gender_targetpelanggan': 'Perempuan', 'pekerjaan_targetpelanggan': 'Pelajar/mahasiswa, Pegawai negeri sipil, Wiraswasta, Pekerja informal, IRT', 'status_targetpelanggan': 'Kelas atas, Kelas menengah', 'jenis_lokasi_': 'Pusat Kota dan Keramaian, Permukiman penduduk, Pusat perbelanjaan'}, 95020105: {'user_id': 95020105, 'jenis_usaha': 'Butik', 'skala_usaha': 'Kecil ', 'modal_usaha': '30-50 JT', 'bidang_usaha': 'Industri fashion dan tekstil ', 'omset_usaha': '21-30 JT', 'usia_targetpelanggan': ' 18-39 tahun, 40-59 tahun', 'gender_targetpelanggan': 'Perempuan', 'pekerjaan_targetpelanggan': 'Pelajar/mahasiswa, Pegawai negeri sipil, Wiraswasta, IRT', 'status_targetpelanggan': 'Kelas atas, Kelas menengah', 'jenis_lokasi_': 'Pusat Kota dan Keramaian, Pusat perbelanjaan'}, 95030105: {'user_id': 95030105, 'jenis_usaha': 'Butik', 'skala_usaha': 'Menengah', 'modal_usaha': '50-500 JT', 'bidang_usaha': 'Industri fashion dan tekstil ', 'omset_usaha': '>50 JT ', 'usia_targetpelanggan': ' 18-39 tahun, 40-59 tahun', 'gender_targetpelanggan': 'Perempuan', 'pekerjaan_targetpelanggan': 'Pelajar/mahasiswa, Pegawai negeri sipil, Wiraswasta, IRT', 'status_targetpelanggan': 'Kelas atas', 'jenis_lokasi_': 'Pusat Kota dan Keramaian, Pusat perbelanjaan'}, 30010106: {'user_id': 30010106, 'jenis_usaha': 'Kafetaria', 'skala_usaha': 'Mikro', 'modal_usaha': '11-30 JT', 'bidang_usaha': 'Industri makanan dan minuman', 'omset_usaha': '11-20 JT ', 'usia_targetpelanggan': '18-39 tahun', 'gender_targetpelanggan': 'Laki-laki, Perempuan', 'pekerjaan_targetpelanggan': 'Pelajar/mahasiswa, Pegawai negeri sipil, Wiraswasta, Pekerja informal, IRT', 'status_targetpelanggan': 'Kelas Menengah', 'jenis_lokasi_': 'Pusat Kota dan Keramaian, Permukiman penduduk, Lingkungan pendidikan, Perkantoran, Pusat perbelanjaan'}, 30020106: {'user_id': 30020106, 'jenis_usaha': 'Kafetaria', 'skala_usaha': 'Kecil ', 'modal_usaha': '30-50 JT', 'bidang_usaha': 'Industri makanan dan minuman', 'omset_usaha': '21-30 JT', 'usia_targetpelanggan': '18-39 tahun', 'gender_targetpelanggan': 'Laki-laki, Perempuan', 'pekerjaan_targetpelanggan': 'Pelajar/mahasiswa, Pegawai negeri sipil, Wiraswasta, Pekerja informal, IRT', 'status_targetpelanggan': 'Kelas Menengah', 'jenis_lokasi_': 'Pusat Kota dan Keramaian, Permukiman penduduk, Lingkungan pendidikan, Perkantoran, Pusat perbelanjaan'}, 30030106: {'user_id': 30030106, 'jenis_usaha': 'Kafetaria', 'skala_usaha': 'Menengah', 'modal_usaha': '50-500 JT', 'bidang_usaha': 'Industri makanan dan minuman', 'omset_usaha': '>50 JT ', 'usia_targetpelanggan': '18-39 tahun', 'gender_targetpelanggan': 'Laki-laki, Perempuan', 'pekerjaan_targetpelanggan': 'Pelajar/mahasiswa, Pegawai negeri sipil, Wiraswasta, Pekerja informal, IRT', 'status_targetpelanggan': 'Kelas atas, Kelas menengah', 'jenis_lokasi_': 'Pusat Kota dan Keramaian, Permukiman penduduk, Lingkungan pendidikan, Perkantoran, Pusat perbelanjaan'}, 92010107: {'user_id': 92010107, 'jenis_usaha': 'Laundry', 'skala_usaha': 'Mikro', 'modal_usaha': '5-10 JT', 'bidang_usaha': 'Jasa kebersihan', 'omset_usaha': '0-10 JT', 'usia_targetpelanggan': '18-39 tahun, 40-59 tahun, >60 tahun', 'gender_targetpelanggan': 'Laki-laki, Perempuan', 'pekerjaan_targetpelanggan': 'Pelajar/mahasiswa, Pegawai negeri sipil, Wiraswasta, Tidak bekerja tapi menerima penghasilan pasif, Pekerja informal, IRT', 'status_targetpelanggan': 'Kelas atas, Kelas menengah, Menuju kelas menengah', 'jenis_lokasi_': 'Pusat Kota dan Keramaian, Permukiman penduduk'}, 92020107: {'user_id': 92020107, 'jenis_usaha': 'Laundry', 'skala_usaha': 'Kecil ', 'modal_usaha': '11-30 JT', 'bidang_usaha': 'Jasa kebersihan', 'omset_usaha': '11-20 JT ', 'usia_targetpelanggan': '18-39 tahun, 40-59 tahun, >60 tahun', 'gender_targetpelanggan': 'Laki-laki, Perempuan', 'pekerjaan_targetpelanggan': 'Pelajar/mahasiswa, Pegawai negeri sipil, Wiraswasta, IRT', 'status_targetpelanggan': 'Kelas atas, Kelas menengah, Menuju kelas menengah', 'jenis_lokasi_': 'Pusat Kota dan Keramaian, Permukiman penduduk'}, 92030107: {'user_id': 92030107, 'jenis_usaha': 'Laundry', 'skala_usaha': 'Menengah', 'modal_usaha': '30-50 JT', 'bidang_usaha': 'Jasa kebersihan', 'omset_usaha': '31-40 JT', 'usia_targetpelanggan': '18-39 tahun, 40-59 tahun, >60 tahun', 'gender_targetpelanggan': 'Laki-laki, Perempuan', 'pekerjaan_targetpelanggan': 'Pelajar/mahasiswa, Pegawai negeri sipil, Wiraswasta, IRT', 'status_targetpelanggan': 'Kelas atas, Kelas menengah, Menuju kelas menengah', 'jenis_lokasi_': 'Pusat Kota dan Keramaian, Permukiman penduduk'}, 70010108: {'user_id': 70010108, 'jenis_usaha': 'Pet Shop', 'skala_usaha': 'Mikro', 'modal_usaha': '5-10 JT', 'bidang_usaha': 'Jasa kesehatan dan kecantikan', 'omset_usaha': '0-10 JT', 'usia_targetpelanggan': '2-11 tahun, 12-17 tahun, 18-39 tahun, 40-59 tahun, >60 tahun', 'gender_targetpelanggan': 'Laki-laki, Perempuan', 'pekerjaan_targetpelanggan': 'Pelajar/mahasiswa, Pegawai negeri sipil, Wiraswasta, Tidak bekerja tapi menerima penghasilan pasif, Pekerja informal, IRT', 'status_targetpelanggan': 'Kelas atas, Kelas menengah', 'jenis_lokasi_': 'Pusat Kota dan Keramaian, Permukiman penduduk'}, 70020108: {'user_id': 70020108, 'jenis_usaha': 'Pet Shop', 'skala_usaha': 'Kecil ', 'modal_usaha': '30-50 JT', 'bidang_usaha': 'Jasa kesehatan dan kecantikan', 'omset_usaha': '31-40 JT', 'usia_targetpelanggan': '2-11 tahun, 12-17 tahun, 18-39 tahun, 40-59 tahun, >60 tahun', 'gender_targetpelanggan': 'Laki-laki, Perempuan', 'pekerjaan_targetpelanggan': 'Pelajar/mahasiswa, Pegawai negeri sipil, Wiraswasta, Tidak bekerja tapi menerima penghasilan pasif, Pekerja informal, IRT', 'status_targetpelanggan': 'Kelas atas, Kelas menengah', 'jenis_lokasi_': 'Pusat Kota dan Keramaian, Permukiman penduduk'}, 70030109: {'user_id': 70030109, 'jenis_usaha': 'Pet Shop', 'skala_usaha': 'Menengah', 'modal_usaha': '50-500 JT', 'bidang_usaha': 'Jasa kesehatan dan kecantikan', 'omset_usaha': '>50 JT ', 'usia_targetpelanggan': '2-11 tahun, 12-17 tahun, 18-39 tahun, 40-59 tahun, >60 tahun', 'gender_targetpelanggan': 'Laki-laki, Perempuan', 'pekerjaan_targetpelanggan': 'Pelajar/mahasiswa, Pegawai negeri sipil, Wiraswasta, Tidak bekerja tapi menerima penghasilan pasif, Pekerja informal, IRT', 'status_targetpelanggan': 'Kelas atas', 'jenis_lokasi_': 'Pusat Kota dan Keramaian, Permukiman penduduk'}, 50010109: {'user_id': 50010109, 'jenis_usaha': 'Produksi Produk Olahan Limbah', 'skala_usaha': 'Mikro', 'modal_usaha': '<=3 JT', 'bidang_usaha': 'Industri kerajinan tangan dan souvenir', 'omset_usaha': '0-10 JT', 'usia_targetpelanggan': '12-17 tahun, 18-39 tahun, 40-59 tahun, >60 tahun', 'gender_targetpelanggan': 'Laki-laki, Perempuan', 'pekerjaan_targetpelanggan': 'Pelajar/mahasiswa, Pegawai negeri sipil, Wiraswasta, Pekerja informal, IRT', 'status_targetpelanggan': 'Kelas atas, Kelas menengah, Menuju kelas menengah, Kelas rentan, Kelas miskin', 'jenis_lokasi_': 'Pusat Kota dan Keramaian, Desa dan Alam, Permukiman penduduk, Pusat perbelanjaan'}, 50020110: {'user_id': 50020110, 'jenis_usaha': 'Produksi Produk Olahan Limbah', 'skala_usaha': 'Kecil ', 'modal_usaha': '5-10 JT', 'bidang_usaha': 'Industri kerajinan tangan dan souvenir', 'omset_usaha': '0-10 JT', 'usia_targetpelanggan': '12-17 tahun, 18-39 tahun, 40-59 tahun, >60 tahun', 'gender_targetpelanggan': 'Laki-laki, Perempuan', 'pekerjaan_targetpelanggan': 'Pelajar/mahasiswa, Pegawai negeri sipil, Wiraswasta, Pekerja informal, IRT', 'status_targetpelanggan': 'Kelas atas, Kelas menengah, Menuju kelas menengah, Kelas rentan, Kelas miskin', 'jenis_lokasi_': 'Pusat Kota dan Keramaian, Desa dan Alam, Permukiman penduduk, Pusat perbelanjaan'}, 50030110: {'user_id': 50030110, 'jenis_usaha': 'Produksi Produk Olahan Limbah', 'skala_usaha': 'Menengah', 'modal_usaha': '30-50 JT', 'bidang_usaha': 'Industri kerajinan tangan dan souvenir', 'omset_usaha': '21-30 JT', 'usia_targetpelanggan': '12-17 tahun, 18-39 tahun, 40-59 tahun, >60 tahun', 'gender_targetpelanggan': 'Laki-laki, Perempuan', 'pekerjaan_targetpelanggan': 'Pelajar/mahasiswa, Pegawai negeri sipil, Wiraswasta, Pekerja informal, IRT', 'status_targetpelanggan': 'Kelas atas, Kelas menengah, Menuju kelas menengah, Kelas rentan, Kelas miskin', 'jenis_lokasi_': 'Pusat Kota dan Keramaian, Desa dan Alam, Permukiman penduduk, Pusat perbelanjaan'}, 30010110: {'user_id': 30010110, 'jenis_usaha': 'Rumah Makan Masakan Rumahan', 'skala_usaha': 'Mikro', 'modal_usaha': '<=3 JT', 'bidang_usaha': 'Industri makanan dan minuman', 'omset_usaha': '0-10 JT', 'usia_targetpelanggan': ' 18-39 tahun, 40-59 tahun', 'gender_targetpelanggan': 'Laki-laki, Perempuan', 'pekerjaan_targetpelanggan': 'Pengangguran, Pelajar/mahasiswa, Pegawai negeri sipil, Wiraswasta, Tidak bekerja tapi menerima penghasilan pasif, Pekerja informal, IRT', 'status_targetpelanggan': 'Kelas atas, Kelas menengah, Menuju kelas menengah, Kelas rentan, Kelas miskin', 'jenis_lokasi_': 'Pusat Kota dan Keramaian, Permukiman penduduk'}, 30020111: {'user_id': 30020111, 'jenis_usaha': 'Rumah Makan Masakan Rumahan', 'skala_usaha': 'Kecil ', 'modal_usaha': '11-30 JT', 'bidang_usaha': 'Industri makanan dan minuman', 'omset_usaha': '11-20 JT ', 'usia_targetpelanggan': ' 18-39 tahun, 40-59 tahun', 'gender_targetpelanggan': 'Laki-laki, Perempuan', 'pekerjaan_targetpelanggan': 'Pelajar/mahasiswa, Pegawai negeri sipil, Wiraswasta,\\nTidak bekerja tapi menerima penghasilan pasif, Pekerja informal', 'status_targetpelanggan': 'Kelas atas, Kelas menengah, Menuju kelas menengah, Kelas rentan, Kelas miskin', 'jenis_lokasi_': 'Pusat Kota dan Keramaian, Lingkungan pendidikan, Perkantoran'}, 30030112: {'user_id': 30030112, 'jenis_usaha': 'Rumah Makan Masakan Rumahan', 'skala_usaha': 'Menengah', 'modal_usaha': '30-50 JT', 'bidang_usaha': 'Industri makanan dan minuman', 'omset_usaha': '31-40 JT', 'usia_targetpelanggan': ' 18-39 tahun, 40-59 tahun', 'gender_targetpelanggan': 'Laki-laki, Perempuan', 'pekerjaan_targetpelanggan': 'Pelajar/mahasiswa, Pegawai negeri sipil, Wiraswasta,\\nTidak bekerja tapi menerima penghasilan pasif, Pekerja informal', 'status_targetpelanggan': 'Kelas atas, Kelas menengah, Menuju kelas menengah, Kelas rentan, Kelas miskin', 'jenis_lokasi_': 'Pusat Kota dan Keramaian, Lingkungan pendidikan, Perkantoran'}, 30010112: {'user_id': 30010112, 'jenis_usaha': 'Rumah Makanan Khas Daerah', 'skala_usaha': 'Mikro', 'modal_usaha': '30-50 JT', 'bidang_usaha': 'Industri makanan dan minuman', 'omset_usaha': '11-20 JT ', 'usia_targetpelanggan': '18-39 tahun, 40-59 tahun, >60 tahun', 'gender_targetpelanggan': 'Laki-laki, Perempuan', 'pekerjaan_targetpelanggan': 'Pengangguran, Pelajar/mahasiswa, Pegawai negeri sipil,\\nWiraswasta, Tidak bekerja tapi menerima penghasilan pasif, Pekerja informal, IRT', 'status_targetpelanggan': 'Kelas menengah', 'jenis_lokasi_': 'Pusat Kota dan Keramaian, Pusat perbelanjaan'}, 30020112: {'user_id': 30020112, 'jenis_usaha': 'Rumah Makanan Khas Daerah', 'skala_usaha': 'Kecil ', 'modal_usaha': '50-500 JT', 'bidang_usaha': 'Industri makanan dan minuman', 'omset_usaha': '21-30 JT', 'usia_targetpelanggan': '18-39 tahun, 40-59 tahun, >60 tahun', 'gender_targetpelanggan': 'Laki-laki, Perempuan', 'pekerjaan_targetpelanggan': 'Pelajar/mahasiswa, Pegawai negeri sipil, Wiraswasta, Tidak bekerja tapi menerima penghasilan pasif, Pekerja informal', 'status_targetpelanggan': 'Kelas atas, Kelas menengah', 'jenis_lokasi_': 'Pusat Kota dan Keramaian, Pusat perbelanjaan, Area wisata, Perkantoran'}, 30020113: {'user_id': 30020113, 'jenis_usaha': 'Rumah Makanan Mancanegara', 'skala_usaha': 'Kecil ', 'modal_usaha': '30-50 JT', 'bidang_usaha': 'Industri makanan dan minuman', 'omset_usaha': '21-30 JT', 'usia_targetpelanggan': '18-39 tahun, 40-59 tahun, >60 tahun', 'gender_targetpelanggan': 'Laki-laki, Perempuan', 'pekerjaan_targetpelanggan': 'Pengangguran, Pelajar/mahasiswa, Pegawai negeri sipil,\\nWiraswasta, Tidak bekerja tapi menerima penghasilan pasif, Pekerja informal, IRT', 'status_targetpelanggan': 'Kelas menengah', 'jenis_lokasi_': 'Pusat Kota dan Keramaian, Pusat perbelanjaan'}, 30030113: {'user_id': 30030113, 'jenis_usaha': 'Rumah Makanan Mancanegara', 'skala_usaha': 'Menengah', 'modal_usaha': '50-500 JT', 'bidang_usaha': 'Industri makanan dan minuman', 'omset_usaha': '>50 JT ', 'usia_targetpelanggan': '18-39 tahun, 40-59 tahun, >60 tahun', 'gender_targetpelanggan': 'Laki-laki, Perempuan', 'pekerjaan_targetpelanggan': 'Pelajar/mahasiswa, Pegawai negeri sipil, Wiraswasta, Tidak bekerja tapi menerima penghasilan pasif, Pekerja informal', 'status_targetpelanggan': 'Kelas atas, Kelas menengah', 'jenis_lokasi_': 'Pusat Kota dan Keramaian, Pusat perbelanjaan, Area wisata, Perkantoran'}, 30010113: {'user_id': 30010113, 'jenis_usaha': 'Rumah Makanan Mancanegara', 'skala_usaha': 'Mikro', 'modal_usaha': '30-50 JT', 'bidang_usaha': 'Industri makanan dan minuman', 'omset_usaha': '11-20 JT ', 'usia_targetpelanggan': '18-39 tahun, 40-59 tahun, >60 tahun', 'gender_targetpelanggan': 'Laki-laki, Perempuan', 'pekerjaan_targetpelanggan': 'Pelajar/mahasiswa, Pegawai negeri sipil, Wiraswasta, Tidak bekerja tapi menerima penghasilan pasif, Pekerja informal', 'status_targetpelanggan': 'Kelas atas, Kelas menengah', 'jenis_lokasi_': 'Pusat Kota dan Keramaian, Pusat perbelanjaan, Area wisata, Perkantoran'}, 70010114: {'user_id': 70010114, 'jenis_usaha': 'Salon', 'skala_usaha': 'Mikro', 'modal_usaha': '11-30 JT', 'bidang_usaha': 'Jasa kesehatan dan kecantikan', 'omset_usaha': '0-10 JT', 'usia_targetpelanggan': ' 2-11 tahun, 12-17 tahun, 18-39 tahun', 'gender_targetpelanggan': 'Perempuan', 'pekerjaan_targetpelanggan': 'Pelajar/mahasiswa, Pegawai negeri sipil, Wiraswasta, Tidak bekerja tapi menerima penghasilan pasif, Pekerja informal, IRT', 'status_targetpelanggan': 'Kelas atas, Kelas menengah, Menuju kelas menengah', 'jenis_lokasi_': 'Pusat Kota dan Keramaian, Permukiman penduduk, Pusat perbelanjaan'}, 70020114: {'user_id': 70020114, 'jenis_usaha': 'Salon', 'skala_usaha': 'Kecil ', 'modal_usaha': '30-50 JT', 'bidang_usaha': 'Jasa kesehatan dan kecantikan', 'omset_usaha': '21-30 JT', 'usia_targetpelanggan': ' 2-11 tahun, 12-17 tahun, 18-39 tahun', 'gender_targetpelanggan': 'Perempuan', 'pekerjaan_targetpelanggan': 'Pelajar/mahasiswa, Pegawai negeri sipil, Wiraswasta, Tidak bekerja tapi menerima penghasilan pasif, Pekerja informal, IRT', 'status_targetpelanggan': 'Kelas atas, Kelas menengah', 'jenis_lokasi_': 'Pusat Kota dan Keramaian, Pusat perbelanjaan'}, 70030114: {'user_id': 70030114, 'jenis_usaha': 'Salon', 'skala_usaha': 'Menengah', 'modal_usaha': '50-500 JT', 'bidang_usaha': 'Jasa kesehatan dan kecantikan', 'omset_usaha': '41-50 JT ', 'usia_targetpelanggan': ' 2-11 tahun, 12-17 tahun, 18-39 tahun', 'gender_targetpelanggan': 'Perempuan', 'pekerjaan_targetpelanggan': 'Pelajar/mahasiswa, Pegawai negeri sipil, Wiraswasta, Tidak bekerja tapi menerima penghasilan pasif, Pekerja informal, IRT', 'status_targetpelanggan': 'Kelas atas, Kelas menengah', 'jenis_lokasi_': 'Pusat Kota dan Keramaian, Pusat perbelanjaan'}, 30010115: {'user_id': 30010115, 'jenis_usaha': 'Street Food', 'skala_usaha': 'Mikro', 'modal_usaha': '<=3 JT ', 'bidang_usaha': 'Industri makanan dan minuman', 'omset_usaha': '0-10 JT', 'usia_targetpelanggan': ' 12-17 tahun, 18-39 tahun, 40-59 tahun', 'gender_targetpelanggan': 'Laki-laki, Perempuan', 'pekerjaan_targetpelanggan': 'Pengangguran,\\nPelajar/mahasiswa,\\nPegawai negeri sipil,\\nWiraswasta,\\nTidak bekerja tapi menerima penghasilan pasif,\\nPekerja informal,\\nIRT', 'status_targetpelanggan': 'Kelas atas, Kelas menengah, Menuju kelas menengah, Kelas rentan, Kelas miskin', 'jenis_lokasi_': 'Pegunungan, Pusat Kota dan Keramaian, Lingkungan pendidikan, Pelabuhan dan Laut, Area Wisata, Permukiman penduduk, Terminal/transportasi umum'}, 30020115: {'user_id': 30020115, 'jenis_usaha': 'Street Food', 'skala_usaha': 'Kecil ', 'modal_usaha': '11-30 JT', 'bidang_usaha': 'Industri makanan dan minuman', 'omset_usaha': '11-20 JT ', 'usia_targetpelanggan': ' 12-17 tahun, 18-39 tahun, 40-59 tahun', 'gender_targetpelanggan': 'Laki-laki, Perempuan', 'pekerjaan_targetpelanggan': 'Pelajar/mahasiswa,\\nPegawai negeri sipil,\\nWiraswasta,\\nTidak bekerja tapi menerima penghasilan pasif,\\nPekerja informal,\\nIRT', 'status_targetpelanggan': 'Kelas atas, Kelas menengah, Menuju kelas menengah', 'jenis_lokasi_': 'Pusat Kota dan Keramaian, Area Wisata, Pusat Perbelanjaan'}, 30030115: {'user_id': 30030115, 'jenis_usaha': 'Street Food', 'skala_usaha': 'Menengah', 'modal_usaha': '30-50 JT', 'bidang_usaha': 'Industri makanan dan minuman', 'omset_usaha': '21-30 JT', 'usia_targetpelanggan': ' 12-17 tahun, 18-39 tahun, 40-59 tahun', 'gender_targetpelanggan': 'Laki-laki, Perempuan', 'pekerjaan_targetpelanggan': 'Pelajar/mahasiswa,\\nPegawai negeri sipil,\\nWiraswasta,\\nTidak bekerja tapi menerima penghasilan pasif,\\nPekerja informal,\\nIRT', 'status_targetpelanggan': 'Kelas atas, Kelas menengah', 'jenis_lokasi_': 'Pusat Kota dan Keramaian, Area Wisata, Pusat Perbelanjaan'}, 95020116: {'user_id': 95020116, 'jenis_usaha': 'Toko Bahan Bangunan', 'skala_usaha': 'Kecil ', 'modal_usaha': '50-500 JT', 'bidang_usaha': 'Lainnya', 'omset_usaha': '>50 JT ', 'usia_targetpelanggan': ' 18-39 tahun, 40-59 tahun, >60 tahun', 'gender_targetpelanggan': 'Laki-laki, Perempuan', 'pekerjaan_targetpelanggan': 'Pengangguran,\\nPelajar/mahasiswa,\\nPegawai negeri sipil,\\nWiraswasta,\\nPetani,\\nNelayan,\\nPensiunan,\\nTidak bekerja tapi menerima penghasilan pasif,\\nPekerja informal', 'status_targetpelanggan': 'Kelas atas, Kelas menengah', 'jenis_lokasi_': 'Pusat Kota dan Keramaian, Permukiman penduduk, Pusat perbelanjaan'}, 95030116: {'user_id': 95030116, 'jenis_usaha': 'Toko Bahan Bangunan', 'skala_usaha': 'Menengah', 'modal_usaha': '<=1 M', 'bidang_usaha': 'Lainnya', 'omset_usaha': '>50 JT ', 'usia_targetpelanggan': ' 18-39 tahun, 40-59 tahun, >60 tahun', 'gender_targetpelanggan': 'Laki-laki, Perempuan', 'pekerjaan_targetpelanggan': 'Pengangguran,\\nPelajar/mahasiswa,\\nPegawai negeri sipil,\\nWiraswasta,\\nPetani,\\nNelayan,\\nPensiunan,\\nTidak bekerja tapi menerima penghasilan pasif,\\nPekerja informal', 'status_targetpelanggan': 'Kelas atas, Kelas menengah', 'jenis_lokasi_': 'Pusat Kota dan Keramaian, Permukiman penduduk, Pusat perbelanjaan'}, 95010117: {'user_id': 95010117, 'jenis_usaha': 'Toko Bahan dan Keperluan Jahit', 'skala_usaha': 'Mikro', 'modal_usaha': '11-30 JT', 'bidang_usaha': 'Industri fashion dan tekstil ', 'omset_usaha': '0-10 JT', 'usia_targetpelanggan': '18-39 tahun, 40-59 tahun, >60 tahun', 'gender_targetpelanggan': 'Perempuan', 'pekerjaan_targetpelanggan': 'Pelajar/mahasiswa, Pensiunan, Tidak bekerja tapi menerima penghasilan pasif, Pekerja informal, IRT', 'status_targetpelanggan': 'Kelas atas, Kelas menengah, Menuju kelas menengah, Kelas rentan, Kelas miskin', 'jenis_lokasi_': 'Pusat Kota dan Keramaian, Permukiman penduduk, Pusat perbelanjaan'}, 95020117: {'user_id': 95020117, 'jenis_usaha': 'Toko Bahan dan Keperluan Jahit', 'skala_usaha': 'Kecil ', 'modal_usaha': '30-50 JT', 'bidang_usaha': 'Industri fashion dan tekstil ', 'omset_usaha': '21-30 JT', 'usia_targetpelanggan': '18-39 tahun, 40-59 tahun, >60 tahun', 'gender_targetpelanggan': 'Perempuan', 'pekerjaan_targetpelanggan': 'Pelajar/mahasiswa, Pensiunan, Tidak bekerja tapi menerima penghasilan pasif, Pekerja informal, IRT', 'status_targetpelanggan': 'Kelas atas, Kelas menengah, Menuju kelas menengah', 'jenis_lokasi_': 'Pusat Kota dan Keramaian, Permukiman penduduk, Pusat perbelanjaan'}, 95030117: {'user_id': 95030117, 'jenis_usaha': 'Toko Bahan dan Keperluan Jahit', 'skala_usaha': 'Menengah', 'modal_usaha': '50-500 JT', 'bidang_usaha': 'Industri fashion dan tekstil ', 'omset_usaha': '>50 JT ', 'usia_targetpelanggan': '18-39 tahun, 40-59 tahun, >60 tahun', 'gender_targetpelanggan': 'Perempuan', 'pekerjaan_targetpelanggan': 'Pelajar/mahasiswa, Pensiunan, Tidak bekerja tapi menerima penghasilan pasif, Pekerja informal, IRT', 'status_targetpelanggan': 'Kelas atas, Kelas menengah, Menuju kelas menengah', 'jenis_lokasi_': 'Pusat Kota dan Keramaian, Permukiman penduduk, Pusat perbelanjaan'}, 10010118: {'user_id': 10010118, 'jenis_usaha': 'Toko Bibit dan Perlengkapan Ikan', 'skala_usaha': 'Mikro', 'modal_usaha': '11-30 JT', 'bidang_usaha': 'Pertanian dan perkebunan', 'omset_usaha': '0-10 JT', 'usia_targetpelanggan': '18-39 tahun, 40-59 tahun, >60 tahun', 'gender_targetpelanggan': 'Laki-laki, Perempuan', 'pekerjaan_targetpelanggan': 'Petani, Nelayan', 'status_targetpelanggan': 'Kelas atas, Kelas menengah, Menuju kelas menengah, Kelas rentan, Kelas miskin', 'jenis_lokasi_': 'Pegunungan, Desa dan Alam, Permukiman penduduk'}, 10020118: {'user_id': 10020118, 'jenis_usaha': 'Toko Bibit dan Perlengkapan Ikan', 'skala_usaha': 'Kecil ', 'modal_usaha': '50-500 JT', 'bidang_usaha': 'Pertanian dan perkebunan', 'omset_usaha': '>50 JT ', 'usia_targetpelanggan': '18-39 tahun, 40-59 tahun, >60 tahun', 'gender_targetpelanggan': 'Laki-laki, Perempuan', 'pekerjaan_targetpelanggan': 'Petani, Nelayan', 'status_targetpelanggan': 'Kelas atas, Kelas menengah, Menuju kelas menengah, Kelas rentan, Kelas miskin', 'jenis_lokasi_': 'Pegunungan, Desa dan Alam, Permukiman penduduk'}, 95010119: {'user_id': 95010119, 'jenis_usaha': 'Toko Bibit dan Perlengkapan Tanaman', 'skala_usaha': 'Mikro', 'modal_usaha': '11-30 JT', 'bidang_usaha': 'Pertanian dan perkebunan ', 'omset_usaha': '0-10 JT', 'usia_targetpelanggan': '18-39 tahun, 40-59 tahun, >60 tahun', 'gender_targetpelanggan': 'Laki-laki, Perempuan', 'pekerjaan_targetpelanggan': 'Pengangguran, Pelajar/mahasiswa, Petani, Pensiunan, Tidak bekerja tapi menerima penghasilan pasif, Pekerja informal, IRT', 'status_targetpelanggan': 'Kelas atas, Kelas menengah, Menuju kelas menengah, Kelas rentan, Kelas miskin', 'jenis_lokasi_': 'Pegunungan, Pusat Kota dan Keramaian, Desa dan Alam, Permukiman penduduk'}, 95020119: {'user_id': 95020119, 'jenis_usaha': 'Toko Bibit dan Perlengkapan Tanaman', 'skala_usaha': 'Kecil ', 'modal_usaha': '30-50 JT', 'bidang_usaha': 'Pertanian dan perkebunan ', 'omset_usaha': '11-20 JT ', 'usia_targetpelanggan': '18-39 tahun, 40-59 tahun, >60 tahun', 'gender_targetpelanggan': 'Laki-laki, Perempuan', 'pekerjaan_targetpelanggan': ' Petani, Pensiunan, Tidak bekerja tapi menerima penghasilan pasif, Pekerja informal, IRT', 'status_targetpelanggan': 'Kelas atas, Kelas menengah', 'jenis_lokasi_': 'Pegunungan, Pusat Kota dan Keramaian, Desa dan Alam, Permukiman penduduk'}, 95030119: {'user_id': 95030119, 'jenis_usaha': 'Toko Bibit dan Perlengkapan Tanaman', 'skala_usaha': 'Menengah', 'modal_usaha': '30-50 JT', 'bidang_usaha': 'Pertanian dan perkebunan ', 'omset_usaha': '21-30 JT', 'usia_targetpelanggan': '18-39 tahun, 40-59 tahun, >60 tahun', 'gender_targetpelanggan': 'Laki-laki, Perempuan', 'pekerjaan_targetpelanggan': ' Petani, Pensiunan, Tidak bekerja tapi menerima penghasilan pasif, Pekerja informal, IRT', 'status_targetpelanggan': 'Kelas atas, Kelas menengah', 'jenis_lokasi_': 'Pegunungan, Pusat Kota dan Keramaian, Desa dan Alam, Permukiman penduduk'}, 95020120: {'user_id': 95020120, 'jenis_usaha': 'Toko Emas dan Berlian', 'skala_usaha': 'Kecil ', 'modal_usaha': '30-50 JT', 'bidang_usaha': 'Industri fashion dan tekstil ', 'omset_usaha': '31-40 JT', 'usia_targetpelanggan': '18-39 tahun, 40-59 tahun, >60 tahun', 'gender_targetpelanggan': 'Perempuan', 'pekerjaan_targetpelanggan': 'Pelajar/mahasiswa,\\nPegawai negeri sipil,\\nWiraswasta,\\nPekerja informal', 'status_targetpelanggan': 'Kelas atas', 'jenis_lokasi_': 'Pusat Kota dan Keramaian, Pusat perbelanjaan'}, 95030120: {'user_id': 95030120, 'jenis_usaha': 'Toko Emas dan Berlian', 'skala_usaha': 'Menengah', 'modal_usaha': '50-500 JT', 'bidang_usaha': 'Industri fashion dan tekstil ', 'omset_usaha': '>50 JT', 'usia_targetpelanggan': '18-39 tahun, 40-59 tahun, >60 tahun', 'gender_targetpelanggan': 'Perempuan', 'pekerjaan_targetpelanggan': 'Pelajar/mahasiswa,\\nPegawai negeri sipil,\\nWiraswasta,\\nPekerja informal', 'status_targetpelanggan': 'Kelas atas', 'jenis_lokasi_': 'Pusat Kota dan Keramaian, Pusat perbelanjaan'}, 30010121: {'user_id': 30010121, 'jenis_usaha': 'Toko Kelontong', 'skala_usaha': 'Mikro', 'modal_usaha': '5-10 JT', 'bidang_usaha': 'Industri makanan dan minuman', 'omset_usaha': '0-10 JT', 'usia_targetpelanggan': '2-11 tahun, 12-17 tahun, 18-39 tahun, 40-59 tahun', 'gender_targetpelanggan': 'Laki-laki, Perempuan', 'pekerjaan_targetpelanggan': 'Pengangguran,\\nPelajar/mahasiswa,\\nPegawai negeri sipil,\\nWiraswasta,\\nPetani,\\nNelayan,\\nPensiunan,\\nTidak bekerja tapi menerima penghasilan pasif,\\nPekerja informal,\\nIRT', 'status_targetpelanggan': 'Kelas atas, Kelas menengah, Menuju kelas menengah, Kelas rentan, Kelas miskin', 'jenis_lokasi_': 'Pusat Kota dan Keramaian, Desa dan Alam, Permukiman penduduk, Terminal/transportasi umum'}, 30020121: {'user_id': 30020121, 'jenis_usaha': 'Toko Kelontong', 'skala_usaha': 'Kecil ', 'modal_usaha': '30-50 JT', 'bidang_usaha': 'Industri makanan dan minuman', 'omset_usaha': '21-30 JT', 'usia_targetpelanggan': '2-11 tahun, 12-17 tahun, 18-39 tahun, 40-59 tahun', 'gender_targetpelanggan': 'Laki-laki, Perempuan', 'pekerjaan_targetpelanggan': 'Pelajar/mahasiswa,\\nPegawai negeri sipil,\\nWiraswasta,\\nPensiunan,\\nTidak bekerja tapi menerima penghasilan pasif,\\nPekerja informal,\\nIRT', 'status_targetpelanggan': 'Kelas atas, Kelas menengah, Menuju kelas menengah, Kelas rentan, Kelas miskin', 'jenis_lokasi_': 'Pusat Kota dan Keramaian, Permukiman penduduk, Pusat Perbelanjaan'}, 30030121: {'user_id': 30030121, 'jenis_usaha': 'Toko Kelontong', 'skala_usaha': 'Menengah', 'modal_usaha': '50-500 JT', 'bidang_usaha': 'Industri makanan dan minuman', 'omset_usaha': '>50 JT ', 'usia_targetpelanggan': '2-11 tahun, 12-17 tahun, 18-39 tahun, 40-59 tahun', 'gender_targetpelanggan': 'Laki-laki, Perempuan', 'pekerjaan_targetpelanggan': 'Pelajar/mahasiswa,\\nPegawai negeri sipil,\\nWiraswasta,\\nPensiunan,\\nTidak bekerja tapi menerima penghasilan pasif,\\nPekerja informal,\\nIRT', 'status_targetpelanggan': 'Kelas atas, Kelas menengah', 'jenis_lokasi_': 'Pusat Kota dan Keramaian, Permukiman penduduk, Pusat Perbelanjaan'}, 70010122: {'user_id': 70010122, 'jenis_usaha': 'Toko Kosmetik dan Skincare', 'skala_usaha': 'Mikro', 'modal_usaha': '11-30 JT', 'bidang_usaha': 'Jasa kesehatan dan kecantikan', 'omset_usaha': '0-10 JT', 'usia_targetpelanggan': '18-39 tahun', 'gender_targetpelanggan': 'Laki-laki, Perempuan', 'pekerjaan_targetpelanggan': 'Pelajar/mahasiswa,\\nPegawai negeri sipil,\\nWiraswasta,\\nPekerja informal,\\nIRT', 'status_targetpelanggan': 'Kelas atas, Kelas menengah', 'jenis_lokasi_': 'Pusat Kota dan Keramaian,Permukiman penduduk, Pusat perbelanjaan'}, 70030122: {'user_id': 70030122, 'jenis_usaha': 'Toko Kosmetik dan Skincare', 'skala_usaha': 'Menengah', 'modal_usaha': '50-500 JT', 'bidang_usaha': 'Jasa kesehatan dan kecantikan', 'omset_usaha': '>50 JT ', 'usia_targetpelanggan': '18-39 tahun', 'gender_targetpelanggan': 'Laki-laki, Perempuan', 'pekerjaan_targetpelanggan': 'Pelajar/mahasiswa,\\nPegawai negeri sipil,\\nWiraswasta,\\nPekerja informal,\\nIRT', 'status_targetpelanggan': 'Kelas atas, Kelas menengah', 'jenis_lokasi_': 'Pusat Kota dan Keramaian,Permukiman penduduk, Pusat perbelanjaan'}, 60010123: {'user_id': 60010123, 'jenis_usaha': 'Toko Mainan Anak', 'skala_usaha': 'Mikro', 'modal_usaha': '3-5 JT', 'bidang_usaha': 'Pendidikan dan pelatihan', 'omset_usaha': '0-10 JT', 'usia_targetpelanggan': '2-11 tahun', 'gender_targetpelanggan': 'Laki-laki, Perempuan ', 'pekerjaan_targetpelanggan': 'IRT', 'status_targetpelanggan': 'Kelas atas, Kelas menengah', 'jenis_lokasi_': 'Pusat Kota dan Keramaian, Permukiman penduduk'}, 60020123: {'user_id': 60020123, 'jenis_usaha': 'Toko Mainan Anak', 'skala_usaha': 'Kecil ', 'modal_usaha': '30-50 JT', 'bidang_usaha': 'Pendidikan dan pelatihan', 'omset_usaha': '11-20 JT ', 'usia_targetpelanggan': '2-11 tahun', 'gender_targetpelanggan': 'Laki-laki, Perempuan ', 'pekerjaan_targetpelanggan': 'IRT', 'status_targetpelanggan': 'Kelas atas, Kelas menengah', 'jenis_lokasi_': 'Pusat Kota dan Keramaian, Pusat perbelanjaan'}, 60030123: {'user_id': 60030123, 'jenis_usaha': 'Toko Mainan Anak', 'skala_usaha': 'Menengah', 'modal_usaha': '50-500 JT', 'bidang_usaha': 'Pendidikan dan pelatihan', 'omset_usaha': '41-50 JT ', 'usia_targetpelanggan': '2-11 tahun', 'gender_targetpelanggan': 'Laki-laki, Perempuan ', 'pekerjaan_targetpelanggan': 'IRT', 'status_targetpelanggan': 'Kelas atas, Kelas menengah', 'jenis_lokasi_': 'Pusat Kota dan Keramaian, Pusat perbelanjaan'}, 70010124: {'user_id': 70010124, 'jenis_usaha': 'Toko Obat dan Produk Kesehatan', 'skala_usaha': 'Mikro', 'modal_usaha': '<=3 JT', 'bidang_usaha': 'Jasa kesehatan dan kecantikan', 'omset_usaha': '0-10 JT', 'usia_targetpelanggan': '0-23 bulan, 2-11 tahun, 12-17 tahun, 18-39 tahun, 40-59 tahun, >60 tahun', 'gender_targetpelanggan': 'Laki-laki, Perempuan', 'pekerjaan_targetpelanggan': 'Pengangguran,\\nPelajar/mahasiswa,\\nPegawai negeri sipil,\\nWiraswasta,\\nPetani,\\nNelayan,\\nPensiunan,\\nTidak bekerja tapi menerima penghasilan pasif,\\nPekerja informal,\\nIRT', 'status_targetpelanggan': 'Kelas atas, Kelas menengah, Menuju kelas menengah, Kelas rentan, Kelas miskin', 'jenis_lokasi_': 'Pusat Kota dan Keramaian, Permukiman penduduk, Pusat perbelanjaan'}, 70020124: {'user_id': 70020124, 'jenis_usaha': 'Toko Obat dan Produk Kesehatan', 'skala_usaha': 'Kecil ', 'modal_usaha': '30-50 JT', 'bidang_usaha': 'Jasa kesehatan dan kecantikan', 'omset_usaha': '11-20 JT ', 'usia_targetpelanggan': '0-23 bulan, 2-11 tahun, 12-17 tahun, 18-39 tahun, 40-59 tahun, >60 tahun', 'gender_targetpelanggan': 'Laki-laki, Perempuan', 'pekerjaan_targetpelanggan': 'Pengangguran,\\nPelajar/mahasiswa,\\nPegawai negeri sipil,\\nWiraswasta,\\nPetani,\\nNelayan,\\nPensiunan,\\nTidak bekerja tapi menerima penghasilan pasif,\\nPekerja informal,\\nIRT', 'status_targetpelanggan': 'Kelas atas, Kelas menengah, Menuju kelas menengah, Kelas rentan, Kelas miskin', 'jenis_lokasi_': 'Pusat Kota dan Keramaian, Permukiman penduduk, Pusat perbelanjaan'}, 70030124: {'user_id': 70030124, 'jenis_usaha': 'Toko Obat dan Produk Kesehatan', 'skala_usaha': 'Menengah', 'modal_usaha': '50-500 JT', 'bidang_usaha': 'Jasa kesehatan dan kecantikan', 'omset_usaha': '>50 JT ', 'usia_targetpelanggan': '0-23 bulan, 2-11 tahun, 12-17 tahun, 18-39 tahun, 40-59 tahun, >60 tahun', 'gender_targetpelanggan': 'Laki-laki, Perempuan', 'pekerjaan_targetpelanggan': 'Pengangguran,\\nPelajar/mahasiswa,\\nPegawai negeri sipil,\\nWiraswasta,\\nPetani,\\nNelayan,\\nPensiunan,\\nTidak bekerja tapi menerima penghasilan pasif,\\nPekerja informal,\\nIRT', 'status_targetpelanggan': 'Kelas atas, Kelas menengah, Menuju kelas menengah, Kelas rentan, Kelas miskin', 'jenis_lokasi_': 'Pusat Kota dan Keramaian, Permukiman penduduk, Pusat perbelanjaan'}, 50030125: {'user_id': 50030125, 'jenis_usaha': 'Toko Peralatan Barang Rumah Tangga', 'skala_usaha': 'Menengah', 'modal_usaha': '50-500 JT', 'bidang_usaha': 'Industri kerajinan tangan dan souvenir', 'omset_usaha': '41-50 JT ', 'usia_targetpelanggan': '18-39 tahun, 40-59 tahun, >60 tahun', 'gender_targetpelanggan': 'Perempuan', 'pekerjaan_targetpelanggan': 'IRT', 'status_targetpelanggan': 'Kelas atas, Kelas menengah', 'jenis_lokasi_': 'Pusat Kota dan Keramaian, Permukiman penduduk, Pusat perbelanjaan'}, 30010126: {'user_id': 30010126, 'jenis_usaha': 'Toko Perlengkapan dan Kebutuhan Bayi dan Balita ', 'skala_usaha': 'Mikro', 'modal_usaha': '11-30 JT', 'bidang_usaha': 'Industri makanan dan minuman', 'omset_usaha': '11-20 JT ', 'usia_targetpelanggan': '0-23 bulan, 2-11 tahun', 'gender_targetpelanggan': 'Perempuan', 'pekerjaan_targetpelanggan': 'IRT', 'status_targetpelanggan': 'Kelas atas, Kelas menengah, Menuju kelas menengah', 'jenis_lokasi_': 'Pusat Kota dan Keramaian, Permukiman penduduk'}, 30020126: {'user_id': 30020126, 'jenis_usaha': 'Toko Perlengkapan dan Kebutuhan Bayi dan Balita ', 'skala_usaha': 'Kecil ', 'modal_usaha': '30-50 JT', 'bidang_usaha': 'Industri makanan dan minuman', 'omset_usaha': '21-30 JT', 'usia_targetpelanggan': '0-23 bulan, 2-11 tahun', 'gender_targetpelanggan': 'Perempuan', 'pekerjaan_targetpelanggan': 'IRT', 'status_targetpelanggan': 'Kelas atas, Kelas menengah', 'jenis_lokasi_': 'Pusat Kota dan Keramaian, Pusat perbelanjaan'}, 30030126: {'user_id': 30030126, 'jenis_usaha': 'Toko Perlengkapan dan Kebutuhan Bayi dan Balita ', 'skala_usaha': 'Menengah', 'modal_usaha': '50-500 JT', 'bidang_usaha': 'Industri makanan dan minuman', 'omset_usaha': '41-50 JT ', 'usia_targetpelanggan': '0-23 bulan, 2-11 tahun', 'gender_targetpelanggan': 'Perempuan', 'pekerjaan_targetpelanggan': 'IRT', 'status_targetpelanggan': 'Kelas atas, Kelas menengah', 'jenis_lokasi_': 'Pusat Kota dan Keramaian, Pusat perbelanjaan'}, 50010127: {'user_id': 50010127, 'jenis_usaha': 'Toko Perlengkapan Dapur', 'skala_usaha': 'Mikro', 'modal_usaha': '11-30 JT', 'bidang_usaha': 'Industri kerajinan tangan dan souvenir', 'omset_usaha': '11-20 JT', 'usia_targetpelanggan': '18-39 tahun, 40-59 tahun, >60 tahun', 'gender_targetpelanggan': 'Perempuan', 'pekerjaan_targetpelanggan': 'IRT', 'status_targetpelanggan': 'Kelas atas, Kelas menengah, Menuju kelas menengah', 'jenis_lokasi_': 'Pusat Kota dan Keramaian, Permukiman penduduk, Pusat perbelanjaan'}, 50020127: {'user_id': 50020127, 'jenis_usaha': 'Toko Perlengkapan Dapur', 'skala_usaha': 'Kecil ', 'modal_usaha': '30-50 JT', 'bidang_usaha': 'Industri kerajinan tangan dan souvenir', 'omset_usaha': '21-30 JT', 'usia_targetpelanggan': '18-39 tahun, 40-59 tahun, >60 tahun', 'gender_targetpelanggan': 'Perempuan', 'pekerjaan_targetpelanggan': 'IRT', 'status_targetpelanggan': 'Kelas atas, Kelas menengah', 'jenis_lokasi_': 'Pusat Kota dan Keramaian, Permukiman penduduk, Pusat perbelanjaan'}, 50030127: {'user_id': 50030127, 'jenis_usaha': 'Toko Perlengkapan Dapur', 'skala_usaha': 'Menengah', 'modal_usaha': '50-500 JT', 'bidang_usaha': 'Industri kerajinan tangan dan souvenir', 'omset_usaha': '41-50 JT ', 'usia_targetpelanggan': '18-39 tahun, 40-59 tahun, >60 tahun', 'gender_targetpelanggan': 'Perempuan', 'pekerjaan_targetpelanggan': 'IRT', 'status_targetpelanggan': 'Kelas atas, Kelas menengah', 'jenis_lokasi_': 'Pusat Kota dan Keramaian, Permukiman penduduk, Pusat perbelanjaan'}, 95010128: {'user_id': 95010128, 'jenis_usaha': 'Toko Perlengkapan Fashion', 'skala_usaha': 'Mikro', 'modal_usaha': '11-30 JT', 'bidang_usaha': 'Industri fashion dan tekstil ', 'omset_usaha': '11-20 JT', 'usia_targetpelanggan': '18-39 tahun, 40-59 tahun, >60 tahun', 'gender_targetpelanggan': 'Perempuan', 'pekerjaan_targetpelanggan': 'Pelajar/mahasiswa,\\nPegawai negeri sipil,\\nWiraswasta,\\nPekerja informal', 'status_targetpelanggan': 'Kelas atas, Kelas menengah', 'jenis_lokasi_': 'Pusat Kota dan Keramaian, Pusat perbelanjaan'}, 95020128: {'user_id': 95020128, 'jenis_usaha': 'Toko Perlengkapan Fashion', 'skala_usaha': 'Kecil ', 'modal_usaha': '30-50 JT', 'bidang_usaha': 'Industri fashion dan tekstil ', 'omset_usaha': '21-30 JT', 'usia_targetpelanggan': '18-39 tahun, 40-59 tahun, >60 tahun', 'gender_targetpelanggan': 'Perempuan', 'pekerjaan_targetpelanggan': 'Pelajar/mahasiswa,\\nPegawai negeri sipil,\\nWiraswasta,\\nPekerja informal', 'status_targetpelanggan': 'Kelas atas, Kelas menengah', 'jenis_lokasi_': 'Pusat Kota dan Keramaian, Pusat perbelanjaan'}, 95030128: {'user_id': 95030128, 'jenis_usaha': 'Toko Perlengkapan Fashion', 'skala_usaha': 'Menengah', 'modal_usaha': '50-500 JT', 'bidang_usaha': 'Industri fashion dan tekstil ', 'omset_usaha': '41-50 JT ', 'usia_targetpelanggan': '18-39 tahun, 40-59 tahun, >60 tahun', 'gender_targetpelanggan': 'Perempuan', 'pekerjaan_targetpelanggan': 'Pelajar/mahasiswa,\\nPegawai negeri sipil,\\nWiraswasta,\\nPekerja informal', 'status_targetpelanggan': 'Kelas atas, Kelas menengah', 'jenis_lokasi_': 'Pusat Kota dan Keramaian, Pusat perbelanjaan'}, 95010129: {'user_id': 95010129, 'jenis_usaha': 'Toko Perlengkapan Listrik', 'skala_usaha': 'Mikro', 'modal_usaha': '30-50 JT ', 'bidang_usaha': 'Jasa teknologi informasi dan komunikasi ', 'omset_usaha': '21-30 JT', 'usia_targetpelanggan': '18-39 tahun, 40-59 tahun, >60 tahun', 'gender_targetpelanggan': 'Laki-laki', 'pekerjaan_targetpelanggan': 'Pelajar/mahasiswa,\\nPegawai negeri sipil,\\nWiraswasta,\\nPekerja informal', 'status_targetpelanggan': 'Kelas atas, Kelas menengah', 'jenis_lokasi_': 'Pusat Kota dan Keramaian, Permukiman penduduk, Pusat perbelanjaan'}, 95020129: {'user_id': 95020129, 'jenis_usaha': 'Toko Perlengkapan Listrik', 'skala_usaha': 'Kecil ', 'modal_usaha': '50-500 JT', 'bidang_usaha': 'Jasa teknologi informasi dan komunikasi ', 'omset_usaha': '41-50 JT ', 'usia_targetpelanggan': '18-39 tahun, 40-59 tahun, >60 tahun', 'gender_targetpelanggan': 'Laki-laki', 'pekerjaan_targetpelanggan': 'Pelajar/mahasiswa,\\nPegawai negeri sipil,\\nWiraswasta,\\nPekerja informal', 'status_targetpelanggan': 'Kelas atas, Kelas menengah', 'jenis_lokasi_': 'Pusat Kota dan Keramaian, Permukiman penduduk, Pusat perbelanjaan'}, 95010130: {'user_id': 95010130, 'jenis_usaha': 'Toko Perlengkapan Seragam', 'skala_usaha': 'Mikro', 'modal_usaha': '11-30 JT', 'bidang_usaha': 'Industri fashion dan tekstil ', 'omset_usaha': '11-20 JT ', 'usia_targetpelanggan': '2-11 tahun, 12-17 tahun', 'gender_targetpelanggan': 'Laki-laki, Perempuan', 'pekerjaan_targetpelanggan': 'Pelajar/mahasiswa,\\nPegawai negeri sipil,\\nIRT', 'status_targetpelanggan': 'Kelas atas, Kelas menengah, Menuju kelas menengah, Kelas rentan, Kelas miskin', 'jenis_lokasi_': 'Pusat Kota dan Keramaian, Desa dan Alam, Lingkungan pendidikan, Permukiman penduduk, Pusat perbelanjaan, Perkantoran'}, 95020130: {'user_id': 95020130, 'jenis_usaha': 'Toko Perlengkapan Seragam', 'skala_usaha': 'Kecil ', 'modal_usaha': '30-50 JT', 'bidang_usaha': 'Industri fashion dan tekstil ', 'omset_usaha': '21-30 JT', 'usia_targetpelanggan': '2-11 tahun, 12-17 tahun', 'gender_targetpelanggan': 'Laki-laki, Perempuan', 'pekerjaan_targetpelanggan': 'Pelajar/mahasiswa,\\nPegawai negeri sipil,\\nIRT', 'status_targetpelanggan': 'Kelas atas, Kelas menengah, Menuju kelas menengah, Kelas rentan, Kelas miskin', 'jenis_lokasi_': 'Pusat Kota dan Keramaian, Desa dan Alam, Lingkungan pendidikan, Permukiman penduduk, Pusat perbelanjaan, Perkantoran'}, 95030130: {'user_id': 95030130, 'jenis_usaha': 'Toko Perlengkapan Seragam', 'skala_usaha': 'Menengah', 'modal_usaha': '50-500 JT', 'bidang_usaha': 'Industri fashion dan tekstil ', 'omset_usaha': '41-50 JT ', 'usia_targetpelanggan': '2-11 tahun, 12-17 tahun', 'gender_targetpelanggan': 'Laki-laki, Perempuan', 'pekerjaan_targetpelanggan': 'Pelajar/mahasiswa,\\nPegawai negeri sipil,\\nIRT', 'status_targetpelanggan': 'Kelas atas, Kelas menengah, Menuju kelas menengah, Kelas rentan, Kelas miskin', 'jenis_lokasi_': 'Pusat Kota dan Keramaian, Desa dan Alam, Lingkungan pendidikan, Permukiman penduduk, Pusat perbelanjaan, Perkantoran'}, 50010131: {'user_id': 50010131, 'jenis_usaha': 'Toko Souvenir', 'skala_usaha': 'Mikro', 'modal_usaha': '3-5 JT', 'bidang_usaha': 'Industri kerajinan tangan dan souvenir', 'omset_usaha': '11-20 JT', 'usia_targetpelanggan': '12-17 tahun, 18-39 tahun, 40-59 tahun, >60 tahun', 'gender_targetpelanggan': 'Laki-laki, Perempuan', 'pekerjaan_targetpelanggan': 'Pelajar/mahasiswa,\\nPegawai negeri sipil,\\nWiraswasta,\\nPekerja informal,\\nIRT', 'status_targetpelanggan': 'Kelas atas, Kelas menengah', 'jenis_lokasi_': 'Area Wisata, Terminal/transportasi umum'}, 50020131: {'user_id': 50020131, 'jenis_usaha': 'Toko Souvenir', 'skala_usaha': 'Kecil ', 'modal_usaha': '30-50 JT', 'bidang_usaha': 'Industri kerajinan tangan dan souvenir', 'omset_usaha': '31-40 JT', 'usia_targetpelanggan': '12-17 tahun, 18-39 tahun, 40-59 tahun, >60 tahun', 'gender_targetpelanggan': 'Laki-laki, Perempuan', 'pekerjaan_targetpelanggan': 'Pelajar/mahasiswa,\\nPegawai negeri sipil,\\nWiraswasta,\\nPekerja informal,\\nIRT', 'status_targetpelanggan': 'Kelas atas', 'jenis_lokasi_': 'Area Wisata, Pusat Perbelanjaan'}, 50030131: {'user_id': 50030131, 'jenis_usaha': 'Toko Souvenir', 'skala_usaha': 'Menengah', 'modal_usaha': '50-500 JT', 'bidang_usaha': 'Industri kerajinan tangan dan souvenir', 'omset_usaha': '>50 JT ', 'usia_targetpelanggan': '12-17 tahun, 18-39 tahun, 40-59 tahun, >60 tahun', 'gender_targetpelanggan': 'Laki-laki, Perempuan', 'pekerjaan_targetpelanggan': 'Pelajar/mahasiswa,\\nPegawai negeri sipil,\\nWiraswasta,\\nPekerja informal,\\nIRT', 'status_targetpelanggan': 'Kelas atas', 'jenis_lokasi_': 'Area Wisata, Pusat Perbelanjaan'}, 60010132: {'user_id': 60010132, 'jenis_usaha': 'Usaha Alat Tulis dan Percetakan', 'skala_usaha': 'Mikro', 'modal_usaha': '11-30 JT', 'bidang_usaha': 'Pendidikan dan pelatihan', 'omset_usaha': '0-10 JT', 'usia_targetpelanggan': ' 2-11 tahun, 12-17 tahun, 18-39 tahun', 'gender_targetpelanggan': 'Laki-laki, Perempuan', 'pekerjaan_targetpelanggan': 'Pelajar/mahasiswa,\\nPegawai negeri sipil,\\nWiraswasta', 'status_targetpelanggan': 'Kelas atas, Kelas menengah', 'jenis_lokasi_': 'Pusat Kota dan Keramaian, Permukiman penduduk, Lingkungan pendidikan, Perkantoran'}, 60020132: {'user_id': 60020132, 'jenis_usaha': 'Usaha Alat Tulis dan Percetakan', 'skala_usaha': 'Kecil ', 'modal_usaha': '30-50 JT', 'bidang_usaha': 'Pendidikan dan pelatihan', 'omset_usaha': '21-30 JT', 'usia_targetpelanggan': ' 2-11 tahun, 12-17 tahun, 18-39 tahun', 'gender_targetpelanggan': 'Laki-laki, Perempuan', 'pekerjaan_targetpelanggan': 'Pelajar/mahasiswa,\\nPegawai negeri sipil,\\nWiraswasta', 'status_targetpelanggan': 'Kelas atas, Kelas menengah', 'jenis_lokasi_': 'Pusat Kota dan Keramaian, Lingkungan pendidikan, Perkantoran'}, 60030132: {'user_id': 60030132, 'jenis_usaha': 'Usaha Alat Tulis dan Percetakan', 'skala_usaha': 'Menengah', 'modal_usaha': '50-500 JT', 'bidang_usaha': 'Pendidikan dan pelatihan', 'omset_usaha': '>50 JT ', 'usia_targetpelanggan': ' 2-11 tahun, 12-17 tahun, 18-39 tahun', 'gender_targetpelanggan': 'Laki-laki, Perempuan', 'pekerjaan_targetpelanggan': 'Pelajar/mahasiswa,\\nPegawai negeri sipil,\\nWiraswasta', 'status_targetpelanggan': 'Kelas atas, Kelas menengah', 'jenis_lokasi_': 'Pusat Kota dan Keramaian, Lingkungan pendidikan, Perkantoran'}, 50010133: {'user_id': 50010133, 'jenis_usaha': 'Usaha Art Lukisan', 'skala_usaha': 'Mikro', 'modal_usaha': '3-5 JT', 'bidang_usaha': 'Industri kerajinan tangan dan souvenir', 'omset_usaha': '0-10 JT', 'usia_targetpelanggan': '18-39 tahun, 40-59 tahun, >60 tahun', 'gender_targetpelanggan': 'Laki-laki, Perempuan', 'pekerjaan_targetpelanggan': 'Pelajar/mahasiswa,\\nPegawai negeri sipil,\\nWiraswasta,\\nPekerja informal,\\nIRT', 'status_targetpelanggan': 'Kelas atas, Kelas menengah', 'jenis_lokasi_': 'Pusat Kota dan Keramaian, Pusat perbelanjaan'}, 50020133: {'user_id': 50020133, 'jenis_usaha': 'Usaha Art Lukisan', 'skala_usaha': 'Kecil ', 'modal_usaha': '11-30 JT', 'bidang_usaha': 'Industri kerajinan tangan dan souvenir', 'omset_usaha': '11-20 JT ', 'usia_targetpelanggan': '18-39 tahun, 40-59 tahun, >60 tahun', 'gender_targetpelanggan': 'Laki-laki, Perempuan', 'pekerjaan_targetpelanggan': 'Pelajar/mahasiswa,\\nPegawai negeri sipil,\\nWiraswasta,\\nPekerja informal,\\nIRT', 'status_targetpelanggan': 'Kelas atas, Kelas menengah', 'jenis_lokasi_': 'Pusat Kota dan Keramaian, Pusat perbelanjaan'}, 50030133: {'user_id': 50030133, 'jenis_usaha': 'Usaha Art Lukisan', 'skala_usaha': 'Menengah', 'modal_usaha': '30-50 JT', 'bidang_usaha': 'Industri kerajinan tangan dan souvenir', 'omset_usaha': '21-30 JT', 'usia_targetpelanggan': '18-39 tahun, 40-59 tahun, >60 tahun', 'gender_targetpelanggan': 'Laki-laki, Perempuan', 'pekerjaan_targetpelanggan': 'Pelajar/mahasiswa,\\nPegawai negeri sipil,\\nWiraswasta,\\nPekerja informal,\\nIRT', 'status_targetpelanggan': 'Kelas atas, Kelas menengah', 'jenis_lokasi_': 'Pusat Kota dan Keramaian, Pusat perbelanjaan'}, 95010134: {'user_id': 95010134, 'jenis_usaha': 'Usaha Ayam Potong', 'skala_usaha': 'Mikro', 'modal_usaha': '5-10 JT', 'bidang_usaha': 'Pertanian dan perkebunan ', 'omset_usaha': '0-10 JT', 'usia_targetpelanggan': ' 18-39 tahun, 40-59 tahun, >60 tahun', 'gender_targetpelanggan': 'Laki-laki, Perempuan', 'pekerjaan_targetpelanggan': 'IRT', 'status_targetpelanggan': 'Kelas atas, Kelas menengah, Menuju kelas menengah, Kelas rentan, Kelas miskin', 'jenis_lokasi_': 'Pusat Kota dan Keramaian, Permukiman penduduk, Pusat perbelanjaan'}, 95020134: {'user_id': 95020134, 'jenis_usaha': 'Usaha Ayam Potong', 'skala_usaha': 'Kecil ', 'modal_usaha': '11-30 JT', 'bidang_usaha': 'Pertanian dan perkebunan ', 'omset_usaha': '11-20 JT ', 'usia_targetpelanggan': ' 18-39 tahun, 40-59 tahun, >60 tahun', 'gender_targetpelanggan': 'Laki-laki, Perempuan', 'pekerjaan_targetpelanggan': 'IRT', 'status_targetpelanggan': 'Kelas atas, Kelas menengah, Menuju kelas menengah, Kelas rentan, Kelas miskin', 'jenis_lokasi_': 'Pusat Kota dan Keramaian, Permukiman penduduk, Pusat perbelanjaan'}, 95030134: {'user_id': 95030134, 'jenis_usaha': 'Usaha Ayam Potong', 'skala_usaha': 'Menengah', 'modal_usaha': '30-50 JT', 'bidang_usaha': 'Pertanian dan perkebunan ', 'omset_usaha': '41-50 JT ', 'usia_targetpelanggan': ' 18-39 tahun, 40-59 tahun, >60 tahun', 'gender_targetpelanggan': 'Laki-laki, Perempuan', 'pekerjaan_targetpelanggan': 'IRT', 'status_targetpelanggan': 'Kelas atas, Kelas menengah, Menuju kelas menengah, Kelas rentan, Kelas miskin', 'jenis_lokasi_': 'Pusat Kota dan Keramaian, Permukiman penduduk, Pusat perbelanjaan'}, 60010135: {'user_id': 60010135, 'jenis_usaha': 'Usaha Bimbingan Belajar Rumahan', 'skala_usaha': 'Mikro', 'modal_usaha': '5-10 JT', 'bidang_usaha': 'Pendidikan dan pelatihan', 'omset_usaha': '21-30 JT', 'usia_targetpelanggan': '2-11 tahun, 12-17 tahun', 'gender_targetpelanggan': 'Laki-laki, Perempuan', 'pekerjaan_targetpelanggan': 'Pelajar/mahasiswa,\\nIRT', 'status_targetpelanggan': 'Kelas atas, Kelas menengah', 'jenis_lokasi_': 'Pusat Kota dan Keramaian, Lingkungan pendidikan, Permukiman penduduk'}, 50010136: {'user_id': 50010136, 'jenis_usaha': 'Usaha Bucket, Bunga dan Hadiah Tangan', 'skala_usaha': 'Mikro', 'modal_usaha': '<=3 JT', 'bidang_usaha': 'Industri kerajinan tangan dan souvenir', 'omset_usaha': '0-10 JT', 'usia_targetpelanggan': '18-39 tahun, 40-59 tahun, >60 tahun', 'gender_targetpelanggan': 'Perempuan', 'pekerjaan_targetpelanggan': 'Pelajar/mahasiswa,\\nPegawai negeri sipil,\\nWiraswasta,\\nPekerja informal,\\nIRT', 'status_targetpelanggan': 'Kelas atas, Kelas menengah', 'jenis_lokasi_': 'Pusat Kota dan Keramaian, Pusat perbelanjaan'}, 50020136: {'user_id': 50020136, 'jenis_usaha': 'Usaha Bucket, Bunga dan Hadiah Tangan', 'skala_usaha': 'Kecil ', 'modal_usaha': '5-10 JT', 'bidang_usaha': 'Industri kerajinan tangan dan souvenir', 'omset_usaha': '0-10 JT', 'usia_targetpelanggan': '18-39 tahun, 40-59 tahun, >60 tahun', 'gender_targetpelanggan': 'Perempuan', 'pekerjaan_targetpelanggan': 'Pelajar/mahasiswa,\\nPegawai negeri sipil,\\nWiraswasta,\\nPekerja informal,\\nIRT', 'status_targetpelanggan': 'Kelas atas, Kelas menengah', 'jenis_lokasi_': 'Pusat Kota dan Keramaian, Pusat perbelanjaan'}, 50030136: {'user_id': 50030136, 'jenis_usaha': 'Usaha Bucket, Bunga dan Hadiah Tangan', 'skala_usaha': 'Menengah', 'modal_usaha': '11-30 JT', 'bidang_usaha': 'Industri kerajinan tangan dan souvenir', 'omset_usaha': '11-20 JT ', 'usia_targetpelanggan': '18-39 tahun, 40-59 tahun, >60 tahun', 'gender_targetpelanggan': 'Perempuan', 'pekerjaan_targetpelanggan': 'Pelajar/mahasiswa,\\nPegawai negeri sipil,\\nWiraswasta,\\nPekerja informal,\\nIRT', 'status_targetpelanggan': 'Kelas atas, Kelas menengah', 'jenis_lokasi_': 'Pusat Kota dan Keramaian, Pusat perbelanjaan'}, 30010137: {'user_id': 30010137, 'jenis_usaha': 'Usaha Camilan Rumahan', 'skala_usaha': 'Mikro', 'modal_usaha': '<=3 JT', 'bidang_usaha': 'Industri makanan dan minuman', 'omset_usaha': '0-10 JT', 'usia_targetpelanggan': ' 2-11 tahun, 12-17 tahun, 18-39 tahun, 40-59 tahun, >60 tahun', 'gender_targetpelanggan': 'Laki-laki, Perempuan', 'pekerjaan_targetpelanggan': 'Pengangguran,\\nPelajar/mahasiswa,\\nPegawai negeri sipil,\\nWiraswasta,\\nTidak bekerja tapi menerima penghasilan pasif,\\nPekerja informal,\\nIRT', 'status_targetpelanggan': 'Kelas atas, Kelas menengah, Menuju kelas menengah, Kelas rentan, Kelas miskin', 'jenis_lokasi_': '  Permukiman penduduk, Pusat perbelanjaan,Terminal/transportasi umum'}, 30020137: {'user_id': 30020137, 'jenis_usaha': 'Usaha Camilan Rumahan', 'skala_usaha': 'Kecil ', 'modal_usaha': '5-10 JT', 'bidang_usaha': 'Industri makanan dan minuman', 'omset_usaha': '0-10 JT', 'usia_targetpelanggan': ' 2-11 tahun, 12-17 tahun, 18-39 tahun, 40-59 tahun, >60 tahun', 'gender_targetpelanggan': 'Laki-laki, Perempuan', 'pekerjaan_targetpelanggan': 'Pengangguran,\\nPelajar/mahasiswa,\\nPegawai negeri sipil,\\nWiraswasta,\\nTidak bekerja tapi menerima penghasilan pasif,\\nPekerja informal,\\nIRT', 'status_targetpelanggan': 'Kelas atas, Kelas menengah, Menuju kelas menengah', 'jenis_lokasi_': ' Area Wisata, Pusat perbelanjaan'}, 30030137: {'user_id': 30030137, 'jenis_usaha': 'Usaha Camilan Rumahan', 'skala_usaha': 'Menengah', 'modal_usaha': '11-30 JT', 'bidang_usaha': 'Industri makanan dan minuman', 'omset_usaha': '11-20 JT ', 'usia_targetpelanggan': ' 2-11 tahun, 12-17 tahun, 18-39 tahun, 40-59 tahun, >60 tahun', 'gender_targetpelanggan': 'Laki-laki, Perempuan', 'pekerjaan_targetpelanggan': 'Pengangguran,\\nPelajar/mahasiswa,\\nPegawai negeri sipil,\\nWiraswasta,\\nTidak bekerja tapi menerima penghasilan pasif,\\nPekerja informal,\\nIRT', 'status_targetpelanggan': 'Kelas atas, Kelas menengah, Menuju kelas menengah', 'jenis_lokasi_': ' Area Wisata, Pusat perbelanjaan'}, 95010138: {'user_id': 95010138, 'jenis_usaha': 'Usaha Fotografi', 'skala_usaha': 'Mikro', 'modal_usaha': '5-10 JT', 'bidang_usaha': 'Lainnya', 'omset_usaha': '0-10 JT', 'usia_targetpelanggan': '12-17 tahun, 18-39 tahun, 40-59 tahun, >60 tahun', 'gender_targetpelanggan': 'Laki-laki, Perempuan', 'pekerjaan_targetpelanggan': 'Pengangguran, Pelajar/mahasiswa, Pegawai negeri sipil,   Wiraswasta, Petani, Nelayan, Pensiunan, Tidak bekerja tapi menerima penghasilan pasif, Pekerja informal, IRT', 'status_targetpelanggan': 'Kelas atas, Kelas menengah, Menuju kelas menengah', 'jenis_lokasi_': 'Pegunungan, Pusat Kota dan Keramaian, Desa dan Alam, Pelabuhan dan Laut, Area Wisata'}, 95020138: {'user_id': 95020138, 'jenis_usaha': 'Usaha Fotografi', 'skala_usaha': 'Kecil ', 'modal_usaha': '11-30 JT', 'bidang_usaha': 'Lainnya', 'omset_usaha': '11-20 JT ', 'usia_targetpelanggan': '12-17 tahun, 18-39 tahun, 40-59 tahun, >60 tahun', 'gender_targetpelanggan': 'Laki-laki, Perempuan', 'pekerjaan_targetpelanggan': 'Pengangguran, Pelajar/mahasiswa, Pegawai negeri sipil,   Wiraswasta, Petani, Nelayan, Pensiunan, Tidak bekerja tapi menerima penghasilan pasif, Pekerja informal, IRT', 'status_targetpelanggan': 'Kelas atas, Kelas menengah', 'jenis_lokasi_': 'Pegunungan, Pusat Kota dan Keramaian, Desa dan Alam, Pelabuhan dan Laut, Area Wisata'}, 95030138: {'user_id': 95030138, 'jenis_usaha': 'Usaha Fotografi', 'skala_usaha': 'Menengah', 'modal_usaha': '30-50 JT', 'bidang_usaha': 'Lainnya', 'omset_usaha': '31-40 JT', 'usia_targetpelanggan': '12-17 tahun, 18-39 tahun, 40-59 tahun, >60 tahun', 'gender_targetpelanggan': 'Laki-laki, Perempuan', 'pekerjaan_targetpelanggan': 'Pengangguran, Pelajar/mahasiswa, Pegawai negeri sipil,   Wiraswasta, Petani, Nelayan, Pensiunan, Tidak bekerja tapi menerima penghasilan pasif, Pekerja informal, IRT', 'status_targetpelanggan': 'Kelas atas, Kelas menengah', 'jenis_lokasi_': 'Pegunungan, Pusat Kota dan Keramaian, Desa dan Alam, Pelabuhan dan Laut, Area Wisata'}, 91010139: {'user_id': 91010139, 'jenis_usaha': 'Usaha Jual Aksesoris Elektronik', 'skala_usaha': 'Mikro', 'modal_usaha': '5-10 JT', 'bidang_usaha': 'Jasa teknologi informasi dan komunikasi', 'omset_usaha': '0-10 JT', 'usia_targetpelanggan': ' 18-39 tahun, 40-59 tahun', 'gender_targetpelanggan': 'Laki-laki, Perempuan ', 'pekerjaan_targetpelanggan': 'Pelajar/mahasiswa,\\nPegawai negeri sipil,\\nWiraswasta,\\nPekerja informal', 'status_targetpelanggan': 'Kelas atas, Kelas menengah', 'jenis_lokasi_': 'Pusat Kota dan Keramaian, Lingkungan pendidikan, Perkantoran'}, 91020139: {'user_id': 91020139, 'jenis_usaha': 'Usaha Jual Aksesoris Elektronik', 'skala_usaha': 'Kecil ', 'modal_usaha': '11-30 JT', 'bidang_usaha': 'Jasa teknologi informasi dan komunikasi', 'omset_usaha': '11-20 JT', 'usia_targetpelanggan': ' 18-39 tahun, 40-59 tahun', 'gender_targetpelanggan': 'Laki-laki, Perempuan ', 'pekerjaan_targetpelanggan': 'Pelajar/mahasiswa,\\nPegawai negeri sipil,\\nWiraswasta,\\nPekerja informal', 'status_targetpelanggan': 'Kelas atas, Kelas menengah', 'jenis_lokasi_': 'Pusat Kota dan Keramaian, Pusat perbelanjaan'}, 91030139: {'user_id': 91030139, 'jenis_usaha': 'Usaha Jual Aksesoris Elektronik', 'skala_usaha': 'Menengah', 'modal_usaha': '30-50 JT', 'bidang_usaha': 'Jasa teknologi informasi dan komunikasi', 'omset_usaha': '21-30 JT', 'usia_targetpelanggan': ' 18-39 tahun, 40-59 tahun', 'gender_targetpelanggan': 'Laki-laki, Perempuan ', 'pekerjaan_targetpelanggan': 'Pelajar/mahasiswa,\\nPegawai negeri sipil,\\nWiraswasta,\\nPekerja informal', 'status_targetpelanggan': 'Kelas atas, Kelas menengah', 'jenis_lokasi_': 'Pusat Kota dan Keramaian, Pusat perbelanjaan'}, 91020140: {'user_id': 91020140, 'jenis_usaha': 'Usaha Jual Barang Elektronik', 'skala_usaha': 'Kecil ', 'modal_usaha': '30-50 JT', 'bidang_usaha': 'Jasa teknologi informasi dan komunikasi', 'omset_usaha': '41-50 JT ', 'usia_targetpelanggan': ' 18-39 tahun, 40-59 tahun', 'gender_targetpelanggan': 'Laki-laki', 'pekerjaan_targetpelanggan': 'Pelajar/mahasiswa,\\nPegawai negeri sipil,\\nWiraswasta,\\nPekerja informal', 'status_targetpelanggan': 'Kelas atas, Kelas menengah', 'jenis_lokasi_': 'Pusat Kota dan Keramaian, Lingkungan pendidikan, Perkantoran'}, 91030140: {'user_id': 91030140, 'jenis_usaha': 'Usaha Jual Barang Elektronik', 'skala_usaha': 'Menengah', 'modal_usaha': '50-500 JT', 'bidang_usaha': 'Jasa teknologi informasi dan komunikasi', 'omset_usaha': '>50 JT ', 'usia_targetpelanggan': ' 18-39 tahun, 40-59 tahun', 'gender_targetpelanggan': 'Laki-laki', 'pekerjaan_targetpelanggan': 'Pelajar/mahasiswa,\\nPegawai negeri sipil,\\nWiraswasta,\\nPekerja informal', 'status_targetpelanggan': 'Kelas atas, Kelas menengah', 'jenis_lokasi_': 'Pusat Kota dan Keramaian, Lingkungan pendidikan, Perkantoran'}, 10010141: {'user_id': 10010141, 'jenis_usaha': 'Usaha Jual Sayur dan Buah', 'skala_usaha': 'Mikro', 'modal_usaha': '<=3 JT', 'bidang_usaha': 'Pertanian dan perkebunan', 'omset_usaha': '0-10 JT', 'usia_targetpelanggan': ' 18-39 tahun, 40-59 tahun', 'gender_targetpelanggan': 'Perempuan', 'pekerjaan_targetpelanggan': 'IRT', 'status_targetpelanggan': 'Kelas atas, Kelas menengah, Menuju kelas menengah, Kelas rentan, Kelas miskin', 'jenis_lokasi_': 'Pusat Kota dan Keramaian, Permukiman penduduk'}, 10020141: {'user_id': 10020141, 'jenis_usaha': 'Usaha Jual Sayur dan Buah', 'skala_usaha': 'Kecil ', 'modal_usaha': '11-30 JT', 'bidang_usaha': 'Pertanian dan perkebunan', 'omset_usaha': '11-20 JT', 'usia_targetpelanggan': ' 18-39 tahun, 40-59 tahun', 'gender_targetpelanggan': 'Perempuan', 'pekerjaan_targetpelanggan': 'Pensiunan,\\nIRT', 'status_targetpelanggan': 'Kelas atas, Kelas menengah', 'jenis_lokasi_': 'Pusat Kota dan Keramaian, Permukiman penduduk, Pusat Perbelanjaan'}, 10030141: {'user_id': 10030141, 'jenis_usaha': 'Usaha Jual Sayur dan Buah', 'skala_usaha': 'Menengah', 'modal_usaha': '30-50 JT', 'bidang_usaha': 'Pertanian dan perkebunan', 'omset_usaha': '21-30 JT', 'usia_targetpelanggan': ' 18-39 tahun, 40-59 tahun', 'gender_targetpelanggan': 'Perempuan', 'pekerjaan_targetpelanggan': 'Pensiunan,\\nIRT', 'status_targetpelanggan': 'Kelas atas, Kelas menengah', 'jenis_lokasi_': 'Pusat Kota dan Keramaian, Permukiman penduduk, Pusat Perbelanjaan'}, 50010142: {'user_id': 50010142, 'jenis_usaha': 'Usaha Kerajinan Tangan', 'skala_usaha': 'Mikro', 'modal_usaha': '<=3 JT ', 'bidang_usaha': 'Industri kerajinan tangan dan souvenir', 'omset_usaha': '0-10 JT', 'usia_targetpelanggan': '18-39 tahun, 40-59 tahun, >60 tahun', 'gender_targetpelanggan': 'Laki-laki, Perempuan', 'pekerjaan_targetpelanggan': 'Pelajar/mahasiswa,\\nPegawai negeri sipil,\\nWiraswasta,\\nPekerja informal, IRT', 'status_targetpelanggan': 'Kelas atas, Kelas menengah', 'jenis_lokasi_': ' Desa dan Alam, Area Wisata, Permukiman penduduk, Pusat perbelanjaan'}, 50020142: {'user_id': 50020142, 'jenis_usaha': 'Usaha Kerajinan Tangan', 'skala_usaha': 'Kecil ', 'modal_usaha': '5-10 JT', 'bidang_usaha': 'Industri kerajinan tangan dan souvenir', 'omset_usaha': '0-10 JT', 'usia_targetpelanggan': '18-39 tahun, 40-59 tahun, >60 tahun', 'gender_targetpelanggan': 'Laki-laki, Perempuan', 'pekerjaan_targetpelanggan': 'Pelajar/mahasiswa,\\nPegawai negeri sipil,\\nWiraswasta,\\nPekerja informal, IRT', 'status_targetpelanggan': 'Kelas atas, Kelas menengah', 'jenis_lokasi_': ' Desa dan Alam, Area Wisata, Permukiman penduduk, Pusat perbelanjaan'}, 50030142: {'user_id': 50030142, 'jenis_usaha': 'Usaha Kerajinan Tangan', 'skala_usaha': 'Menengah', 'modal_usaha': '11-30 JT', 'bidang_usaha': 'Industri kerajinan tangan dan souvenir', 'omset_usaha': '11-20 JT ', 'usia_targetpelanggan': '18-39 tahun, 40-59 tahun, >60 tahun', 'gender_targetpelanggan': 'Laki-laki, Perempuan', 'pekerjaan_targetpelanggan': 'Pelajar/mahasiswa,\\nPegawai negeri sipil,\\nWiraswasta,\\nPekerja informal, IRT', 'status_targetpelanggan': 'Kelas atas, Kelas menengah', 'jenis_lokasi_': ' Desa dan Alam, Area Wisata, Permukiman penduduk, Pusat perbelanjaan'}, 95010143: {'user_id': 95010143, 'jenis_usaha': 'Usaha Kreatif Aksesoris Perhiasan', 'skala_usaha': 'Mikro', 'modal_usaha': '5-10 JT', 'bidang_usaha': 'Industri fashion dan tekstil ', 'omset_usaha': '0-10 JT', 'usia_targetpelanggan': '18-39 tahun, 40-59 tahun, >60 tahun', 'gender_targetpelanggan': 'Perempuan', 'pekerjaan_targetpelanggan': 'Pelajar/mahasiswa,\\nPegawai negeri sipil,\\nWiraswasta,\\nPekerja informal,\\nIRT', 'status_targetpelanggan': 'Kelas atas, Kelas menengah', 'jenis_lokasi_': 'Pusat Kota dan Keramaian, Pusat perbelanjaan'}, 95020143: {'user_id': 95020143, 'jenis_usaha': 'Usaha Kreatif Aksesoris Perhiasan', 'skala_usaha': 'Kecil ', 'modal_usaha': '11-30 JT', 'bidang_usaha': 'Industri fashion dan tekstil ', 'omset_usaha': '11-20 JT ', 'usia_targetpelanggan': '18-39 tahun, 40-59 tahun, >60 tahun', 'gender_targetpelanggan': 'Perempuan', 'pekerjaan_targetpelanggan': 'Pelajar/mahasiswa,\\nPegawai negeri sipil,\\nWiraswasta,\\nPekerja informal,\\nIRT', 'status_targetpelanggan': 'Kelas atas, Kelas menengah', 'jenis_lokasi_': 'Pusat Kota dan Keramaian, Pusat perbelanjaan'}, 95030143: {'user_id': 95030143, 'jenis_usaha': 'Usaha Kreatif Aksesoris Perhiasan', 'skala_usaha': 'Menengah', 'modal_usaha': '30-50 JT', 'bidang_usaha': 'Industri fashion dan tekstil ', 'omset_usaha': '31-40 JT', 'usia_targetpelanggan': '18-39 tahun, 40-59 tahun, >60 tahun', 'gender_targetpelanggan': 'Perempuan', 'pekerjaan_targetpelanggan': 'Pelajar/mahasiswa,\\nPegawai negeri sipil,\\nWiraswasta,\\nPekerja informal,\\nIRT', 'status_targetpelanggan': 'Kelas atas, Kelas menengah', 'jenis_lokasi_': 'Pusat Kota dan Keramaian, Pusat perbelanjaan'}, 70020144: {'user_id': 70020144, 'jenis_usaha': 'Usaha Optik dan Kesehatan Mata', 'skala_usaha': 'Kecil ', 'modal_usaha': '30-50 JT', 'bidang_usaha': 'Jasa kesehatan dan kecantikan', 'omset_usaha': '11-20 JT ', 'usia_targetpelanggan': '2-11 tahun, 12-17 tahun, 18-39 tahun, 40-59 tahun, >60 tahun', 'gender_targetpelanggan': 'Laki-laki, Perempuan', 'pekerjaan_targetpelanggan': 'Pelajar/mahasiswa,\\nPegawai negeri sipil,\\nWiraswasta,\\nPekerja informal, IRT', 'status_targetpelanggan': 'Kelas atas, Kelas menengah', 'jenis_lokasi_': 'Pusat Kota dan Keramaian, Permukiman penduduk, Pusat perbelanjaan'}, 70030144: {'user_id': 70030144, 'jenis_usaha': 'Usaha Optik dan Kesehatan Mata', 'skala_usaha': 'Menengah', 'modal_usaha': '50-500 JT', 'bidang_usaha': 'Jasa kesehatan dan kecantikan', 'omset_usaha': '41-50 JT ', 'usia_targetpelanggan': '2-11 tahun, 12-17 tahun, 18-39 tahun, 40-59 tahun, >60 tahun', 'gender_targetpelanggan': 'Laki-laki, Perempuan', 'pekerjaan_targetpelanggan': 'Pelajar/mahasiswa,\\nPegawai negeri sipil,\\nWiraswasta,\\nPekerja informal, IRT', 'status_targetpelanggan': 'Kelas atas, Kelas menengah', 'jenis_lokasi_': 'Pusat Kota dan Keramaian, Permukiman penduduk, Pusat perbelanjaan'}, 50030145: {'user_id': 50030145, 'jenis_usaha': 'Usaha Panglong Kayu', 'skala_usaha': 'Menengah', 'modal_usaha': '<=1 M', 'bidang_usaha': 'Industri kerajinan tangan dan souvenir', 'omset_usaha': '>50 JT ', 'usia_targetpelanggan': '18-39 tahun, 40-59 tahun, >60 tahun', 'gender_targetpelanggan': 'Laki-laki', 'pekerjaan_targetpelanggan': 'Pengangguran,\\nPelajar/mahasiswa,\\nPegawai negeri sipil,\\nWiraswasta,\\nPetani,\\nNelayan,\\nPensiunan,\\nTidak bekerja tapi menerima penghasilan pasif,\\nPekerja informal', 'status_targetpelanggan': 'Kelas atas, Kelas menengah', 'jenis_lokasi_': 'Pusat Kota dan Keramaian, Permukiman penduduk, Desa dan Alam'}, 70010146: {'user_id': 70010146, 'jenis_usaha': 'Usaha Parfum dan Wangian', 'skala_usaha': 'Mikro', 'modal_usaha': '5-10 JT', 'bidang_usaha': 'Jasa kesehatan dan kecantikan', 'omset_usaha': '0-10 JT', 'usia_targetpelanggan': '12-17 tahun, 18-39 tahun, 40-59 tahun', 'gender_targetpelanggan': 'Laki-laki, Perempuan', 'pekerjaan_targetpelanggan': 'Pelajar/mahasiswa,\\nPegawai negeri sipil,\\nWiraswasta,\\nPekerja informal', 'status_targetpelanggan': 'Kelas atas, Kelas menengah', 'jenis_lokasi_': 'Pusat Kota dan Keramaian, Permukiman penduduk, Pusat perbelanjaan'}, 70020146: {'user_id': 70020146, 'jenis_usaha': 'Usaha Parfum dan Wangian', 'skala_usaha': 'Kecil ', 'modal_usaha': '11-30 JT', 'bidang_usaha': 'Jasa kesehatan dan kecantikan', 'omset_usaha': '11-20 JT ', 'usia_targetpelanggan': '12-17 tahun, 18-39 tahun, 40-59 tahun', 'gender_targetpelanggan': 'Laki-laki, Perempuan', 'pekerjaan_targetpelanggan': 'Pelajar/mahasiswa,\\nPegawai negeri sipil,\\nWiraswasta,\\nPekerja informal', 'status_targetpelanggan': 'Kelas atas, Kelas menengah', 'jenis_lokasi_': 'Pusat Kota dan Keramaian, Permukiman penduduk, Pusat perbelanjaan'}, 70030146: {'user_id': 70030146, 'jenis_usaha': 'Usaha Parfum dan Wangian', 'skala_usaha': 'Menengah', 'modal_usaha': '30-50 JT', 'bidang_usaha': 'Jasa kesehatan dan kecantikan', 'omset_usaha': '31-40 JT', 'usia_targetpelanggan': '12-17 tahun, 18-39 tahun, 40-59 tahun', 'gender_targetpelanggan': 'Laki-laki, Perempuan', 'pekerjaan_targetpelanggan': 'Pelajar/mahasiswa,\\nPegawai negeri sipil,\\nWiraswasta,\\nPekerja informal', 'status_targetpelanggan': 'Kelas atas, Kelas menengah', 'jenis_lokasi_': 'Pusat Kota dan Keramaian, Permukiman penduduk, Pusat perbelanjaan'}, 92010147: {'user_id': 92010147, 'jenis_usaha': 'Usaha Pembuatan Produk Homecare', 'skala_usaha': 'Mikro', 'modal_usaha': '11-30 JT', 'bidang_usaha': 'Jasa kebersihan', 'omset_usaha': '11-20 JT ', 'usia_targetpelanggan': ' 18-39 tahun, 40-59 tahun', 'gender_targetpelanggan': 'Laki-laki, Perempuan', 'pekerjaan_targetpelanggan': 'IRT', 'status_targetpelanggan': 'Kelas atas, Kelas menengah, Menuju kelas menengah, Kelas rentan, Kelas miskin', 'jenis_lokasi_': 'Pusat Kota dan Keramaian, Permukiman penduduk, Pusat perbelanjaan'}, 92020147: {'user_id': 92020147, 'jenis_usaha': 'Usaha Pembuatan Produk Homecare', 'skala_usaha': 'Kecil ', 'modal_usaha': '30-50 JT', 'bidang_usaha': 'Jasa kebersihan', 'omset_usaha': '21-30 JT', 'usia_targetpelanggan': ' 18-39 tahun, 40-59 tahun', 'gender_targetpelanggan': 'Laki-laki, Perempuan', 'pekerjaan_targetpelanggan': 'IRT', 'status_targetpelanggan': 'Kelas atas, Kelas menengah, Menuju kelas menengah, Kelas rentan, Kelas miskin', 'jenis_lokasi_': 'Pusat Kota dan Keramaian, Permukiman penduduk, Pusat perbelanjaan'}, 92030147: {'user_id': 92030147, 'jenis_usaha': 'Usaha Pembuatan Produk Homecare', 'skala_usaha': 'Menengah', 'modal_usaha': '50-500 JT', 'bidang_usaha': 'Jasa kebersihan', 'omset_usaha': '41-50 JT ', 'usia_targetpelanggan': ' 18-39 tahun, 40-59 tahun', 'gender_targetpelanggan': 'Laki-laki, Perempuan', 'pekerjaan_targetpelanggan': 'IRT', 'status_targetpelanggan': 'Kelas atas, Kelas menengah, Menuju kelas menengah, Kelas rentan, Kelas miskin', 'jenis_lokasi_': 'Pusat Kota dan Keramaian, Permukiman penduduk, Pusat perbelanjaan'}, 50010148: {'user_id': 50010148, 'jenis_usaha': 'Usaha Pembuatan Souvenir', 'skala_usaha': 'Mikro', 'modal_usaha': '3-5 JT', 'bidang_usaha': 'Industri kerajinan tangan dan souvenir', 'omset_usaha': '0-10 JT', 'usia_targetpelanggan': '12-17 tahun, 18-39 tahun, 40-59 tahun, >60 tahun', 'gender_targetpelanggan': 'Perempuan', 'pekerjaan_targetpelanggan': 'Pelajar/mahasiswa,\\nPegawai negeri sipil,\\nWiraswasta,\\nPekerja informal,\\nIRT', 'status_targetpelanggan': 'Kelas Menengah', 'jenis_lokasi_': 'Area Wisata, Terminal/transportasi umum'}, 50020148: {'user_id': 50020148, 'jenis_usaha': 'Usaha Pembuatan Souvenir', 'skala_usaha': 'Kecil ', 'modal_usaha': '11-30 JT', 'bidang_usaha': 'Industri kerajinan tangan dan souvenir', 'omset_usaha': '11-20 JT ', 'usia_targetpelanggan': '12-17 tahun, 18-39 tahun, 40-59 tahun, >60 tahun', 'gender_targetpelanggan': 'Perempuan', 'pekerjaan_targetpelanggan': 'Pelajar/mahasiswa,\\nPegawai negeri sipil,\\nWiraswasta,\\nPekerja informal,\\nIRT', 'status_targetpelanggan': 'Kelas atas, Kelas menengah', 'jenis_lokasi_': 'Area Wisata, Pusat Perbelanjaan'}, 50030148: {'user_id': 50030148, 'jenis_usaha': 'Usaha Pembuatan Souvenir', 'skala_usaha': 'Menengah', 'modal_usaha': '30-50 JT', 'bidang_usaha': 'Industri kerajinan tangan dan souvenir', 'omset_usaha': '31-40 JT', 'usia_targetpelanggan': '12-17 tahun, 18-39 tahun, 40-59 tahun, >60 tahun', 'gender_targetpelanggan': 'Perempuan', 'pekerjaan_targetpelanggan': 'Pelajar/mahasiswa,\\nPegawai negeri sipil,\\nWiraswasta,\\nPekerja informal,\\nIRT', 'status_targetpelanggan': 'Kelas atas, Kelas menengah', 'jenis_lokasi_': 'Area Wisata, Pusat Perbelanjaan'}, 10010149: {'user_id': 10010149, 'jenis_usaha': 'Usaha Pengolahan Agribisnis', 'skala_usaha': 'Mikro', 'modal_usaha': '3-5 JT', 'bidang_usaha': 'Pertanian dan perkebunan', 'omset_usaha': '0-10 JT', 'usia_targetpelanggan': '18-39 tahun, 40-59 tahun, >60 tahun', 'gender_targetpelanggan': 'Perempuan', 'pekerjaan_targetpelanggan': 'Petani, IRT', 'status_targetpelanggan': 'Kelas atas, Kelas menengah, Menuju kelas menengah, Kelas rentan, Kelas miskin', 'jenis_lokasi_': 'Pegunungan, Desa dan Alam, Permukiman penduduk'}, 10020149: {'user_id': 10020149, 'jenis_usaha': 'Usaha Pengolahan Agribisnis', 'skala_usaha': 'Kecil ', 'modal_usaha': '11-30 JT', 'bidang_usaha': 'Pertanian dan perkebunan', 'omset_usaha': '11-20 JT ', 'usia_targetpelanggan': '18-39 tahun, 40-59 tahun, >60 tahun', 'gender_targetpelanggan': 'Perempuan', 'pekerjaan_targetpelanggan': 'Petani, IRT', 'status_targetpelanggan': 'Kelas atas, Kelas menengah, Menuju kelas menengah, Kelas rentan, Kelas miskin', 'jenis_lokasi_': 'Pegunungan, Desa dan Alam, Permukiman penduduk'}, 10030149: {'user_id': 10030149, 'jenis_usaha': 'Usaha Pengolahan Agribisnis', 'skala_usaha': 'Menengah', 'modal_usaha': '30-50 JT', 'bidang_usaha': 'Pertanian dan perkebunan', 'omset_usaha': '21-30 JT', 'usia_targetpelanggan': '18-39 tahun, 40-59 tahun, >60 tahun', 'gender_targetpelanggan': 'Perempuan', 'pekerjaan_targetpelanggan': 'Petani, IRT', 'status_targetpelanggan': 'Kelas atas, Kelas menengah, Menuju kelas menengah, Kelas rentan, Kelas miskin', 'jenis_lokasi_': 'Pegunungan, Desa dan Alam, Permukiman penduduk'}, 94010150: {'user_id': 94010150, 'jenis_usaha': 'Usaha Perawatan Kendaraan', 'skala_usaha': 'Mikro', 'modal_usaha': '11-30 JT', 'bidang_usaha': 'Otomotif', 'omset_usaha': '0-10 JT', 'usia_targetpelanggan': '18-39 tahun, 40-59 tahun', 'gender_targetpelanggan': 'Laki-laki', 'pekerjaan_targetpelanggan': 'Pegawai negeri sipil,\\nWiraswasta,\\nTidak bekerja tapi menerima penghasilan pasif,\\nPekerja informal', 'status_targetpelanggan': 'Kelas atas', 'jenis_lokasi_': ' Pusat Kota dan Keramaian, Permukiman penduduk, Pusat perbelanjaan, Terminal/transportasi umum'}, 94020150: {'user_id': 94020150, 'jenis_usaha': 'Usaha Perawatan Kendaraan', 'skala_usaha': 'Kecil ', 'modal_usaha': '30-50 JT', 'bidang_usaha': 'Otomotif', 'omset_usaha': '21-30 JT', 'usia_targetpelanggan': '18-39 tahun, 40-59 tahun', 'gender_targetpelanggan': 'Laki-laki', 'pekerjaan_targetpelanggan': 'Pegawai negeri sipil,\\nWiraswasta,\\nTidak bekerja tapi menerima penghasilan pasif', 'status_targetpelanggan': 'Kelas atas', 'jenis_lokasi_': ' Pusat Kota dan Keramaian, Pusat perbelanjaan'}, 94030150: {'user_id': 94030150, 'jenis_usaha': 'Usaha Perawatan Kendaraan', 'skala_usaha': 'Menengah', 'modal_usaha': '50-500 JT', 'bidang_usaha': 'Otomotif', 'omset_usaha': '>50 JT ', 'usia_targetpelanggan': '18-39 tahun, 40-59 tahun', 'gender_targetpelanggan': 'Laki-laki', 'pekerjaan_targetpelanggan': 'Pegawai negeri sipil,\\nWiraswasta,\\nTidak bekerja tapi menerima penghasilan pasif', 'status_targetpelanggan': 'Kelas atas', 'jenis_lokasi_': ' Pusat Kota dan Keramaian, Pusat perbelanjaan'}, 91010151: {'user_id': 91010151, 'jenis_usaha': 'Usaha Perbaikan Alat Elektronik', 'skala_usaha': 'Mikro', 'modal_usaha': '5-10 JT', 'bidang_usaha': 'Jasa teknologi informasi dan komunikasi', 'omset_usaha': '0-10 JT', 'usia_targetpelanggan': ' 18-39 tahun, 40-59 tahun', 'gender_targetpelanggan': 'Laki-laki', 'pekerjaan_targetpelanggan': 'Pelajar/mahasiswa,\\nPegawai negeri sipil,\\nWiraswasta,\\nPekerja informal', 'status_targetpelanggan': 'Kelas atas, Kelas menengah, Menuju kelas menengah', 'jenis_lokasi_': 'Pusat Kota dan Keramaian, Lingkungan pendidikan, Perkantoran'}, 91020151: {'user_id': 91020151, 'jenis_usaha': 'Usaha Perbaikan Alat Elektronik', 'skala_usaha': 'Kecil ', 'modal_usaha': '11-30 JT', 'bidang_usaha': 'Jasa teknologi informasi dan komunikasi', 'omset_usaha': '11-20 JT ', 'usia_targetpelanggan': ' 18-39 tahun, 40-59 tahun', 'gender_targetpelanggan': 'Laki-laki', 'pekerjaan_targetpelanggan': 'Pelajar/mahasiswa,\\nPegawai negeri sipil,\\nWiraswasta,\\nPekerja informal', 'status_targetpelanggan': 'Kelas atas, Kelas menengah', 'jenis_lokasi_': 'Pusat Kota dan Keramaian, Lingkungan pendidikan, Perkantoran'}, 91030151: {'user_id': 91030151, 'jenis_usaha': 'Usaha Perbaikan Alat Elektronik', 'skala_usaha': 'Menengah', 'modal_usaha': '30-50 JT', 'bidang_usaha': 'Jasa teknologi informasi dan komunikasi', 'omset_usaha': '31-40 JT', 'usia_targetpelanggan': ' 18-39 tahun, 40-59 tahun', 'gender_targetpelanggan': 'Laki-laki', 'pekerjaan_targetpelanggan': 'Pelajar/mahasiswa,\\nPegawai negeri sipil,\\nWiraswasta,\\nTidak bekerja tapi menerima penghasilan pasif,\\r\\nPekerja informal,', 'status_targetpelanggan': 'Kelas atas, Kelas menengah', 'jenis_lokasi_': 'Pusat Kota dan Keramaian, Lingkungan pendidikan, Perkantoran'}, 95010152: {'user_id': 95010152, 'jenis_usaha': 'Usaha Perbaikan Sepatu', 'skala_usaha': 'Mikro', 'modal_usaha': '<=3 JT', 'bidang_usaha': 'Industri fashion dan tekstil ', 'omset_usaha': '0-10 JT', 'usia_targetpelanggan': '2-11 tahun, 12-17 tahun, 18-39 tahun, 40-59 tahun, >60 tahun', 'gender_targetpelanggan': 'Laki-laki, Perempuan', 'pekerjaan_targetpelanggan': 'Pelajar/mahasiswa,\\nPegawai negeri sipil,\\nWiraswasta,\\nPekerja informal,\\nIRT', 'status_targetpelanggan': 'Kelas atas, Kelas menengah, Menuju kelas menengah', 'jenis_lokasi_': 'Pusat Kota dan Keramaian, Desa dan Alam, Lingkungan pendidikan, Permukiman penduduk, Pusat perbelanjaan, Perkantoran'}, 95020152: {'user_id': 95020152, 'jenis_usaha': 'Usaha Perbaikan Sepatu', 'skala_usaha': 'Kecil ', 'modal_usaha': '3-5 JT', 'bidang_usaha': 'Industri fashion dan tekstil ', 'omset_usaha': '0-10 JT', 'usia_targetpelanggan': '2-11 tahun, 12-17 tahun, 18-39 tahun, 40-59 tahun, >60 tahun', 'gender_targetpelanggan': 'Laki-laki, Perempuan', 'pekerjaan_targetpelanggan': 'Pelajar/mahasiswa,\\nPegawai negeri sipil,\\nWiraswasta,\\nPekerja informal,\\nIRT', 'status_targetpelanggan': 'Kelas atas, Kelas menengah, Menuju kelas menengah', 'jenis_lokasi_': 'Pusat Kota dan Keramaian, Desa dan Alam, Lingkungan pendidikan, Permukiman penduduk, Pusat perbelanjaan, Perkantoran'}, 95030152: {'user_id': 95030152, 'jenis_usaha': 'Usaha Perbaikan Sepatu', 'skala_usaha': 'Menengah', 'modal_usaha': '5-10 JT', 'bidang_usaha': 'Industri fashion dan tekstil ', 'omset_usaha': '0-10 JT', 'usia_targetpelanggan': '2-11 tahun, 12-17 tahun, 18-39 tahun, 40-59 tahun, >60 tahun', 'gender_targetpelanggan': 'Laki-laki, Perempuan', 'pekerjaan_targetpelanggan': 'Pelajar/mahasiswa,\\nPegawai negeri sipil,\\nWiraswasta,\\nPekerja informal,\\nIRT', 'status_targetpelanggan': 'Kelas atas, Kelas menengah', 'jenis_lokasi_': 'Pusat Kota dan Keramaian, Desa dan Alam, Lingkungan pendidikan, Permukiman penduduk, Pusat perbelanjaan, Perkantoran'}, 40010153: {'user_id': 40010153, 'jenis_usaha': 'Usaha Perlengkapan dan Kebutuhan Olahraga', 'skala_usaha': 'Mikro', 'modal_usaha': '11-30 JT', 'bidang_usaha': 'Industri fashion dan tekstil', 'omset_usaha': '0-10 JT', 'usia_targetpelanggan': '12-17 tahun, 18-39 tahun, 40-59 tahun', 'gender_targetpelanggan': 'Laki-laki', 'pekerjaan_targetpelanggan': 'Pelajar/mahasiswa,\\nPegawai negeri sipil,\\nWiraswasta,\\nPekerja informal', 'status_targetpelanggan': 'Kelas menengah, Kelas atas', 'jenis_lokasi_': ' Pusat Kota dan Keramaian, Lingkungan pendidikan, Permukiman penduduk, Pusat perbelanjaan'}, 40020153: {'user_id': 40020153, 'jenis_usaha': 'Usaha Perlengkapan dan Kebutuhan Olahraga', 'skala_usaha': 'Kecil ', 'modal_usaha': '30-50 JT', 'bidang_usaha': 'Industri fashion dan tekstil', 'omset_usaha': '21-30 JT', 'usia_targetpelanggan': '12-17 tahun, 18-39 tahun, 40-59 tahun', 'gender_targetpelanggan': 'Laki-laki', 'pekerjaan_targetpelanggan': 'Pelajar/mahasiswa,\\nPegawai negeri sipil,\\nWiraswasta,\\nPekerja informal', 'status_targetpelanggan': 'Kelas menengah, Kelas atas', 'jenis_lokasi_': ' Pusat Kota dan Keramaian, Lingkungan pendidikan, Permukiman penduduk, Pusat perbelanjaan'}, 70010154: {'user_id': 70010154, 'jenis_usaha': 'Usaha Pijat dan Perawatan Tubuh', 'skala_usaha': 'Mikro', 'modal_usaha': '5-10 JT', 'bidang_usaha': 'Jasa kesehatan dan kecantikan', 'omset_usaha': '0-10 JT', 'usia_targetpelanggan': '12-17 tahun, 18-39 tahun, 40-59 tahun', 'gender_targetpelanggan': 'Perempuan', 'pekerjaan_targetpelanggan': 'Pelajar/mahasiswa,\\nPegawai negeri sipil,\\nWiraswasta,\\nPekerja informal', 'status_targetpelanggan': 'Kelas atas, Kelas menengah', 'jenis_lokasi_': 'Pusat Kota dan Keramaian, Permukiman penduduk, Pusat perbelanjaan'}, 70020154: {'user_id': 70020154, 'jenis_usaha': 'Usaha Pijat dan Perawatan Tubuh', 'skala_usaha': 'Kecil ', 'modal_usaha': '11-30 JT', 'bidang_usaha': 'Jasa kesehatan dan kecantikan', 'omset_usaha': '11-20 JT ', 'usia_targetpelanggan': '12-17 tahun, 18-39 tahun, 40-59 tahun', 'gender_targetpelanggan': 'Perempuan', 'pekerjaan_targetpelanggan': 'Pelajar/mahasiswa,\\nPegawai negeri sipil,\\nWiraswasta,\\nPekerja informal', 'status_targetpelanggan': 'Kelas atas, Kelas menengah', 'jenis_lokasi_': 'Pusat Kota dan Keramaian, Permukiman penduduk, Pusat perbelanjaan'}, 70030154: {'user_id': 70030154, 'jenis_usaha': 'Usaha Pijat dan Perawatan Tubuh', 'skala_usaha': 'Menengah', 'modal_usaha': '30-50 JT', 'bidang_usaha': 'Jasa kesehatan dan kecantikan', 'omset_usaha': '21-30 JT', 'usia_targetpelanggan': '12-17 tahun, 18-39 tahun, 40-59 tahun', 'gender_targetpelanggan': 'Perempuan', 'pekerjaan_targetpelanggan': 'Pelajar/mahasiswa,\\nPegawai negeri sipil,\\nWiraswasta,\\nPekerja informal', 'status_targetpelanggan': 'Kelas atas, Kelas menengah', 'jenis_lokasi_': 'Pusat Kota dan Keramaian, Permukiman penduduk, Pusat perbelanjaan'}, 30010155: {'user_id': 30010155, 'jenis_usaha': 'Usaha Produk Manisan', 'skala_usaha': 'Mikro', 'modal_usaha': '3-5 JT', 'bidang_usaha': 'Industri makanan dan minuman', 'omset_usaha': '0-10 JT', 'usia_targetpelanggan': '2-11 tahun, 12-17 tahun, 18-39 tahun, 40-59 tahun, >60 tahun', 'gender_targetpelanggan': 'Perempuan', 'pekerjaan_targetpelanggan': 'Pengangguran,\\nPelajar/mahasiswa,\\nPegawai negeri sipil,\\nWiraswasta,\\nPetani,\\nNelayan,\\nPensiunan,\\nTidak bekerja tapi menerima penghasilan pasif,\\nPekerja informal', 'status_targetpelanggan': 'Kelas atas, Kelas menengah', 'jenis_lokasi_': 'Pusat Kota dan Keramaian, Permukiman penduduk, Pusat perbelanjaan, Desa dan Alam, Area Wisata'}, 30020155: {'user_id': 30020155, 'jenis_usaha': 'Usaha Produk Manisan', 'skala_usaha': 'Kecil ', 'modal_usaha': '5-10 JT', 'bidang_usaha': 'Industri makanan dan minuman', 'omset_usaha': '0-10 JT', 'usia_targetpelanggan': '2-11 tahun, 12-17 tahun, 18-39 tahun, 40-59 tahun, >60 tahun', 'gender_targetpelanggan': 'Perempuan', 'pekerjaan_targetpelanggan': 'Pengangguran,\\nPelajar/mahasiswa,\\nPegawai negeri sipil,\\nWiraswasta,\\nPetani,\\nNelayan,\\nPensiunan,\\nTidak bekerja tapi menerima penghasilan pasif,\\nPekerja informal', 'status_targetpelanggan': 'Kelas atas, Kelas menengah', 'jenis_lokasi_': 'Pusat Kota dan Keramaian, Permukiman penduduk, Pusat perbelanjaan, Desa dan Alam, Area Wisata'}, 30030155: {'user_id': 30030155, 'jenis_usaha': 'Usaha Produk Manisan', 'skala_usaha': 'Menengah', 'modal_usaha': '11-30 JT', 'bidang_usaha': 'Industri makanan dan minuman', 'omset_usaha': '11-20 JT ', 'usia_targetpelanggan': '2-11 tahun, 12-17 tahun, 18-39 tahun, 40-59 tahun, >60 tahun', 'gender_targetpelanggan': 'Perempuan', 'pekerjaan_targetpelanggan': 'Pengangguran,\\nPelajar/mahasiswa,\\nPegawai negeri sipil,\\nWiraswasta,\\nPetani,\\nNelayan,\\nPensiunan,\\nTidak bekerja tapi menerima penghasilan pasif,\\nPekerja informal', 'status_targetpelanggan': 'Kelas atas, Kelas menengah', 'jenis_lokasi_': 'Pusat Kota dan Keramaian, Permukiman penduduk, Pusat perbelanjaan, Desa dan Alam, Area Wisata'}, 95010156: {'user_id': 95010156, 'jenis_usaha': 'Usaha Produksi Kemasan', 'skala_usaha': 'Mikro', 'modal_usaha': '5-10 JT', 'bidang_usaha': 'Lainnya', 'omset_usaha': '0-10 JT', 'usia_targetpelanggan': '18-39 tahun, 40-59 tahun, >60 tahun', 'gender_targetpelanggan': 'Laki-laki, Perempuan', 'pekerjaan_targetpelanggan': 'Pengangguran, Pelajar/mahasiswa, Pegawai negeri sipil,   Wiraswasta, Petani, Nelayan, Pensiunan, Tidak bekerja tapi menerima penghasilan pasif, Pekerja informal, IRT', 'status_targetpelanggan': 'Kelas atas, Kelas menengah, Menuju kelas menengah, Kelas rentan, Kelas miskin', 'jenis_lokasi_': 'Pusat Kota dan Keramaian, Permukiman penduduk, Pusat perbelanjaan'}, 95020156: {'user_id': 95020156, 'jenis_usaha': 'Usaha Produksi Kemasan', 'skala_usaha': 'Kecil ', 'modal_usaha': '11-30 JT', 'bidang_usaha': 'Lainnya', 'omset_usaha': '11-20 JT ', 'usia_targetpelanggan': '18-39 tahun, 40-59 tahun, >60 tahun', 'gender_targetpelanggan': 'Laki-laki, Perempuan', 'pekerjaan_targetpelanggan': 'Pengangguran, Pelajar/mahasiswa, Pegawai negeri sipil,   Wiraswasta, Petani, Nelayan, Pensiunan, Tidak bekerja tapi menerima penghasilan pasif, Pekerja informal, IRT', 'status_targetpelanggan': 'Kelas atas, Kelas menengah, Menuju kelas menengah, Kelas rentan, Kelas miskin', 'jenis_lokasi_': 'Pusat Kota dan Keramaian, Permukiman penduduk, Pusat perbelanjaan'}, 93030157: {'user_id': 93030157, 'jenis_usaha': 'Usaha Sewa Kamar Tinggal', 'skala_usaha': 'Menengah', 'modal_usaha': '<=1 M', 'bidang_usaha': 'Jasa keamanan', 'omset_usaha': '41-50 JT ', 'usia_targetpelanggan': '18-39 tahun, 40-59 tahun, >60 tahun', 'gender_targetpelanggan': 'Laki-laki, Perempuan', 'pekerjaan_targetpelanggan': 'Pelajar/mahasiswa,\\nPegawai negeri sipil,\\nWiraswasta,\\nPekerja informal', 'status_targetpelanggan': 'Kelas atas, Kelas menengah', 'jenis_lokasi_': 'Pusat Kota dan Keramaian, Perkantoran'}, 94030158: {'user_id': 94030158, 'jenis_usaha': 'Usaha Sewa Kendaraan', 'skala_usaha': 'Menengah', 'modal_usaha': '<=1 M', 'bidang_usaha': 'Otomotif', 'omset_usaha': '>50 JT', 'usia_targetpelanggan': '18-39 tahun, 40-59 tahun, >60 tahun', 'gender_targetpelanggan': 'Laki-laki', 'pekerjaan_targetpelanggan': 'Pelajar/mahasiswa,\\nPegawai negeri sipil,\\nWiraswasta,\\nTidak bekerja tapi menerima penghasilan pasif,\\nPekerja informal', 'status_targetpelanggan': 'Kelas atas, Kelas menengah', 'jenis_lokasi_': 'Pusat Kota dan Keramaian, Kawasan Industri'}, 95020159: {'user_id': 95020159, 'jenis_usaha': 'Usaha Sewa Komputer dan Peralatan', 'skala_usaha': 'Kecil ', 'modal_usaha': '11-30 JT', 'bidang_usaha': 'Jasa teknologi informasi dan komunikasi ', 'omset_usaha': '0-10 JT', 'usia_targetpelanggan': ' 18-39 tahun, 40-59 tahun, >60 tahun', 'gender_targetpelanggan': 'Laki-laki', 'pekerjaan_targetpelanggan': 'Pelajar/mahasiswa,\\nPegawai negeri sipil,\\nWiraswasta,\\nPekerja informal', 'status_targetpelanggan': 'Kelas atas, Kelas menengah', 'jenis_lokasi_': 'Pusat Kota dan Keramaian, Lingkungan pendidikan, Perkantoran, Desa dan Alam'}, 95030159: {'user_id': 95030159, 'jenis_usaha': 'Usaha Sewa Komputer dan Peralatan', 'skala_usaha': 'Menengah', 'modal_usaha': '30-50 JT', 'bidang_usaha': 'Jasa teknologi informasi dan komunikasi ', 'omset_usaha': '21-30 JT', 'usia_targetpelanggan': ' 18-39 tahun, 40-59 tahun, >60 tahun', 'gender_targetpelanggan': 'Laki-laki', 'pekerjaan_targetpelanggan': 'Pelajar/mahasiswa,\\nPegawai negeri sipil,\\nWiraswasta,\\nPekerja informal', 'status_targetpelanggan': 'Kelas atas, Kelas menengah', 'jenis_lokasi_': 'Pusat Kota dan Keramaian, Lingkungan pendidikan, Perkantoran, Desa dan Alam'}, 20010160: {'user_id': 20010160, 'jenis_usaha': 'Usaha Ternak Ikan', 'skala_usaha': 'Mikro', 'modal_usaha': '11-30 JT', 'bidang_usaha': 'Perikanan dan kelautan', 'omset_usaha': '0-10 JT', 'usia_targetpelanggan': '18-39 tahun, 40-59 tahun, >60 tahun', 'gender_targetpelanggan': 'Laki-laki', 'pekerjaan_targetpelanggan': 'Pengangguran,\\nPelajar/mahasiswa,\\nPegawai negeri sipil,\\nWiraswasta,\\nTidak bekerja tapi menerima penghasilan pasif,\\nPekerja informal,\\nIRT', 'status_targetpelanggan': 'Kelas atas, Kelas menengah, Menuju kelas menengah, Kelas rentan, Kelas miskin', 'jenis_lokasi_': 'Pegunungan, Desa dan Alam, Permukiman penduduk'}, 20020160: {'user_id': 20020160, 'jenis_usaha': 'Usaha Ternak Ikan', 'skala_usaha': 'Kecil ', 'modal_usaha': '11-30 JT', 'bidang_usaha': 'Perikanan dan kelautan', 'omset_usaha': '11-20 JT ', 'usia_targetpelanggan': '18-39 tahun, 40-59 tahun, >60 tahun', 'gender_targetpelanggan': 'Laki-laki', 'pekerjaan_targetpelanggan': 'Pengangguran,\\nPelajar/mahasiswa,\\nPegawai negeri sipil,\\nWiraswasta,\\nTidak bekerja tapi menerima penghasilan pasif,\\nPekerja informal,\\nIRT', 'status_targetpelanggan': 'Kelas atas, Kelas menengah, Menuju kelas menengah, Kelas rentan, Kelas miskin', 'jenis_lokasi_': 'Pegunungan, Desa dan Alam, Permukiman penduduk'}, 20030160: {'user_id': 20030160, 'jenis_usaha': 'Usaha Ternak Ikan', 'skala_usaha': 'Menengah', 'modal_usaha': '30-50 JT', 'bidang_usaha': 'Perikanan dan kelautan', 'omset_usaha': '21-30 JT', 'usia_targetpelanggan': '18-39 tahun, 40-59 tahun, >60 tahun', 'gender_targetpelanggan': 'Laki-laki', 'pekerjaan_targetpelanggan': 'Pengangguran,\\nPelajar/mahasiswa,\\nPegawai negeri sipil,\\nWiraswasta,\\nTidak bekerja tapi menerima penghasilan pasif,\\nPekerja informal,\\nIRT', 'status_targetpelanggan': 'Kelas atas, Kelas menengah, Menuju kelas menengah, Kelas rentan, Kelas miskin', 'jenis_lokasi_': 'Pegunungan, Desa dan Alam, Permukiman penduduk'}, 30010161: {'user_id': 30010161, 'jenis_usaha': 'Usaha Trend Minuman', 'skala_usaha': 'Mikro', 'modal_usaha': '3-5 JT', 'bidang_usaha': 'Industri makanan dan minuman', 'omset_usaha': '0-10 JT', 'usia_targetpelanggan': '2-11 tahun, 12-17 tahun, 18-39 tahun', 'gender_targetpelanggan': 'Perempuan', 'pekerjaan_targetpelanggan': 'Pelajar/mahasiswa,\\nPegawai negeri sipil,\\nWiraswasta,\\nPekerja informal', 'status_targetpelanggan': 'Kelas atas, Kelas menengah', 'jenis_lokasi_': 'Pusat Kota dan Keramaian, Permukiman penduduk, Pusat perbelanjaan, Desa dan Alam, Area Wisata'}, 30020161: {'user_id': 30020161, 'jenis_usaha': 'Usaha Trend Minuman', 'skala_usaha': 'Kecil ', 'modal_usaha': '5-10 JT', 'bidang_usaha': 'Industri makanan dan minuman', 'omset_usaha': '0-10 JT', 'usia_targetpelanggan': '2-11 tahun, 12-17 tahun, 18-39 tahun', 'gender_targetpelanggan': 'Perempuan', 'pekerjaan_targetpelanggan': 'Pelajar/mahasiswa,\\nPegawai negeri sipil,\\nWiraswasta,\\nPekerja informal', 'status_targetpelanggan': 'Kelas atas, Kelas menengah', 'jenis_lokasi_': 'Pusat Kota dan Keramaian, Permukiman penduduk, Pusat perbelanjaan, Desa dan Alam, Area Wisata'}, 30030161: {'user_id': 30030161, 'jenis_usaha': 'Usaha Trend Minuman', 'skala_usaha': 'Menengah', 'modal_usaha': '11-30 JT', 'bidang_usaha': 'Industri makanan dan minuman', 'omset_usaha': '11-20 JT ', 'usia_targetpelanggan': '2-11 tahun, 12-17 tahun, 18-39 tahun', 'gender_targetpelanggan': 'Perempuan', 'pekerjaan_targetpelanggan': 'Pelajar/mahasiswa,\\nPegawai negeri sipil,\\nWiraswasta,\\nPekerja informal', 'status_targetpelanggan': 'Kelas atas, Kelas menengah', 'jenis_lokasi_': 'Pusat Kota dan Keramaian, Permukiman penduduk, Pusat perbelanjaan, Desa dan Alam, Area Wisata'}, 95010162: {'user_id': 95010162, 'jenis_usaha': 'Usaha Pengepul Rongsokan', 'skala_usaha': 'Mikro', 'modal_usaha': '3-5 JT', 'bidang_usaha': 'Lainnya', 'omset_usaha': '0-10 JT', 'usia_targetpelanggan': '18-39 tahun, 40-59 tahun, >60 tahun', 'gender_targetpelanggan': 'Laki-laki, Perempuan', 'pekerjaan_targetpelanggan': 'IRT', 'status_targetpelanggan': 'Kelas atas, Kelas menengah, Menuju kelas menengah, Kelas rentan, Kelas miskin', 'jenis_lokasi_': 'Permukiman penduduk,Desa dan Alam, Area Wisata'}, 90010163: {'user_id': 90010163, 'jenis_usaha': 'Usaha Event Organizer', 'skala_usaha': 'Mikro', 'modal_usaha': '5-10 JT', 'bidang_usaha': 'Jasa konsultasi dan manajemen', 'omset_usaha': '0-10 JT', 'usia_targetpelanggan': ' 18-39 tahun, 40-59 tahun', 'gender_targetpelanggan': 'Laki-laki, Perempuan', 'pekerjaan_targetpelanggan': 'Pelajar/mahasiswa,\\nPegawai negeri sipil,\\nWiraswasta,\\nPensiunan,\\nTidak bekerja tapi menerima penghasilan pasif,\\nPekerja informal,\\nIRT', 'status_targetpelanggan': 'Kelas atas, Kelas menengah', 'jenis_lokasi_': 'Pusat Kota dan Keramaian, Permukiman penduduk, Pusat perbelanjaan'}, 90020163: {'user_id': 90020163, 'jenis_usaha': 'Usaha Event Organizer', 'skala_usaha': 'Kecil ', 'modal_usaha': '30-50 JT', 'bidang_usaha': 'Jasa konsultasi dan manajemen', 'omset_usaha': '11-20 JT ', 'usia_targetpelanggan': ' 18-39 tahun, 40-59 tahun', 'gender_targetpelanggan': 'Laki-laki, Perempuan', 'pekerjaan_targetpelanggan': 'Pelajar/mahasiswa,\\nPegawai negeri sipil,\\nWiraswasta,\\nPensiunan,\\nTidak bekerja tapi menerima penghasilan pasif,\\nPekerja informal,\\nIRT', 'status_targetpelanggan': 'Kelas atas, Kelas menengah', 'jenis_lokasi_': 'Pusat Kota dan Keramaian, Permukiman penduduk, Pusat perbelanjaan'}, 60010164: {'user_id': 60010164, 'jenis_usaha': 'Usaha Sewa Tempat Olahraga', 'skala_usaha': 'Mikro', 'modal_usaha': '11-30 JT', 'bidang_usaha': 'Pendidikan dan pelatihan', 'omset_usaha': '0-10 JT', 'usia_targetpelanggan': '12-17 tahun, 18-39 tahun, 40-59 tahun', 'gender_targetpelanggan': 'Laki-laki, Perempuan', 'pekerjaan_targetpelanggan': 'Pelajar/mahasiswa,\\nPegawai negeri sipil,\\nWiraswasta,\\nPensiunan,\\nTidak bekerja tapi menerima penghasilan pasif,\\nPekerja informal', 'status_targetpelanggan': 'Kelas atas, Kelas menengah', 'jenis_lokasi_': 'Pusat Kota dan Keramaian, Permukiman penduduk, Pusat perbelanjaan'}, 60020164: {'user_id': 60020164, 'jenis_usaha': 'Usaha Sewa Tempat Olahraga', 'skala_usaha': 'Kecil ', 'modal_usaha': '30-50 JT', 'bidang_usaha': 'Pendidikan dan pelatihan', 'omset_usaha': '11-20 JT ', 'usia_targetpelanggan': '12-17 tahun, 18-39 tahun, 40-59 tahun', 'gender_targetpelanggan': 'Laki-laki, Perempuan', 'pekerjaan_targetpelanggan': 'Pelajar/mahasiswa,\\nPegawai negeri sipil,\\nWiraswasta,\\nPensiunan,\\nTidak bekerja tapi menerima penghasilan pasif,\\nPekerja informal', 'status_targetpelanggan': 'Kelas atas, Kelas menengah', 'jenis_lokasi_': 'Pusat Kota dan Keramaian, Permukiman penduduk, Pusat perbelanjaan'}, 60030164: {'user_id': 60030164, 'jenis_usaha': 'Usaha Sewa Tempat Olahraga', 'skala_usaha': 'Menengah', 'modal_usaha': '<=1 M', 'bidang_usaha': 'Pendidikan dan pelatihan', 'omset_usaha': '21-30 JT', 'usia_targetpelanggan': '12-17 tahun, 18-39 tahun, 40-59 tahun', 'gender_targetpelanggan': 'Laki-laki, Perempuan', 'pekerjaan_targetpelanggan': 'Pelajar/mahasiswa,\\nPegawai negeri sipil,\\nWiraswasta,\\nPensiunan,\\nTidak bekerja tapi menerima penghasilan pasif,\\nPekerja informal', 'status_targetpelanggan': 'Kelas atas, Kelas menengah', 'jenis_lokasi_': 'Pusat Kota dan Keramaian, Permukiman penduduk, Pusat perbelanjaan'}, 95010165: {'user_id': 95010165, 'jenis_usaha': 'Usaha Tour and Travel', 'skala_usaha': 'Mikro', 'modal_usaha': '30-50 JT', 'bidang_usaha': 'Lainnya', 'omset_usaha': '11-20 JT ', 'usia_targetpelanggan': '12-17 tahun, 18-39 tahun, 40-59 tahun', 'gender_targetpelanggan': 'Laki-laki, Perempuan', 'pekerjaan_targetpelanggan': 'Pelajar/mahasiswa,\\nPegawai negeri sipil,\\nWiraswasta,\\nPensiunan,\\nTidak bekerja tapi menerima penghasilan pasif,\\nPekerja informal', 'status_targetpelanggan': 'Kelas atas, Kelas menengah', 'jenis_lokasi_': 'Pegunungan, Pusat Kota dan Keramaian, Desa dan Alam, Permukiman penduduk, Pusat perbelanjaan, Terminal/transportasi umum'}, 95020165: {'user_id': 95020165, 'jenis_usaha': 'Usaha Tour and Travel', 'skala_usaha': 'Kecil ', 'modal_usaha': '50-500 JT', 'bidang_usaha': 'Lainnya', 'omset_usaha': '21-30 JT', 'usia_targetpelanggan': '12-17 tahun, 18-39 tahun, 40-59 tahun', 'gender_targetpelanggan': 'Laki-laki, Perempuan', 'pekerjaan_targetpelanggan': 'Pelajar/mahasiswa,\\nPegawai negeri sipil,\\nWiraswasta,\\nPensiunan,\\nTidak bekerja tapi menerima penghasilan pasif,\\nPekerja informal', 'status_targetpelanggan': 'Kelas atas, Kelas menengah', 'jenis_lokasi_': 'Pegunungan, Pusat Kota dan Keramaian, Desa dan Alam, Permukiman penduduk, Pusat perbelanjaan, Terminal/transportasi umum'}, 60010166: {'user_id': 60010166, 'jenis_usaha': 'Usaha Toko Buku ', 'skala_usaha': 'Mikro', 'modal_usaha': '11-30 JT', 'bidang_usaha': 'Pendidikan dan pelatihan', 'omset_usaha': '11-20 JT ', 'usia_targetpelanggan': '12-17 tahun, 18-39 tahun, 40-59 tahun', 'gender_targetpelanggan': 'Laki-laki, Perempuan', 'pekerjaan_targetpelanggan': 'Pelajar/mahasiswa,\\nPegawai negeri sipil,\\nWiraswasta,\\nPensiunan,\\nTidak bekerja tapi menerima penghasilan pasif,\\nPekerja informal', 'status_targetpelanggan': 'Kelas atas, Kelas menengah, Menuju kelas menengah, Kelas rentan, Kelas miskin', 'jenis_lokasi_': 'Pusat Kota dan Keramaian, Lingkungan pendidikan, Permukiman penduduk, Perkantoran, Kawasan industri'}, 95020167: {'user_id': 95020167, 'jenis_usaha': 'Usaha Waralaba ', 'skala_usaha': 'Kecil ', 'modal_usaha': '50-500 JT', 'bidang_usaha': 'Lainnya', 'omset_usaha': '21-30 JT', 'usia_targetpelanggan': '12-17 tahun, 18-39 tahun, 40-59 tahun', 'gender_targetpelanggan': 'Laki-laki, Perempuan', 'pekerjaan_targetpelanggan': 'Pengangguran,\\nPelajar/mahasiswa,\\nPegawai negeri sipil,\\nWiraswasta,\\nPensiunan,\\nTidak bekerja tapi menerima penghasilan pasif,\\nPekerja informal,\\nIRT', 'status_targetpelanggan': 'Kelas atas, Kelas menengah', 'jenis_lokasi_': 'Pusat Kota dan Keramaian, Lingkungan pendidikan, Permukiman penduduk, Perkantoran, Kawasan industri'}, 95010168: {'user_id': 95010168, 'jenis_usaha': 'Usaha Jasa Digital ', 'skala_usaha': 'Mikro', 'modal_usaha': '<=3 JT', 'bidang_usaha': 'Jasa teknologi informasi dan komunikasi ', 'omset_usaha': '0-10 JT', 'usia_targetpelanggan': '12-17 tahun, 18-39 tahun, 40-59 tahun', 'gender_targetpelanggan': 'Laki-laki, Perempuan', 'pekerjaan_targetpelanggan': 'Pelajar/mahasiswa,\\nPegawai negeri sipil,\\nWiraswasta,\\nPekerja informal', 'status_targetpelanggan': 'Kelas atas, Kelas menengah', 'jenis_lokasi_': 'Pusat Kota dan Keramaian, Lingkungan pendidikan, Permukiman penduduk, Perkantoran, Kawasan industri'}, 95010169: {'user_id': 95010169, 'jenis_usaha': 'Usaha Sewa Fashion ', 'skala_usaha': 'Mikro', 'modal_usaha': '<=3 JT', 'bidang_usaha': 'Industri fashion dan tekstil ', 'omset_usaha': '0-10 JT', 'usia_targetpelanggan': '12-17 tahun, 18-39 tahun, 40-59 tahun', 'gender_targetpelanggan': 'Perempuan', 'pekerjaan_targetpelanggan': 'Pelajar/mahasiswa,\\nPegawai negeri sipil,\\nWiraswasta,\\nPekerja informal', 'status_targetpelanggan': 'Kelas atas, Kelas menengah', 'jenis_lokasi_': 'Pusat Kota dan Keramaian, Lingkungan pendidikan, Permukiman penduduk, Perkantoran, Kawasan industri'}, 60010170: {'user_id': 60010170, 'jenis_usaha': 'Usaha Sewa Peralatan Olahraga ', 'skala_usaha': 'Mikro', 'modal_usaha': '11-30 JT', 'bidang_usaha': 'Pendidikan dan pelatihan', 'omset_usaha': '0-10 JT', 'usia_targetpelanggan': '12-17 tahun, 18-39 tahun, 40-59 tahun', 'gender_targetpelanggan': 'Laki-laki, Perempuan', 'pekerjaan_targetpelanggan': 'Pelajar/mahasiswa,\\nPegawai negeri sipil,\\nWiraswasta,\\nPensiunan,\\nTidak bekerja tapi menerima penghasilan pasif,\\nPekerja informal', 'status_targetpelanggan': 'Kelas atas, Kelas menengah', 'jenis_lokasi_': 'Pusat Kota dan Keramaian, Lingkungan pendidikan, Permukiman penduduk, Perkantoran, Kawasan industri'}, 95010171: {'user_id': 95010171, 'jenis_usaha': 'Usaha Sewa Peralatan Content Creator ', 'skala_usaha': 'Mikro', 'modal_usaha': '11-30 JT', 'bidang_usaha': 'Lainnya', 'omset_usaha': '0-10 JT', 'usia_targetpelanggan': '12-17 tahun, 18-39 tahun, 40-59 tahun', 'gender_targetpelanggan': 'Laki-laki, Perempuan', 'pekerjaan_targetpelanggan': 'Pelajar/mahasiswa,\\nPegawai negeri sipil,\\nWiraswasta,\\nPensiunan,\\nTidak bekerja tapi menerima penghasilan pasif,\\nPekerja informal', 'status_targetpelanggan': 'Kelas atas, Kelas menengah', 'jenis_lokasi_': 'Pusat Kota dan Keramaian, Lingkungan pendidikan, Permukiman penduduk, Perkantoran, Kawasan industri'}, 90010172: {'user_id': 90010172, 'jenis_usaha': 'Usaha Design Interior ', 'skala_usaha': 'Mikro', 'modal_usaha': '11-30 JT', 'bidang_usaha': 'Jasa konsultasi dan manajemen', 'omset_usaha': '0-10 JT', 'usia_targetpelanggan': '12-17 tahun, 18-39 tahun, 40-59 tahun', 'gender_targetpelanggan': 'Laki-laki, Perempuan', 'pekerjaan_targetpelanggan': 'Pelajar/mahasiswa,\\nPegawai negeri sipil,\\nWiraswasta,\\nPensiunan,\\nTidak bekerja tapi menerima penghasilan pasif,\\nPekerja informal, IRT', 'status_targetpelanggan': 'Kelas atas, Kelas menengah', 'jenis_lokasi_': 'Pusat Kota dan Keramaian, Lingkungan pendidikan, Permukiman penduduk, Perkantoran, Kawasan industri'}}\n"
          ]
        }
      ]
    },
    {
      "cell_type": "code",
      "source": [
        "def stem(txt):\n",
        "    y = []\n",
        "    porterStemmer = PorterStemmer()\n",
        "    for t in txt.split():\n",
        "        y.append(porterStemmer.stem(t))\n",
        "    return \" \".join(y)\n",
        "    \n",
        "\n",
        "text_features= tf.data.Dataset.from_tensor_slices(new_df['features'])\n",
        "max_features = 5000 \n",
        "max_len = 70\n",
        "\n",
        "vectorize_layer = tf.keras.layers.TextVectorization(\n",
        "    max_tokens=max_features, \n",
        "    output_mode='int', \n",
        "    output_sequence_length = max_len\n",
        ")\n",
        "\n",
        "vectorize_layer.adapt(text_features.batch(10))\n",
        "\n",
        "model = tf.keras.models.Sequential()\n",
        "\n",
        "model.add(tf.keras.Input(shape=(1,), dtype=tf.string))\n",
        "model.add(vectorize_layer)\n",
        "\n",
        "\n",
        "def getSimilarityMatrix():\n",
        "    new_df.features = new_df.features.apply(stem)\n",
        "    x =  model.predict(new_df['features'])\n",
        "    similarity = cosine_similarity(x)\n",
        "\n",
        "    return similarity\n",
        "\n",
        "def getRecommendation(user_id):\n",
        "    usaha_index = new_df[new_df['user_id'] == user_id].index[0]\n",
        "    similarity = getSimilarityMatrix()\n",
        "    distances = similarity[usaha_index]\n",
        "    usaha_list = sorted(list(enumerate(distances)),reverse=True, key=lambda x:x[1])[1:5]\n",
        "    \n",
        "    for i in usaha_list:\n",
        "        print(new_df.iloc[i[0]].user_id, \" - \", df.iloc[i[0]].jenis_usaha)\n",
        "        print(i)\n",
        "        print(df.iloc[i[0]].modal_usaha, df.iloc[i[0]].bidang_usaha, df.iloc[i[0]].omset_usaha, df.iloc[i[0]].usia_targetpelanggan, df.iloc[i[0]].gender_targetpelanggan) #df.iloc[i[0]].pekerjaan_targetpelanggan,df.iloc[i[0]].jenis_lokasi_ )\n"
      ],
      "metadata": {
        "id": "8TFDXyQoq3kR"
      },
      "execution_count": null,
      "outputs": []
    },
    {
      "cell_type": "code",
      "source": [
        "getRecommendation(\"70030144\")"
      ],
      "metadata": {
        "id": "jxVgyiyjD1dH",
        "colab": {
          "base_uri": "https://localhost:8080/"
        },
        "outputId": "5aa97874-9733-4b9e-d3f3-3520d59d2d4f"
      },
      "execution_count": null,
      "outputs": [
        {
          "output_type": "stream",
          "name": "stderr",
          "text": [
            "<ipython-input-13-4442b5ee352f>:28: SettingWithCopyWarning: \n",
            "A value is trying to be set on a copy of a slice from a DataFrame.\n",
            "Try using .loc[row_indexer,col_indexer] = value instead\n",
            "\n",
            "See the caveats in the documentation: https://pandas.pydata.org/pandas-docs/stable/user_guide/indexing.html#returning-a-view-versus-a-copy\n",
            "  new_df.features = new_df.features.apply(stem)\n"
          ]
        },
        {
          "output_type": "stream",
          "name": "stdout",
          "text": [
            "6/6 [==============================] - 0s 2ms/step\n",
            "70020144  -  Usaha Optik dan Kesehatan Mata\n",
            "(120, 0.9658865883005587)\n",
            "30-50 JT Jasa kesehatan dan kecantikan 11-20 JT  2-11 tahun, 12-17 tahun, 18-39 tahun, 40-59 tahun, >60 tahun Laki-laki, Perempuan\n",
            "70030102  -  Barbershop\n",
            "(5, 0.9456174041655385)\n",
            "50-500 JT Jasa kesehatan dan kecantikan 41-50 JT  2-11 tahun, 12-17 tahun, 18-39 tahun, 40-59 tahun, >60 tahun Laki-laki\n",
            "70020102  -  Barbershop\n",
            "(4, 0.9238800635786312)\n",
            "30-50 JT Jasa kesehatan dan kecantikan 31-40 JT 2-11 tahun, 12-17 tahun, 18-39 tahun, 40-59 tahun, >60 tahun Laki-laki\n",
            "70030114  -  Salon\n",
            "(37, 0.9195392486415576)\n",
            "50-500 JT Jasa kesehatan dan kecantikan 41-50 JT   2-11 tahun, 12-17 tahun, 18-39 tahun Perempuan\n"
          ]
        }
      ]
    },
    {
      "cell_type": "code",
      "source": [],
      "metadata": {
        "id": "DSCqzYdV1fa_"
      },
      "execution_count": null,
      "outputs": []
    }
  ],
  "metadata": {
    "colab": {
      "provenance": [],
      "collapsed_sections": [
        "5ljZOyi6CaLW",
        "r0kA_wAECPAe",
        "1aymD3F-cYrH",
        "jS-eiEoF5aks"
      ],
      "toc_visible": true,
      "include_colab_link": true
    },
    "kernelspec": {
      "display_name": "Python 3",
      "name": "python3"
    },
    "language_info": {
      "name": "python"
    }
  },
  "nbformat": 4,
  "nbformat_minor": 0
}